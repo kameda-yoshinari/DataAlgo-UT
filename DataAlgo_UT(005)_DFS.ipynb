{
  "nbformat": 4,
  "nbformat_minor": 0,
  "metadata": {
    "colab": {
      "provenance": [],
      "include_colab_link": true
    },
    "kernelspec": {
      "name": "python3",
      "display_name": "Python 3"
    }
  },
  "cells": [
    {
      "cell_type": "markdown",
      "metadata": {
        "id": "view-in-github",
        "colab_type": "text"
      },
      "source": [
        "<a href=\"https://colab.research.google.com/github/kameda-yoshinari/DataAlgo-UT/blob/main/DataAlgo_UT(005)_DFS.ipynb\" target=\"_parent\"><img src=\"https://colab.research.google.com/assets/colab-badge.svg\" alt=\"Open In Colab\"/></a>"
      ]
    },
    {
      "cell_type": "markdown",
      "metadata": {
        "id": "yRmydXneMgT8"
      },
      "source": [
        "# 3.3. 深さ優先探索\n",
        "\n",
        "ここでは深さ優先探索(Depth first search; DFS)について学ぶ．  \n",
        "深さ優先探索によって，グラフに即した形で全頂点の列挙を行う．\n",
        "\n",
        "**いつもの約束**  \n",
        "１つのコードセルだけの実行は Ctrl + Enter．  \n",
        "エディタで「インデント幅（スペース）は4で表示」「行番号を表示」「インデントガイドを表示」．  \n",
        "内部では日本語はUTF-8で表現されている．  "
      ]
    },
    {
      "cell_type": "markdown",
      "metadata": {
        "id": "CdQdV_MJIlce"
      },
      "source": [
        "# 準備\n",
        "\n",
        "インスタンスに接続し起動する．  \n",
        "下記の手順でGoogle Driveをマウントする．  \n",
        "マウント先に移動し，作業フォルダとする．  \n",
        "これによって，インスタンスがリセットされてもGoogle Drive内にファイルが保存されるようにする．"
      ]
    },
    {
      "cell_type": "code",
      "metadata": {
        "id": "DMtqXRXJIPMR"
      },
      "source": [
        "!echo \"Google Driveをマウントします\"\n",
        "from google.colab import drive\n",
        "drive.mount('/content/drive')"
      ],
      "execution_count": null,
      "outputs": []
    },
    {
      "cell_type": "code",
      "metadata": {
        "id": "SABzmuELIaj2"
      },
      "source": [
        "!echo \"今回の作業用フォルダを作成しそこに移動します\"\n",
        "%cd /content/drive/My\\ Drive\n",
        "%mkdir -p UT_DataAlgo/DA_005\n",
        "%cd       UT_DataAlgo/DA_005\n",
        "!ls\n",
        "!echo \"日本時間表示\"\n",
        "!rm /etc/localtime\n",
        "!ln -s /usr/share/zoneinfo/Japan /etc/localtime\n",
        "!date"
      ],
      "execution_count": null,
      "outputs": []
    },
    {
      "cell_type": "markdown",
      "metadata": {
        "id": "227hkF2NhgRF"
      },
      "source": [
        "ここでは，グラフ3を利用する．  \n",
        "頂点数は8．無向グラフ．連結．"
      ]
    },
    {
      "cell_type": "markdown",
      "metadata": {
        "id": "NINxYWNgOSaw"
      },
      "source": [
        "![da2020-graph3](https://user-images.githubusercontent.com/45651568/84249701-1107b680-ab46-11ea-89b0-6a454ec80ec4.jpg)"
      ]
    },
    {
      "cell_type": "code",
      "metadata": {
        "id": "rz4_9z4rOQu4"
      },
      "source": [
        "%%writefile graph3.h\n",
        "// 8 nodes, undirected, no-weight.\n",
        "#define N 8\n",
        "int edge[N][N] = {\n",
        "//   0 1 2 3 4 5 6 7\n",
        "\t{0,1,0,0,1,0,0,0}, // 0\n",
        "\t{1,0,0,0,0,0,1,0}, // 1\n",
        "\t{0,0,0,1,0,0,1,0}, // 2\n",
        "\t{0,0,1,0,0,0,0,1}, // 3\n",
        "\t{1,0,0,0,0,1,0,0}, // 4\n",
        " \t{0,0,0,0,1,0,1,0}, // 5\n",
        "\t{0,1,1,0,0,1,0,1}, // 6\n",
        "\t{0,0,0,1,0,0,1,0}  // 7\n",
        "};"
      ],
      "execution_count": null,
      "outputs": []
    },
    {
      "cell_type": "markdown",
      "metadata": {
        "id": "UI6gYfy6_KoN"
      },
      "source": [
        "また、プログラムを変更して自分のグラフを入力することもできる．\n",
        "以下は、8頂点の完全なグラフの例である．\n",
        "(後でプログラムをコンパイルするときにどちらを使うかよく確認すること)\n",
        "\n"
      ]
    },
    {
      "cell_type": "code",
      "metadata": {
        "id": "vig_U3JArDM3"
      },
      "source": [
        "%%writefile graph3.h\n",
        "// 8 nodes, undirected, no-weight.\n",
        "#define N 8\n",
        "int edge[N][N] = {\n",
        "//   0 1 2 3 4 5 6 7\n",
        "\t{0,1,1,1,1,1,1,1},\n",
        "\t{1,0,1,1,1,1,1,1},\n",
        "\t{1,1,0,1,1,1,1,1},\n",
        "\t{1,1,1,0,1,1,1,1},\n",
        "\t{1,1,1,1,0,1,1,1},\n",
        "\t{1,1,1,1,1,0,1,1},\n",
        "\t{1,1,1,1,1,1,0,1},\n",
        "\t{1,1,1,1,1,1,1,0},\n",
        "};"
      ],
      "execution_count": null,
      "outputs": []
    },
    {
      "cell_type": "markdown",
      "metadata": {
        "id": "SgrerkN-Ox0L"
      },
      "source": [
        "# 深さ優先探索の概要\n",
        "\n",
        "[Rogue](https://ja.wikipedia.org/wiki/%E3%83%AD%E3%83%BC%E3%82%B0)や初期のドラゴンクエストのようなダンジョン型RPGにおいて，最初の部屋（開始頂点）から見てできるだけ遠い部屋から制圧していくのが深さ優先探索である．大胆な戦略とも言える．\n",
        "\n",
        "より正確には，開始頂点からの道が長い頂点から先に列挙していく探索が深さ優先探索である．ここで，全ての辺は同じ長さを持つとする．（道において同一頂点は高々１回しか現れないことに注意．）\n",
        "\n",
        "実際には，どの部屋が入口からより遠いかはわからない．そこで，ある部屋から次に行く部屋を選ぶときは，単純にまだ訪れたことのない部屋を選ぶことになる．\n",
        "\n",
        "深さ優先探索のアルゴリズムの記述においては，スタック(First-In-Last-Out = Last-In-First-Out)を利用する．大雑把に言えば，開始頂点から見てできるだけ遠い頂点から調査を行って列挙していく．このとき，その頂点に隣接している未列挙頂点があれば，それをすぐ次に調査する．つまり最後に見つかった頂点から調査することになる(Last-In-First-Out)．これをスタックに積むという．ある頂点からさらに先に（遠くに）頂点が見つからない場合，頂点を一つ戻って（スタックの一番上を取り去って，そこに現れるひとつ前の）頂点の調査を続行する．\n",
        "\n",
        "グラフに閉路がある場合，開始頂点からある頂点への道が２つ以上あることがある．最初に到達するのに用いた道より次に到達するのに使った道がより短い，ということが起きうる．最初に到達した時点で当該頂点が開始頂点から見て一番遠い頂点だった場合，（後でそれほど遠い頂点でないとわかることになるにしても）その時点で列挙することは深さ優先探索の定義に合致する．（あとでより短い道が見つかったとしても列挙順を訂正したりはしない．）\n",
        "\n",
        "参考までに，グラフG3について頂点0からDFSを実施した場合，深さ優先による頂点列挙の結果は次のようになる．  \n",
        "ただし，同じ優先度の頂点が複数あったときは，番号の小さい方の頂点を選択するものとする．\n",
        "\n",
        "DFS result: 0 1 6 2 3 7 5 4"
      ]
    },
    {
      "cell_type": "markdown",
      "metadata": {
        "id": "0_o0avWIHZqC"
      },
      "source": [
        "# 深さ優先探索プログラム\n",
        "\n",
        "**目標**\n",
        "\n",
        "スタックを用いた深さ優先探索によって，与えられたグラフの頂点を列挙する．\n",
        "\n",
        "**説明**\n",
        "\n",
        "開始頂点は指定されるものとする．  \n",
        "  \n",
        "スタックは机の上に積んでいく宿題だと思えばよい．   \n",
        "スタックの一番上を stacktop と呼ぶことにする．    \n",
        "新しくオブジェクトを追加するときは，それをスタックの一番上に積む．  \n",
        "（宿題を上に積み重ねるのと同じことである．）  \n",
        "積み上げる動作のことを push と呼ぶ．  \n",
        "詰み上がった一番上のオブジェクトを取り去る動作のことを pop と呼ぶ．  \n",
        "（一番上の宿題を取って，自分の前に拡げるのと同じことである）  \n",
        "\n",
        "**コード**\n",
        "\n",
        "下記の通り．  \n",
        "グラフが無向で連結である限り，深さ優先探索は必ず成功する．  \n",
        "そのため，dfs()はvoidとしている．\n",
        "\n",
        "スタック内のデータを移動させる必要はない．\n",
        "スタックの制御には，スタックの一番上の位置を記憶するための変数1つあればよい．\n",
        "\n",
        "BFW/queueのとは異なり，処理の最後にスタック記憶領域に頂点列挙結果が残っていることはない．そこで，リストアップの順番を記録するためにvisited[]を用いる．\n",
        "\n",
        "**備考**\n",
        "\n",
        "下の図は，このプログラムでグラフG3を頂点0から始めたときのスタックの図である．  \n",
        "スタックトップの頂点を訪れると，次に訪れるべき新しい候補がスタックトップにプッシュされる（赤い数字）．\n",
        "\n",
        "そして，スタックトップのオブジェクトをポップアウトして（スタックトップから外して），その部屋を訪問する．\n",
        "\n",
        "頂点を訪問する際，新しい頂点がプッシュされていなければ，以前にプッシュされたことのある頂点に戻ってそれを選択することになる．\n",
        "頂点7の訪問がそれにあたる．頂点7ではどの頂点も積んでいないので，次に訪問する頂点は頂点5となる（実は頂点6が3回前に積んだものである）。"
      ]
    },
    {
      "cell_type": "markdown",
      "metadata": {
        "id": "OsJvpsX_CtRd"
      },
      "source": [
        "![005-dfs-C](https://user-images.githubusercontent.com/45651568/117356920-44d29400-aeef-11eb-965e-f55c5dd30f02.png)"
      ]
    },
    {
      "cell_type": "code",
      "metadata": {
        "id": "Sfxsc_02JNc1"
      },
      "source": [
        "%%writefile dfs_simple_J.c\n",
        "// Depth First Search.\n",
        "// 2020/05 kameda[at]ccs.tsukuba.ac.jp\n",
        "#include <stdio.h> // printf()\n",
        "#include \"graph3.h\"\n",
        "\n",
        "// 深さ優先探索本体\n",
        "void dfs(int StartingRoom){\n",
        "\tint listed[N];  // 0 未, 1 済\n",
        "\tint stack[N*N];\n",
        "\tint stacktop = 0;\n",
        "\n",
        "    int CurrentRoom;\n",
        "    int RoomToCheck;\n",
        "\n",
        "\tint visited[N]; // 列挙順を記録するための配列\n",
        "\tint num_visited = 0; // 記録済の頂点数\n",
        "\n",
        "\tfor (RoomToCheck = 0; RoomToCheck < N; RoomToCheck++)\n",
        "\t\tlisted[RoomToCheck] = 0;\n",
        "\n",
        "\tprintf(\"深さ優先探索を 頂点%d から開始します．\\n\", StartingRoom);\n",
        "    // StartingRoomをスタックに積む\n",
        "    stack[stacktop] = StartingRoom;\n",
        "    stacktop++;\n",
        "\n",
        "\t// スタックに処理対象がある限り作業を継続\n",
        "\twhile (stacktop > 0) {\n",
        "\t\tprintf(\"現在のスタック： 長さ %d, スタックトップは %d\\n\", stacktop, stack[stacktop - 1]);\n",
        "\t\t{int i; for (i = 0; i < stacktop; i++) printf(\"%d \", stack[i]); printf(\"\\n\");}\n",
        "\n",
        "        // スタックから１つ降ろして処理開始（スタックからは削除）\n",
        "\t\tprintf(\"スタックトップの頂点 %d をスタックから降ろして処理を開始します．\\n\", stack[stacktop - 1]);\n",
        "\t\tCurrentRoom = stack[stacktop - 1];\n",
        "        stacktop--;\n",
        "\n",
        "\t\t// これは新しい頂点か？\n",
        "\t\tif (listed[CurrentRoom] == 0) {\n",
        "            // 新しい頂点なら作業開始．\n",
        "\t\t\t// ここで何かしらの作業を行うのかも．\n",
        "\n",
        "\t\t\t// 処理済みであることを記録\n",
        "\t\t\tprintf(\"頂点 %d をこれ以降は列挙済として扱います．\\n\", CurrentRoom);\n",
        "\t\t\tlisted[CurrentRoom] = 1;\n",
        "\t\t\t// 計上（列挙）順を記録\n",
        "\t\t\tvisited[num_visited] = CurrentRoom;\n",
        "\t\t\tnum_visited++;\n",
        "\n",
        "    \t\t// 次にどの頂点を列挙していくか検討\n",
        "\t\t\t//   次のfor文の変数が降順（小さくしていく）になっているのは\n",
        "\t\t\t//  「同じ優先度の頂点が複数あったときは，番号の小さい方の頂点を選択」を遵守するため\n",
        "\t\t\tfor (RoomToCheck = N-1; RoomToCheck >= 0; RoomToCheck--) {\n",
        "   \t    \t\tif (edge[CurrentRoom][RoomToCheck] == 0) {\n",
        "\t\t\t\t\tprintf(\"  (頂点 %d にて) 頂点 %d は隣接していませんでした‥\\n\", CurrentRoom, RoomToCheck);\n",
        "\t\t\t\t} else if (listed[RoomToCheck] != 0) {\n",
        "\t\t\t\t\tprintf(\"  (頂点 %d にて) 頂点 %d は隣接はしていますがすでに処理済でした‥\\n\", CurrentRoom, RoomToCheck);\n",
        "        \t\t} else {\n",
        "\t\t\t\t\tprintf(\"  (頂点 %d にて) まだ処理したことのない頂点 %d が隣接しているので、スタックに積み上げます．\\n\", CurrentRoom, RoomToCheck);\n",
        "               \t\t// RoomToCheckをスタックに積む\n",
        "\t\t\t\t\tstack[stacktop] = RoomToCheck;\n",
        "               \t\tstacktop++;\n",
        "\t\t\t\t}\n",
        "\t\t\t}\n",
        "\t\t}\n",
        "\t}\n",
        "\tprintf(\"処理待ち行列に何も残っていないので深さ優先探索を終了します．\\n\");\n",
        "\n",
        "\tprintf(\"深さ優先探索による頂点の列挙．\\n\");\n",
        "\tfor (CurrentRoom = 0; CurrentRoom < num_visited; CurrentRoom++)\n",
        "\t\tprintf(\"%d \", visited[CurrentRoom]);\n",
        "    printf(\"\\n\");\n",
        "\n",
        "\treturn;\n",
        "}\n",
        "\n",
        "// Main function\n",
        "int main(int argc, char *argv[]){\n",
        "\tdfs(0); // 開始頂点番号を引数にしてdfs関数を呼び出す\n",
        "\treturn 0;\n",
        "}"
      ],
      "execution_count": null,
      "outputs": []
    },
    {
      "cell_type": "markdown",
      "metadata": {
        "id": "8y6NIDJEd6EF"
      },
      "source": [
        "コンパイルしてエラーが無いことを確認．"
      ]
    },
    {
      "cell_type": "code",
      "metadata": {
        "id": "1fDHcZ_kw6w8"
      },
      "source": [
        "!gcc -Wall -o dfs_simple_J dfs_simple_J.c"
      ],
      "execution_count": null,
      "outputs": []
    },
    {
      "cell_type": "markdown",
      "metadata": {
        "id": "s8waNgg-d_Ke"
      },
      "source": [
        "実行．"
      ]
    },
    {
      "cell_type": "code",
      "metadata": {
        "id": "22ZwJ5yzCWKl"
      },
      "source": [
        "!./dfs_simple_J"
      ],
      "execution_count": null,
      "outputs": []
    },
    {
      "cell_type": "markdown",
      "metadata": {
        "id": "tPNqfN0aFChg"
      },
      "source": [
        "# 開始頂点を指定するためのコマンドライン引数\n",
        "\n",
        "**目標**\n",
        "\n",
        "引数にて開始頂点を指定できるようにする．  \n",
        "\n",
        "**説明**\n",
        "\n",
        "引数を数値にするためにはatoi()関数を用いる．  \n",
        "（atoi()関数ではエラーハンドリングができないため，エラーハンドリングができるstrtol()関数のほうが頑健なプログラム作成には望ましい．  ）\n",
        "\n",
        "\n",
        "**コード**\n",
        "\n",
        "次はatoi()関数を引数の解釈に用いる例である．   \n",
        "main()関数内で引数の確認を行っている．  \n",
        "\n",
        "**備考**\n",
        "\n",
        "dfs()関数部分には変更を加えていない．  \n",
        "BFSに続いて２回目なので，下記に進む前に，自分で上記プログラムを書き換えてみることを強く推奨する．\n",
        "\n"
      ]
    },
    {
      "cell_type": "code",
      "metadata": {
        "id": "tQ1hSFbGFKlQ"
      },
      "source": [
        "%%writefile dfs_xtraCommandLine_J.c\n",
        "// Depth First Search.\n",
        "// 2020/05 kameda[at]ccs.tsukuba.ac.jp\n",
        "// -- Extra --\n",
        "//    Accept command line option\n",
        "#include <stdio.h> // printf()\n",
        "#include <stdlib.h> // atoi()\n",
        "#include \"graph3.h\"\n",
        "\n",
        "// 深さ優先探索本体\n",
        "void dfs(int StartingRoom){\n",
        "\tint listed[N];  // 0 未, 1 済\n",
        "\tint stack[N*N];\n",
        "\tint stacktop = 0;\n",
        "\n",
        "    int CurrentRoom;\n",
        "    int RoomToCheck;\n",
        "\n",
        "\tint visited[N]; // 列挙順を記録するための配列\n",
        "\tint num_visited = 0; // 記録済の頂点数\n",
        "\n",
        "\tfor (RoomToCheck = 0; RoomToCheck < N; RoomToCheck++)\n",
        "\t\tlisted[RoomToCheck] = 0;\n",
        "\n",
        "\tprintf(\"深さ優先探索を 頂点%d から開始します．\\n\", StartingRoom);\n",
        "    // StartingRoomをスタックに積む\n",
        "    stack[stacktop] = StartingRoom;\n",
        "    stacktop++;\n",
        "\n",
        "\t// スタックに処理対象がある限り作業を継続\n",
        "\twhile (stacktop > 0) {\n",
        "\t\tprintf(\"現在のスタック： 長さ %d, スタックトップは %d\\n\", stacktop, stack[stacktop - 1]);\n",
        "\t\t{int i; for (i = 0; i < stacktop; i++) printf(\"%d \", stack[i]); printf(\"\\n\");}\n",
        "\n",
        "        // スタックから１つ降ろして処理開始（スタックからは削除）\n",
        "\t\tprintf(\"スタックトップの頂点 %d をスタックから降ろして処理を開始します．\\n\", stack[stacktop - 1]);\n",
        "\t\tCurrentRoom = stack[stacktop - 1];\n",
        "        stacktop--;\n",
        "\n",
        "\t\t// これは新しい頂点か？\n",
        "\t\tif (listed[CurrentRoom] == 0) {\n",
        "            // 新しい頂点なら作業開始．\n",
        "\t\t\t// ※ここで何かしらの作業を行うのかも．\n",
        "\n",
        "\t\t\t// 処理済みであることを記録\n",
        "\t\t\tprintf(\"頂点 %d をこれ以降は列挙済として扱います．\\n\", CurrentRoom);\n",
        "\t\t\tlisted[CurrentRoom] = 1;\n",
        "\t\t\t// 計上（列挙）順を記録\n",
        "\t\t\tvisited[num_visited] = CurrentRoom;\n",
        "\t\t\tnum_visited++;\n",
        "\n",
        "        \t// 次にどの頂点を列挙していくか検討\n",
        "\t\t\t//   次のfor文の変数が降順（小さくしていく）になっているのは\n",
        "\t\t\t//  「同じ優先度の頂点が複数あったときは，番号の小さい方の頂点を選択」を遵守するため\n",
        "\t\t\tfor (RoomToCheck = N-1; RoomToCheck >= 0; RoomToCheck--) {\n",
        "   \t\t\t\tif (edge[CurrentRoom][RoomToCheck] == 0) {\n",
        "\t\t\t\t\tprintf(\"  (頂点 %d にて) 頂点 %d は隣接していませんでした‥\\n\", CurrentRoom, RoomToCheck);\n",
        "\t\t\t\t} else if (listed[RoomToCheck] != 0) {\n",
        "\t\t\t\t\tprintf(\"  (頂点 %d にて) 頂点 %d は隣接はしていますがすでに処理済でした‥\\n\", CurrentRoom, RoomToCheck);\n",
        "        \t\t} else {\n",
        "\t\t\t\t\tprintf(\"  (頂点 %d にて) まだ処理したことのない頂点 %d が隣接しているので、スタックに積み上げます．\\n\", CurrentRoom, RoomToCheck);\n",
        "               \t\t// RoomToCheckをスタックに積む\n",
        "\t\t\t\t\tstack[stacktop] = RoomToCheck;\n",
        "               \t\tstacktop++;\n",
        "\t\t\t\t}\n",
        "\t\t\t}\n",
        "\t\t}\n",
        "\t}\n",
        "\tprintf(\"処理待ち行列に何も残っていないので深さ優先探索を終了します．\\n\");\n",
        "\n",
        "\tprintf(\"深さ優先探索による頂点の列挙．\\n\");\n",
        "\tfor (CurrentRoom = 0; CurrentRoom < N; CurrentRoom++)\n",
        "\t\tprintf(\"%d \", visited[CurrentRoom]);\n",
        "    printf(\"\\n\");\n",
        "\n",
        "\treturn;\n",
        "}\n",
        "\n",
        "// Main function\n",
        "int main(int argc, char *argv[]){\n",
        "    int startnode = 0;\n",
        "    if (argc == 1) {\n",
        "        printf(\"指定がなかったので頂点0を開始頂点にします．\\n\");\n",
        "        startnode = 0;\n",
        "    } else if (argc == 2) {\n",
        "        startnode = atoi(argv[1]);\n",
        "        if (startnode < 0 || startnode >= N) {\n",
        "            printf(\"不正な頂点指定だったので終了します．\\n\");\n",
        "            return -1;\n",
        "        }\n",
        "    }\n",
        "\n",
        "\tdfs(startnode); // 開始頂点番号を引数にしてdfs関数を呼び出す\n",
        "\treturn 0;\n",
        "}"
      ],
      "execution_count": null,
      "outputs": []
    },
    {
      "cell_type": "markdown",
      "metadata": {
        "id": "QD7n0zqyeDgm"
      },
      "source": [
        "コンパイルしてエラーが無いことを確認．"
      ]
    },
    {
      "cell_type": "code",
      "metadata": {
        "id": "W4ShaOLyKaAt"
      },
      "source": [
        "!gcc -Wall -o dfs_xtraCommandLine_J dfs_xtraCommandLine_J.c"
      ],
      "execution_count": null,
      "outputs": []
    },
    {
      "cell_type": "markdown",
      "metadata": {
        "id": "PpEZbIIseIB1"
      },
      "source": [
        "実行．"
      ]
    },
    {
      "cell_type": "code",
      "metadata": {
        "id": "eES9GPwVLg4z"
      },
      "source": [
        "!./dfs_xtraCommandLine_J 0"
      ],
      "execution_count": null,
      "outputs": []
    },
    {
      "cell_type": "markdown",
      "metadata": {
        "id": "lZXa6FVXIzoI"
      },
      "source": [
        "# 関数を利用したCプログラム\n",
        "\n",
        "**目標**\n",
        "\n",
        "スタックへ積み上げることと，スタックから降ろすことを，それぞれユーザ定義関数化する．\n",
        "\n",
        "**説明**\n",
        "\n",
        "ユーザ定義関数は別ソースファイルに記述する．  \n",
        "これによって，将来ライブラリにすることができる．\n",
        "\n",
        "**コード**\n",
        "\n",
        "３つのファイルに分割する．\n",
        "* スタック操作のヘッダファイル\n",
        "* スタック操作を集めたソースファイル\n",
        "* 深さ優先探索を行うプログラム\n",
        "\n",
        "**備考**\n",
        "\n",
        "分割コンパイルで実行ファイルを生成する．"
      ]
    },
    {
      "cell_type": "code",
      "metadata": {
        "id": "5jU5gpnlYoAy"
      },
      "source": [
        "%%writefile StackLib_J.h\n",
        "// Stack management\n",
        "// 2020/05 kameda[at]ccs.tsukuba.ac.jp\n",
        "\n",
        "// スタックの初期化\n",
        "int *initstack(int );\n",
        "\n",
        "// スタックへの追加\n",
        "int stackpush(int );\n",
        "\n",
        "// スタックからの削除\n",
        "int stackpop(void);\n",
        "\n",
        "// スタックの状態表示\n",
        "int showstack(void);\n",
        "\n",
        "// スタックの全表示（通常意味はない）\n",
        "int showallstack(void);\n"
      ],
      "execution_count": null,
      "outputs": []
    },
    {
      "cell_type": "code",
      "metadata": {
        "id": "Iotxsvy8MktG"
      },
      "source": [
        "%%writefile StackLib_J.c\n",
        "// Stack management\n",
        "// 2020/05 kameda[at]ccs.tsukuba.ac.jp\n",
        "#include <stdio.h> // printf()\n",
        "#include <stdlib.h> // calloc()\n",
        "#include \"StackLib_J.h\" // プロトタイプ宣言の整合確認\n",
        "\n",
        "int *stack = NULL; // スタックの本体（初期化してから使う）\n",
        "int stacksize = 0; // スタックのサイズ\n",
        "int stacktop = 0; // スタックトップ\n",
        "\n",
        "// スタックの初期化\n",
        "int *initstack(int n) {\n",
        "    stack = calloc(n, sizeof(*stack));\n",
        "    if (stack == NULL) {\n",
        "        printf(\"【失敗】 %d要素分のスタック領域を確保できませんでした．\\n\", n);\n",
        "    }\n",
        "    stacksize = n;\n",
        "    return stack;\n",
        "}\n",
        "\n",
        "// スタックへの追加\n",
        "int stackpush(int v) {\n",
        "    if (stack == NULL) {\n",
        "        printf(\"【失敗】 スタックが用意できていません．\\n\");\n",
        "        return -1;\n",
        "    } else if (stacktop >= stacksize) {\n",
        "        printf(\"【失敗】 %d要素確保してあったスタック領域を使い果たしてしまいました．\\n\", stacksize);\n",
        "        return -2;\n",
        "    }\n",
        "    printf(\"--stack:push %d (stacktop=%d)\\n\", v, stacktop);\n",
        "    stack[stacktop] = v;\n",
        "    stacktop++;\n",
        "    return 0;\n",
        "}\n",
        "\n",
        "// スタックからの削除\n",
        "int stackpop(void) {\n",
        "    int v;\n",
        "    if (stack == NULL) {\n",
        "        printf(\"【失敗】 スタックが用意できていません．\\n\");\n",
        "        return -1;\n",
        "    } else if (stacktop <= 0) {\n",
        "        printf(\"【報告】 スタックに処理対象がありません．\\n\");\n",
        "        return -2;\n",
        "    }\n",
        "    printf(\"--stack:pop    (stacktop=%d)\\n\", stacktop);\n",
        "    v = stack[stacktop - 1];\n",
        "    stacktop--;\n",
        "    printf(\"--stack:pop %2d (stacktop=%d)\\n\", v, stacktop);\n",
        "    return v;\n",
        "}\n",
        "\n",
        "// スタックの状態表示\n",
        "int showstack(void) {\n",
        "    int i;\n",
        "\n",
        "    if (stack == NULL) {\n",
        "        printf(\"【失敗】 スタックが用意できていません．\\n\");\n",
        "        return -1;\n",
        "    }\n",
        "\n",
        "    printf(\"showstack : stacksize = %d, stacktop = %d\\n\", stacksize, stacktop);\n",
        "    printf(\"showstack : \");\n",
        "    for (i = 0; i < stacktop; i++) {\n",
        "        printf(\"%d \", stack[i]);\n",
        "    }\n",
        "    printf(\"\\n\");\n",
        "\n",
        "    return stacktop;\n",
        "}\n",
        "\n",
        "// スタックの全表示（通常意味はない）\n",
        "int showallstack(void) {\n",
        "    int i;\n",
        "\n",
        "    if (stack == NULL) {\n",
        "        printf(\"【失敗】 スタックが用意できていません．\\n\");\n",
        "        return -1;\n",
        "    }\n",
        "\n",
        "    printf(\"showallstack: stacksize = %d, stacktop = %d\\n\", stacksize, stacktop);\n",
        "    printf(\"showallstack: \");\n",
        "    for (i = 0; i < stacksize; i++) {\n",
        "        printf(\"%d \", stack[i]);\n",
        "    }\n",
        "    printf(\"\\n\");\n",
        "\n",
        "    return stacksize;\n",
        "}\n",
        "\n"
      ],
      "execution_count": null,
      "outputs": []
    },
    {
      "cell_type": "markdown",
      "metadata": {
        "id": "ih41_eQXePu8"
      },
      "source": [
        "分割したスタック関係のソースファイルのみコンパイル．  \n",
        "（ライブラリの作成に相当）"
      ]
    },
    {
      "cell_type": "code",
      "metadata": {
        "id": "OpW_zclrVXLi"
      },
      "source": [
        "!gcc -Wall -c StackLib_J.c"
      ],
      "execution_count": null,
      "outputs": []
    },
    {
      "cell_type": "markdown",
      "metadata": {
        "id": "m9m4DOyLe5bz"
      },
      "source": [
        "スタック関係の関数は外部のを用いるので，それに合わせて書き直す．   \n",
        "\"StackLib_J.h\"の内容のみ参照して書き直せればよい．   \n",
        "（この辺りの内容はプログラミング序論Dで学習済み）  \n",
        "\n",
        "外部関数等を使いながらmain()関数などを書く場合，ユーザプログラムと呼ぶことがある．  "
      ]
    },
    {
      "cell_type": "code",
      "metadata": {
        "id": "QrR5OCVkNG2o"
      },
      "source": [
        "%%writefile dfs_xtraFuncCalls_J.c\n",
        "// Depth First Search.\n",
        "// 2020/05 kameda[at]ccs.tsukuba.ac.jp\n",
        "// -- Extra --\n",
        "//    Accept command line option\n",
        "//    Call functions for stackpush and stackpop\n",
        "#include <stdio.h> // printf()\n",
        "#include <stdlib.h> // atoi()\n",
        "#include \"StackLib_J.h\"\n",
        "#include \"graph3.h\"\n",
        "\n",
        "// 深さ優先探索本体\n",
        "void dfs(int StartingRoom){\n",
        "\tint listed[N];  // 0 未, 1 済\n",
        "\n",
        "    int CurrentRoom;\n",
        "    int RoomToCheck;\n",
        "\n",
        "\tint visited[N]; // 列挙順を記録するための配列\n",
        "\tint num_visited = 0; // 記録済の頂点数\n",
        "\n",
        "\tfor (RoomToCheck = 0; RoomToCheck < N; RoomToCheck++)\n",
        "\t\tlisted[RoomToCheck] = 0;\n",
        "\n",
        "    // スタックの初期化\n",
        "    initstack(N*N);\n",
        "\n",
        "\tprintf(\"深さ優先探索を 頂点%d から開始します．\\n\", StartingRoom);\n",
        "    // StartingRoomをスタックに積む\n",
        "    stackpush(StartingRoom);\n",
        "\n",
        "    // スタックの状態表示\n",
        "    // while()文のところでスタック操作が行われるため，その直前状態を表示するため表示タイミングを移動\n",
        "    showstack();\n",
        "\n",
        "\t// スタックに処理対象がある限り作業を継続\n",
        "\twhile ((CurrentRoom = stackpop()) >= 0) {\n",
        "        // スタックから１つ降ろして処理開始（スタックからは削除）\n",
        "\t\tprintf(\"スタックトップの頂点 %d をスタックから降ろして処理を開始します．\\n\", CurrentRoom);\n",
        "\n",
        "\t\tif (listed[CurrentRoom] == 0) {\n",
        "\t\t\t// ※ここで何かしらの作業を行うのかも．\n",
        "\n",
        "\t\t\t// 処理済みであることを記録\n",
        "\t\t\tprintf(\"頂点 %d をこれ以降は列挙済として扱います．\\n\", CurrentRoom);\n",
        "\t\t\tlisted[CurrentRoom] = 1;\n",
        "\t\t\t// 計上（列挙）順を記録\n",
        "\t\t\tvisited[num_visited] = CurrentRoom;\n",
        "\t\t\tnum_visited++;\n",
        "\n",
        "        \t// 次にどの頂点を列挙していくか検討\n",
        "            //   次のfor文の変数が降順（小さくしていく）になっているのは\n",
        "\t\t\t//  「同じ優先度の頂点が複数あったときは，番号の小さい方の頂点を選択」を遵守するため\n",
        "\t\t\tfor (RoomToCheck = N-1; RoomToCheck >= 0; RoomToCheck--) {\n",
        "   \t        \tif (edge[CurrentRoom][RoomToCheck] == 0) {\n",
        "\t\t\t\t\tprintf(\"  (頂点 %d にて) 頂点 %d は隣接していませんでした‥\\n\", CurrentRoom, RoomToCheck);\n",
        "\t\t\t\t} else if (listed[RoomToCheck] != 0) {\n",
        "\t\t\t\t\tprintf(\"  (頂点 %d にて) 頂点 %d は隣接はしていますがすでに処理済でした‥\\n\", CurrentRoom, RoomToCheck);\n",
        "        \t\t} else {\n",
        "\t\t\t\t\tprintf(\"  (頂点 %d にて) まだ処理したことのない頂点 %d が隣接しているので、スタックに積み上げます．\\n\", CurrentRoom, RoomToCheck);\n",
        "               \t\t// RoomToCheckをスタックに積む\n",
        "\t\t\t\t\tstackpush(RoomToCheck);\n",
        "\t\t\t\t}\n",
        "\t\t\t}\n",
        "\t\t}\n",
        "\n",
        "\t    // スタックの状態表示\n",
        "    \t// while()文のところでスタック操作が行われるため，その直前状態を表示するため表示タイミングを移動\n",
        "        showstack();\n",
        "\t}\n",
        "\tprintf(\"何も残っていないので深さ優先探索を終了します．\\n\");\n",
        "\n",
        "\tprintf(\"深さ優先探索による頂点の列挙．\\n\");\n",
        "\tfor (CurrentRoom = 0; CurrentRoom < N; CurrentRoom++)\n",
        "\t\tprintf(\"%d \", visited[CurrentRoom]);\n",
        "    printf(\"\\n\");\n",
        "\n",
        "\treturn ;\n",
        "}\n",
        "\n",
        "int main(int argc, char *argv[]){\n",
        "    int startnode = 0;\n",
        "    if (argc == 1) {\n",
        "        printf(\"指定がなかったので頂点0を開始頂点にします．\\n\");\n",
        "        startnode = 0;\n",
        "    } else if (argc == 2) {\n",
        "        startnode = atoi(argv[1]);\n",
        "        if (startnode < 0 || startnode >= N) {\n",
        "            printf(\"不正な頂点指定だったので終了します．\\n\");\n",
        "            return -1;\n",
        "        }\n",
        "    }\n",
        "\n",
        "\tdfs(startnode); // 開始頂点番号を引数にしてdfs関数を呼び出す\n",
        "\n",
        "\treturn 0;\n",
        "}"
      ],
      "execution_count": null,
      "outputs": []
    },
    {
      "cell_type": "markdown",
      "metadata": {
        "id": "RIzCCG_HefwJ"
      },
      "source": [
        "ユーザプログラムのコンパイル（のみ）．"
      ]
    },
    {
      "cell_type": "code",
      "metadata": {
        "id": "4FjvSOZuZhy4"
      },
      "source": [
        "!gcc -Wall -c dfs_xtraFuncCalls_J.c"
      ],
      "execution_count": null,
      "outputs": []
    },
    {
      "cell_type": "markdown",
      "metadata": {
        "id": "el5mxVABeoT4"
      },
      "source": [
        "リンカを実行して，実行ファイルを作成．"
      ]
    },
    {
      "cell_type": "code",
      "metadata": {
        "id": "mzRyl1IDZyrF"
      },
      "source": [
        "!gcc -o dfs_xtraFuncCalls_J dfs_xtraFuncCalls_J.o StackLib_J.o"
      ],
      "execution_count": null,
      "outputs": []
    },
    {
      "cell_type": "markdown",
      "metadata": {
        "id": "KUi66tQ9ezAc"
      },
      "source": [
        "実行．結果は前と同一のはず．"
      ]
    },
    {
      "cell_type": "code",
      "metadata": {
        "id": "cnqUOVDEaAvA"
      },
      "source": [
        "!./dfs_xtraFuncCalls_J 0 2>&1"
      ],
      "execution_count": null,
      "outputs": []
    },
    {
      "cell_type": "markdown",
      "metadata": {
        "id": "oVlm1UA8X1Z2"
      },
      "source": [
        "# 再帰呼出を利用したDFSのCプログラム\n",
        "\n",
        "**目標**\n",
        "\n",
        "C言語の再帰呼出を利用することで深さ優先探索を実現する．\n",
        "\n",
        "\n",
        "**説明**\n",
        "\n",
        "C言語には，スタックを利用した言語構造がある．  \n",
        "それは関数呼び出しである．  \n",
        "C言語では，関数を呼び出すとき，その引数と内部変数はスタック領域に確保される．  \n",
        "再帰呼出関数を利用してプログラムを書くことで，スタック操作を明示的に行わないまま深さ優先探索が実現できる．  \n",
        "\n",
        "C言語特有の言語構造を利用することで，ユーザプログラムの記述が簡素になっていることに注意すること．  \n",
        "\n",
        "なお，C言語特有の言語構造にキューはないので，幅優先探索をこれと同じような形で簡素に記述することはできない．\n",
        "\n",
        "**コード**\n",
        "\n",
        "再帰呼出中にも利用するため，listed[] と visited[] を大域変数として確保する．  \n",
        "大域変数の初期化は main() 関数で行う．  \n",
        "深さ優先探索の結果である列挙の表示も main() 関数で行う．  \n",
        "\n",
        "このプログラムは，ある頂点から他の頂点への隣接性をチェックしている途中で（言い換えれば、すべての頂点の林政つ性のチェックを終える前に）新しい頂点を訪問する．このため，処理の内容が前のものとは少し異なることに注意すること．\n",
        "\n",
        "下のスタック図は，処理とスタック領域の関係を示している．複数の「RoomToCheckとCurrentRoom」の変数セットが格納されている（最大で4階層；これは再帰的呼び出しが4回ネストされることを意味する）．RoomToCheck(X→Y)ローカル変数の矢印は、ループ(31-41行目)が初期値Xから値Yに向かって下降していることを示している．\n",
        "\n",
        "**備考**\n",
        "\n",
        "例えば，日本語では２人称を表す単語に，あなた，おまえ，貴様，など幾つかある．  \n",
        "英語では２人称を表す単語はyouだけである．  \n",
        "愛を込めて相手を呼ぶとき，日本語なら「あなた」だけで含意することができるが，英語では \"my sweet honey\"のように言い換えたり単語数を増やすことが必要になる．  \n",
        "C言語はプログラミング言語であり人工言語ではあるが，やはり言語ではあるので，似たようなこと(特定用途に向いた表現がその言語に備わっている場合，文章が簡潔になる）が生じるのである．"
      ]
    },
    {
      "cell_type": "markdown",
      "metadata": {
        "id": "R1iqzAA-IEq9"
      },
      "source": [
        "![image](https://user-images.githubusercontent.com/45651568/90209118-75384680-de25-11ea-8b23-21203f576a68.png)\n",
        "Figure: Recusive procedure diagram"
      ]
    },
    {
      "cell_type": "code",
      "metadata": {
        "id": "Eo2CM8EqZi97"
      },
      "source": [
        "%%writefile dfs_recursive_J.c\n",
        "// Depth First Search by recursive call\n",
        "// 2020/05 kameda[at]ccs.tsukuba.ac.jp\n",
        "#include <stdio.h> // printf()\n",
        "#include <stdlib.h> // atoi()\n",
        "#include \"graph3.h\"\n",
        "\n",
        "int listed[N];  // 0 未, 1 済\n",
        "\n",
        "int visited[N]; // 列挙順を記録するための配列\n",
        "int num_visited = 0; // 記録済の頂点数\n",
        "\n",
        "\n",
        "// 深さ優先探索本体 / 再帰呼出\n",
        "void dfs(int CurrentRoom){\n",
        "    int RoomToCheck;\n",
        "\n",
        "    // スタック領域に積み上がった状態で処理開始\n",
        "\tprintf(\"頂点 %d について処理を開始します．\\n\", CurrentRoom);\n",
        "\n",
        "\t// ※ここで何かしらの作業を行うのかも．\n",
        "\n",
        "\t// 処理済みであることを記録\n",
        "\tprintf(\"頂点 %d をこれ以降は列挙済として扱います．\\n\", CurrentRoom);\n",
        "\tlisted[CurrentRoom] = 1;\n",
        "\t// 計上（列挙）順を記録\n",
        "\tvisited[num_visited] = CurrentRoom;\n",
        "\tnum_visited++;\n",
        "\n",
        "    // 次にどの頂点を列挙していくか検討\n",
        "\tfor (RoomToCheck = 0; RoomToCheck < N; RoomToCheck++) {\n",
        "        if (edge[CurrentRoom][RoomToCheck] == 0) {\n",
        "\t\t\tprintf(\"  (頂点 %d にて) 頂点 %d は隣接していませんでした‥\\n\", CurrentRoom, RoomToCheck);\n",
        "\t\t} else if (listed[RoomToCheck] != 0) {\n",
        "\t\t\tprintf(\"  (頂点 %d にて) 頂点 %d は隣接はしていますがすでに処理済でした‥\\n\", CurrentRoom, RoomToCheck);\n",
        "       \t} else {\n",
        "\t\t\tprintf(\"  (頂点 %d にて) まだ処理したことのない頂点 %d が隣接しているので、すぐに取り掛かります．\\n\", CurrentRoom, RoomToCheck);\n",
        "           \t// RoomToCheckの処理へ進む（再帰呼出）\n",
        "\t\t\tdfs(RoomToCheck);\n",
        "\t\t}\n",
        "\t}\n",
        "\n",
        "\treturn;\n",
        "}\n",
        "\n",
        "int main(int argc, char *argv[]){\n",
        "    int RoomToCheck;\n",
        "\n",
        "    int startnode = 0;\n",
        "    if (argc == 1) {\n",
        "        printf(\"指定がなかったので頂点0を開始頂点にします．\\n\");\n",
        "        startnode = 0;\n",
        "    } else if (argc == 2) {\n",
        "        startnode = atoi(argv[1]);\n",
        "        if (startnode < 0 || startnode >= N) {\n",
        "            printf(\"不正な頂点指定だったので終了します．\\n\");\n",
        "            return -1;\n",
        "        }\n",
        "    }\n",
        "\n",
        "\tfor (RoomToCheck = 0; RoomToCheck < N; RoomToCheck++)\n",
        "\t\tlisted[RoomToCheck] = 0;\n",
        "\n",
        "\tdfs(startnode); // 開始頂点番号を引数にしてdfs関数を呼び出す\n",
        "\n",
        "   \tprintf(\"深さ優先探索による頂点の列挙．\\n\");\n",
        "\tfor (RoomToCheck = 0; RoomToCheck < N; RoomToCheck++)\n",
        "\t\tprintf(\"%d \", visited[RoomToCheck]);\n",
        "    printf(\"\\n\");\n",
        "\n",
        "\treturn 0;\n",
        "}"
      ],
      "execution_count": null,
      "outputs": []
    },
    {
      "cell_type": "markdown",
      "metadata": {
        "id": "zhechXUNbvva"
      },
      "source": [
        "\n",
        "コンパイルしてエラーが無いことを確認．"
      ]
    },
    {
      "cell_type": "code",
      "metadata": {
        "id": "5gxNiHT-bvEd"
      },
      "source": [
        "!gcc -Wall -o dfs_recursive_J dfs_recursive_J.c"
      ],
      "execution_count": null,
      "outputs": []
    },
    {
      "cell_type": "markdown",
      "metadata": {
        "id": "CxBI4UbEcB9L"
      },
      "source": [
        "実行．"
      ]
    },
    {
      "cell_type": "code",
      "metadata": {
        "id": "O3zzVD4tcA3h"
      },
      "source": [
        "!./dfs_recursive_J"
      ],
      "execution_count": null,
      "outputs": []
    },
    {
      "cell_type": "markdown",
      "metadata": {
        "id": "MpROEk5Zr51r"
      },
      "source": [
        "# 再帰呼出の利用による最小構成のCプログラム\n",
        "\n",
        "---\n",
        "\n",
        "\n",
        "\n",
        "前のプログラムは実行が確認しやすいように各部にprintf()を挿入していたが，実行に必要な部分のみでdfs()関数を構成すると次のようになる．再帰呼出(line 22)の他は代入文１行(line 15)，printf文１行(line 17)，for文１行(line 20)，if文１行(line 21)しかない．\n",
        "\n",
        "如何にプログラムが簡潔に書けるかがよくわかるであろう．"
      ]
    },
    {
      "cell_type": "code",
      "metadata": {
        "id": "eUJKZIidr4pi"
      },
      "source": [
        "%%writefile dfs_recursive-short_J.c\n",
        "// Depth First Search by recursive call\n",
        "// 2020/05 kameda[at]ccs.tsukuba.ac.jp\n",
        "#include <stdio.h> // printf()\n",
        "#include <stdlib.h> // atoi()\n",
        "#include \"graph3.h\"\n",
        "\n",
        "int listed[N];  // 0 未, 1 済\n",
        "\n",
        "// 深さ優先探索本体 / 再帰呼出\n",
        "void dfs(int CurrentRoom){\n",
        "    int RoomToCheck;\n",
        "\n",
        "\t// 処理済みであることを記録\n",
        "\tlisted[CurrentRoom] = 1;\n",
        "\t// 計上（列挙）を表示\n",
        "    printf(\"★★列挙： %d\\n\", CurrentRoom);\n",
        "\n",
        "    // 次にどの頂点を列挙していくか検討\n",
        "\tfor (RoomToCheck = 0; RoomToCheck < N; RoomToCheck++) {\n",
        "        if (edge[CurrentRoom][RoomToCheck] != 0 && listed[RoomToCheck] == 0)\n",
        "\t\t\tdfs(RoomToCheck);\n",
        "\t}\n",
        "\treturn;\n",
        "}\n",
        "\n",
        "int main(int argc, char *argv[]){\n",
        "    int RoomToCheck;\n",
        "\n",
        "    int startnode = 0;\n",
        "    if (argc == 1) {\n",
        "        printf(\"指定がなかったので頂点0を開始頂点にします．\\n\");\n",
        "        startnode = 0;\n",
        "    } else if (argc == 2) {\n",
        "        startnode = atoi(argv[1]);\n",
        "        if (startnode < 0 || startnode >= N) {\n",
        "            printf(\"不正な頂点指定だったので終了します．\\n\");\n",
        "            return -1;\n",
        "        }\n",
        "    }\n",
        "\n",
        "\tfor (RoomToCheck = 0; RoomToCheck < N; RoomToCheck++)\n",
        "\t\tlisted[RoomToCheck] = 0;\n",
        "\n",
        "\tdfs(startnode); // 開始頂点番号を引数にしてdfs関数を呼び出す\n",
        "\n",
        "\treturn 0;\n",
        "}"
      ],
      "execution_count": null,
      "outputs": []
    },
    {
      "cell_type": "code",
      "metadata": {
        "id": "BVfu0aXytnqc"
      },
      "source": [
        "!gcc -Wall -o dfs_recursive-short_J dfs_recursive-short_J.c"
      ],
      "execution_count": null,
      "outputs": []
    },
    {
      "cell_type": "code",
      "metadata": {
        "id": "BKGfmb7PQJQQ"
      },
      "source": [
        "!./dfs_recursive-short_J 0"
      ],
      "execution_count": null,
      "outputs": []
    },
    {
      "cell_type": "markdown",
      "metadata": {
        "id": "m-FsaIpgJrjw"
      },
      "source": [
        "# 別のDFSプログラム(再起呼出不使用)\n",
        "\n",
        "**目標**\n",
        "\n",
        "再帰呼び出しを使わずに，再帰呼び出しのプログラムと同じ動作をするプログラムを書く．違いを見ること．\n",
        "\n",
        "**説明**\n",
        "\n",
        "再帰呼び出しを使わないので，自分でスタックを用意する必要がある．\n",
        "\n",
        "**コード**\n",
        "\n",
        "dfs_xtraCommandLine_J.c と dfs_recursive_J.cとを混ぜ合わせたような形になっている．  \n",
        "再起呼び出しに代わる部分をよく読解すること．  \n",
        "構造体変数を導入し，CurrentRoom変数とRoomToCheck変数をスタックとしてサポートする．\n",
        "\n",
        "**備考**\n",
        "\n",
        "再帰呼び出しを使わない場合のコードの長さ（複雑さ）を確認すること．"
      ]
    },
    {
      "cell_type": "code",
      "metadata": {
        "id": "ExTSivAKSKcX"
      },
      "source": [
        "%%writefile dfs_NoRecursive_J.c\n",
        "// Depth First Search.\n",
        "// kameda[at]ccs.tsukuba.ac.jp, 2021.\n",
        "// -- Extra --\n",
        "//    Accept command line option\n",
        "//    No recursive calls\n",
        "#include <stdio.h> // printf()\n",
        "#include <stdlib.h> // atoi()\n",
        "#include \"graph3.h\"\n",
        "\n",
        "// stackの1つ分の構造体変数\n",
        "struct stackelement {\n",
        "    int CurrentRoom;\n",
        "    int RoomToCheck;\n",
        "};\n",
        "\n",
        "// 深さ優先探索本体\n",
        "void dfs(int StartingRoom){\n",
        "\tint listed[N];  // 0 未, 1 済\n",
        "    struct stackelement stack[N];\n",
        "\tint stacktop = 0;\n",
        "\n",
        "\tint visited[N]; // 列挙順を記録するための配列\n",
        "\tint num_visited = 0; // 記録済の頂点数\n",
        "\n",
        "    struct stackelement visiting; // 局所変数 (CurrentRoom and RoomToCheck)\n",
        "    int r;\n",
        "\n",
        "\tfor (r = 0; r < N; r++)\n",
        "\t\tlisted[r] = 0;\n",
        "\n",
        "\tprintf(\"深さ優先探索を 頂点%d から開始します．\\n\", StartingRoom);\n",
        "    // StartingRoomをスタックに積む\n",
        "    visiting.CurrentRoom = StartingRoom;\n",
        "    visiting.RoomToCheck = 0;\n",
        "\n",
        "\t// スタックに処理対象がある限り作業を継続\n",
        "\tdo {\n",
        "\t\tprintf(\"現在のスタック： 長さ %d, スタックトップは %d\\n\", stacktop, stack[stacktop - 1].CurrentRoom);\n",
        "\t\t{int i; printf(\"stack:RoomToCheck: \"); for (i = 0; i < stacktop; i++) printf(\"%d \", stack[i].RoomToCheck); printf(\"\\n\");}\n",
        "\t\t{int i; printf(\"stack:CurrentRoom: \"); for (i = 0; i < stacktop; i++) printf(\"%d \", stack[i].CurrentRoom); printf(\"\\n\");}\n",
        "\n",
        "        // 現頂点が新規のときのみ実行\n",
        "        if (listed[visiting.CurrentRoom] == 0) {\n",
        "    \t\t// 処理済みであることを記録\n",
        "\t    \tlisted[visiting.CurrentRoom] = 1;\n",
        "            // 列挙（訪問）したことを表示\n",
        "\t\t    printf(\"Listing (Visiting): %d\\n\", visiting.CurrentRoom);\n",
        "\t\t    // 最終表示用にも記録しておく\n",
        "\t\t    visited[num_visited] = visiting.CurrentRoom;\n",
        "\t\t    num_visited++;\n",
        "        }\n",
        "\n",
        "   \t\t// 次にどの頂点を列挙していくか検討\n",
        "\t\t//  「同じ優先度の頂点が複数あったときは，番号の小さい方の頂点を選択」を遵守\n",
        "\t\tfor ( ; visiting.RoomToCheck < N; visiting.RoomToCheck++) {\n",
        "    \t\tif (edge[visiting.CurrentRoom][visiting.RoomToCheck] == 0) {\n",
        "\t\t\t\tprintf(\"  (頂点 %d にて) 頂点 %d は隣接していませんでした‥\\n\", visiting.CurrentRoom, visiting.RoomToCheck);\n",
        "\t\t\t} else if (listed[visiting.RoomToCheck] != 0) {\n",
        "\t\t\t\tprintf(\"  (頂点 %d にて) 頂点 %d は隣接はしていますがすでに処理済でした‥\\n\", visiting.CurrentRoom, visiting.RoomToCheck);\n",
        "       \t\t} else {\n",
        "\t\t\t\tprintf(\"  (頂点 %d にて) まだ処理したことのない頂点 %d が隣接しているので、頂点 %d をスタックに積み上げて新しい頂点に向かいます．\\n\", visiting.CurrentRoom, visiting.RoomToCheck, visiting.CurrentRoom);\n",
        "        \t\t// 現在の CurrentRoom/RoomToCheck を将来の利用のためにスタックに積む\n",
        "\t\t\t\tstack[stacktop] = visiting;\n",
        "          \t\tstacktop++;\n",
        "                // 新しい部屋用の変数値を用意m\n",
        "                visiting.CurrentRoom = visiting.RoomToCheck;\n",
        "                visiting.RoomToCheck = 0;\n",
        "                break; // 新しい部屋に移動 (recursive callを見倣うためforループをブレークする)\n",
        "\t\t\t}\n",
        "\t\t}\n",
        "\n",
        "        // 今の部屋の調査は終了か？\n",
        "        if (visiting.RoomToCheck >= N) {\n",
        "     \t\tprintf(\"スタックトップの頂点 %d をスタックから降ろして処理を開始します．\\n\", stack[stacktop - 1].CurrentRoom);\n",
        "\t    \tvisiting = stack[stacktop - 1];\n",
        "            stacktop--;\n",
        "        }\n",
        "\t} while (stacktop > 0) ;\n",
        "\tprintf(\"処理待ち行列に何も残っていないので深さ優先探索を終了します．\\n\");\n",
        "\n",
        "\tprintf(\"深さ優先探索による頂点の列挙．\\n\");\n",
        "\tfor (r = 0; r < num_visited; r++)\n",
        "\t\tprintf(\"%d \", visited[r]);\n",
        "    printf(\"\\n\");\n",
        "\n",
        "\treturn;\n",
        "}\n",
        "\n",
        "// Main function\n",
        "int main(int argc, char *argv[]){\n",
        "    int startvertex = 0;\n",
        "    if (argc == 1) {\n",
        "        printf(\"指定がなかったので頂点0を開始頂点にします．\\n\");\n",
        "        startvertex = 0;\n",
        "    } else if (argc == 2) {\n",
        "        startvertex = atoi(argv[1]);\n",
        "        if (startvertex < 0 || startvertex >= N) {\n",
        "            printf(\"不正な頂点指定だったので終了します．\\n\");\n",
        "            return -1;\n",
        "        }\n",
        "    }\n",
        "\n",
        "\tdfs(startvertex);  // 開始頂点番号を引数にしてdfs関数を呼び出す\n",
        "\treturn 0;\n",
        "}"
      ],
      "execution_count": null,
      "outputs": []
    },
    {
      "cell_type": "markdown",
      "metadata": {
        "id": "sZ1TqiEdXn2d"
      },
      "source": [
        "コンパイルしてエラーが無いことを確認．"
      ]
    },
    {
      "cell_type": "code",
      "metadata": {
        "id": "7dnaKsOqXqsC"
      },
      "source": [
        "!gcc -Wall -o dfs_NoRecursive_J dfs_NoRecursive_J.c"
      ],
      "execution_count": null,
      "outputs": []
    },
    {
      "cell_type": "markdown",
      "metadata": {
        "id": "OvTvyc4JXxiC"
      },
      "source": [
        "実行．"
      ]
    },
    {
      "cell_type": "code",
      "metadata": {
        "id": "NDkmqjCjXyJ_"
      },
      "source": [
        "!./dfs_NoRecursive_J 0"
      ],
      "execution_count": null,
      "outputs": []
    },
    {
      "cell_type": "markdown",
      "metadata": {
        "id": "DY_MbwoPf_9h"
      },
      "source": [
        "# 節末課題\n",
        "\n",
        "【注意】\n",
        "ChatGPT等を利用することは構わないが，本授業内容に即していない説明となっている可能性が高い（ので不正解になる可能性が高い）ことに注意すること．   \n",
        "\n",
        "\n",
        "1. アルゴリズムの記述  \n",
        "スタックを用いた深さ優先探索のアルゴリズムを日本語を用いて記述せよ．\n",
        "本講義資料に即した説明であること．   \n",
        "スタックの図も用いること．\n",
        "\n",
        "\n",
        "2. アルゴリズムの完全性  \n",
        "連結な無向グラフが与えられている限り，本節で示した深さ優先探索アルゴリズムは必ず全頂点を列挙して終わることを示せ．これは本来は証明問題である．そういう文献等を探してきて読解しそれを説明するだけでも良い．\n",
        "\n",
        "\n",
        "3. 計算量  \n",
        "各プログラムの時間計算量と空間計算量を議論せよ．\n",
        "\n",
        "\n",
        "4. スタック使用量  \n",
        "プログラム dfs_recursive_J においては，どのような無向で連結なグラフが指定されても，スタックに必要な領域が頂点数（の常数倍）を超えないことを示せ．\n",
        "\n",
        "\n",
        "5. スタック一時使用量  \n",
        "プログラム dfs_recursive_J においては，どのような無向で連結なグラフが指定されると，スタックの使用量が一時的にとはいえ最大となるか理由と共に示せ．ここでいう最大とは，スタックが一番高く積み上がる状態を言う．\n",
        "\n",
        "\n",
        "6. 再帰呼出利用による構造の簡素化  \n",
        "本節で挙げたプログラムのうち，再帰呼出を用いたプログラム dfs_recursive_J.c が，その前のプログラム dfs_simple_J.c と比べてどう構造的に簡素化されているのか自分なりに説明せよ．\n",
        "\n",
        "\n",
        "7. 再帰呼出利用におけるスタックの見える化  \n",
        "再帰呼出を用いたプログラムにおいて，dfs()関数内の CurrentRoom, RoomToCheck 変数，および大域変数の変化を示しながら，グラフG3の開始頂点0における実行の様子を丁寧に示せ．特にスタック領域におけるCurrentRoom, RoomToCheckの確保のされ方については明確に示すこと．\n",
        "\n",
        "\n",
        "8. スタックの内容の違い  \n",
        "ここで示した２つのプログラム ( dfs_xtraCommandLine_J, dfs_recursive_J ) において，注意深く観察すると，同じ開始頂点を与えたときに列挙結果は同じとなるものの，途中のスタックの中身は同じではない．どちらも深さ優先探索ではある．この違いが発生する原因を考察せよ．\n",
        "\n",
        "\n",
        "9. スタック使用量の正確な見積もり  \n",
        "dfs_simple_J プログラム (dfs_xtraCommandLine_J, dfs_FuncCalls_Jも同じ) において，stack[]の要素数としてN^2としているが，実際には少し余裕がある．それでは，どのようなグラフが来ても対応できる最小の要素数について，検討せよ．\n",
        "\n",
        "\n",
        "10. 再帰呼出プログラムでの頂点からの撤退  \n",
        "「printf(\"  (頂点 %d にて) することが無くなったのでこの頂点から撤退します．\\n\", CurrentRoom);」という文を dfs_recursive_J.c に追記するとしたらどこが適切か示せ．\n",
        "\n",
        "\n",
        "11. 深さ表示の追加  \n",
        "深さ優先探索の結果の列挙において，それぞれの頂点の深さ（開始頂点からの辺数）を合わせて表示するプログラムを作成せよ．ベースには dfs_recursive-short_J を用いること．(例：「★★列挙： 0 (深さ 0)」 ... ★★列挙： 7 (深さ 5) ... ★★列挙： 4 (深さ 4)」)\n",
        "\n",
        "\n",
        "\n"
      ]
    },
    {
      "cell_type": "markdown",
      "metadata": {
        "id": "WcTWSr8X-pho"
      },
      "source": [
        "#**Course Info**\n",
        "\n",
        "https://github.com/kameda-yoshinari/DataAlgo-UT  \n",
        "筑波大学工学システム学類  \n",
        "データ構造とアルゴリズム  \n",
        "担当：亀田能成  \n",
        "2025/04/30 小改訂    \n",
        "2023/04/19 2023年度向けに改訂  \n",
        "2022/04/12 フォルダ構成を更新  \n",
        "2021/05/07 改訂初版   "
      ]
    }
  ]
}