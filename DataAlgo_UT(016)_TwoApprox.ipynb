{
  "nbformat": 4,
  "nbformat_minor": 0,
  "metadata": {
    "colab": {
      "provenance": [],
      "include_colab_link": true
    },
    "kernelspec": {
      "name": "python3",
      "display_name": "Python 3"
    }
  },
  "cells": [
    {
      "cell_type": "markdown",
      "metadata": {
        "id": "view-in-github",
        "colab_type": "text"
      },
      "source": [
        "<a href=\"https://colab.research.google.com/github/kameda-yoshinari/DataAlgo-UT/blob/main/DataAlgo_UT(016)_TwoApprox.ipynb\" target=\"_parent\"><img src=\"https://colab.research.google.com/assets/colab-badge.svg\" alt=\"Open In Colab\"/></a>"
      ]
    },
    {
      "cell_type": "markdown",
      "metadata": {
        "id": "yRmydXneMgT8"
      },
      "source": [
        "# 8. 近似アルゴリズム\n",
        "\n",
        "多項式時間では解が求められない問題について、多項式時間で近似解を求めることを考える．  \n",
        "近似解が厳密解にどれだけ近いか精度保証が出来る場合、近似解を与えるアルゴリズムを近似アルゴリズムと呼ぶ．\n",
        "\n",
        "\n",
        "\n",
        "**いつもの約束**  \n",
        "１つのコードセルだけの実行は Ctrl + Enter．  \n",
        "エディタで「インデント幅（スペース）は4で表示」「行番号を表示」「インデントガイドを表示」．  \n",
        "内部では日本語はUTF-8で表現されている．\n"
      ]
    },
    {
      "cell_type": "markdown",
      "metadata": {
        "id": "CdQdV_MJIlce"
      },
      "source": [
        "# 準備\n",
        "\n",
        "インスタンスに接続し起動する．  \n",
        "下記の手順でGoogle Driveをマウントする．  \n",
        "マウント先に移動し，作業フォルダとする．  \n",
        "これによって，インスタンスがリセットされてもGoogle Drive内にファイルが保存されるようにする．"
      ]
    },
    {
      "cell_type": "code",
      "metadata": {
        "id": "DMtqXRXJIPMR"
      },
      "source": [
        "!echo \"Google Driveをマウントします\"\n",
        "from google.colab import drive\n",
        "drive.mount('/content/drive')"
      ],
      "execution_count": null,
      "outputs": []
    },
    {
      "cell_type": "code",
      "metadata": {
        "id": "SABzmuELIaj2"
      },
      "source": [
        "!echo \"今回の作業用フォルダを作成しそこに移動します\"\n",
        "%cd /content/drive/My\\ Drive/\n",
        "%mkdir -p UT_DataAlgo/DA_016\n",
        "%cd       UT_DataAlgo/DA_016\n",
        "!ls\n",
        "!echo \"日本時間表示\"\n",
        "!rm /etc/localtime\n",
        "!ln -s /usr/share/zoneinfo/Japan /etc/localtime\n",
        "!date"
      ],
      "execution_count": null,
      "outputs": []
    },
    {
      "cell_type": "markdown",
      "metadata": {
        "id": "4s3BWazcz1FB"
      },
      "source": [
        "# 8.1.２近似アルゴリズム\n",
        "\n",
        "本節では，幾何制約のついた巡回セールスマン問題において、２近似アルゴリズムが得られることを学習する．  \n",
        "このとき，近似解は多項式時間で得られるし，その解が示す経路値は最小経路値の２倍以内であることは保証されるが，それでもなお最小経路値については不明のままであることに注意する．\n",
        "\n",
        "# 巡回セールスマン問題 (Traveling Salesman's Problem / TSP)\n",
        "\n",
        "**問題**\n",
        "\n",
        "正の重み付きエッジによる無向連結グラフにおいて，全頂点を１度ずつ通る最短経路を求める．  \n",
        "このとき，エッジの重みに三角不等式が成立するとき，幾何巡回セールス問題という．  \n",
        "幾何がついてもつかなくても，巡回セールスマン問題は多項式時間では解けないとされている．  \n",
        "\n",
        "\n",
        "\n",
        "\n"
      ]
    },
    {
      "cell_type": "markdown",
      "metadata": {
        "id": "dd-hVe7gXiCk"
      },
      "source": [
        "# 全解探索法\n",
        "\n",
        "全ての頂点の並び順を考えれば，それが解候補となる．  \n",
        "経路として構成し得ることを確認し，その経路値を求める．  \n",
        "全ての解候補の中で最小の経路値を示した解候補が最適解\n",
        "である．  \n",
        "頂点数をNとすると解候補は N! 個存在するため，多項式時間で求めることはできない．"
      ]
    },
    {
      "cell_type": "markdown",
      "metadata": {
        "id": "5QkNub1bXi1l"
      },
      "source": [
        "# ２近似アルゴリズム\n",
        "\n",
        "TSPのような最小化問題において，最適解の値のα倍以内の近似解を求めるアルゴリズムを，α近似アルゴリズムという．  \n",
        "\n",
        "**アルゴリズム**\n",
        "\n",
        "N頂点のグラフに対する幾何巡回セールス問題の２近似アルゴリズムを以下に示す．\n",
        "\n",
        "1. 全頂点を含む最小全域木(Minimum Spanning Tree, MST) T を求める．（多項式時間で得られる）\n",
        "2. Tの全頂点を通る経路 C を求める．（ある頂点を根として深さ優先探索すれば求められる）\n",
        "3. 経路 C において，すでに通過済みの頂点は訪れずに飛ばす新たな経路 C' を得る．\n",
        "\n",
        "最小全域木とは，全頂点を含む木の中でその重みが最も小さいものをいう．  \n",
        "C' が２近似解である．  \n",
        "\n",
        "MSTの説明については後述する．\n",
        "\n",
        "\n",
        "**計算時間**\n",
        "\n",
        "手順1は後のC言語プログラムで実際に示すように、Nについて多項式時間で得られる．  \n",
        "手順2,3は明らかにNについて多項式時間で実行できる．  \n",
        "よって，近似解は多項式時間で求められる．\n",
        "\n",
        "**精度**\n",
        "\n",
        "今，グラフGのエッジの重み合計をw(G)で表すことにすると，明らかに下記が成立する．  \n",
        "このとき，Cでは同じエッジを必ず２回（行きと帰りに１回ずつ）通ることになることに注意する．\n",
        "\n",
        "> w(C') <= w(C) = w(2T) = 2 w(T)\n",
        "\n",
        "最適解を Co とすると，Co に含まれる辺はN本である．  \n",
        "Tは最小全域木なので，必ず次が成立する．  \n",
        "（CoよりTの方が辺が１本少ないし，１本道（これも木の一種）よりも一般的な木の方が軽い可能性がある）  \n",
        "\n",
        "> w(T) < w(Co)\n",
        "\n",
        "また，定義から次は自明．\n",
        "\n",
        "> w(Co) < w(C')\n",
        "\n",
        "これらから，次式を得る．\n",
        "\n",
        "> w(Co) < w(C') <= 2 w(T)\n",
        "\n",
        "> 1 < w(C')/w(Co) <= 2 W(T) / w(Co)\n",
        "\n",
        "> 1 < w(C')/w(Co) <= 2 W(T) / w(Co) < 2 w(T) / w(T)\n",
        "\n",
        "> w(C') / w(Co) < 2\n",
        "\n",
        "このことは，近似解 C' の重みが最適解 Co の重みの2倍を超えないことを保証している．\n",
        "\n",
        "\n",
        "\n"
      ]
    },
    {
      "cell_type": "markdown",
      "metadata": {
        "id": "9NVTZ-ukcDcy"
      },
      "source": [
        "# Primのアルゴリズム\n",
        "\n",
        "最小全域木を多項式時間で求めるアルゴリズムの例として，PrimのアルゴリズムのCプログラム実装例を以下に示す．  \n",
        "Primのアルゴリズムは，連結無向グラフに適用できる．\n",
        "アルゴリズムについてはwikipedia等に解説がある．\n",
        "\n",
        "https://ja.wikipedia.org/wiki/プリム法\n",
        "\n",
        "**解説**\n",
        "\n",
        "ごく簡単に要約すれば，開始頂点を一つ選び頂点一つからなる木を作る．\n",
        "それ以降は，木に含まれてない頂点の中で，木の側から最も重みの小さい辺で繋がっている頂点を木に追加する，ということを繰り返す．最終的に全頂点が木に含まれるようになった時点でアルゴリズムを停止する．    \n",
        "（この処理の過程では，木に閉路が生じないことに注意する）\n",
        "\n",
        "![TSP説明用のグラフ例](https://user-images.githubusercontent.com/45651568/173709906-7d1a1c2f-b1b9-4d91-a56a-66a2338dbda9.jpg)\n",
        "\n",
        "このグラフで，左上の頂点を開始頂点に選ぶと，重さが2,1,4,3,6の辺を順に選択していくことでMSTが得られる．    \n",
        "なお，どの頂点を開始頂点に選んでも，結果として得られるMSTは同じである．  \n",
        "\n",
        "**実装**\n",
        "\n",
        "\n",
        "プログラムは自分で読んでみること．  \n",
        "実は（Dijkstraのアルゴリズムと同様にこれもまた），Greedy（でありながら最適解を得る）アルゴリズムである．\n"
      ]
    },
    {
      "cell_type": "code",
      "metadata": {
        "id": "Qna8qYZOZXjQ"
      },
      "source": [
        "%%writefile MST-Prim.c\n",
        "// Prim's algorithm for MST by Neeraj Mishra\n",
        "// (kameda[at]ccs.tsukuba.ac.jp, 2021.)\n",
        "// https://www.thecrazyprogrammer.com/2014/06/prims-algorithm-and-program-for-minimum-cost-spanning-tree.html\n",
        "#include<stdio.h>\n",
        "#include<stdlib.h>\n",
        "\n",
        "#define infinity 9999\n",
        "#define MAX 20\n",
        "\n",
        "int n; // number of edges in the graph\n",
        "int edge[MAX][MAX];\n",
        "int spanning[MAX][MAX];\n",
        "\n",
        "int prims(void) {\n",
        "    int cost[MAX][MAX];\n",
        "\tint u, v, min_distance, distance[MAX], from[MAX];\n",
        "\tint visited[MAX], no_of_edges, i, min_cost, j;\n",
        "\n",
        "\tmin_cost = 0;\n",
        "\n",
        "\t//create cost[][] matrix,spanning[][]\n",
        "\tfor (i = 0; i < n; i++)\n",
        "\t\tfor (j = 0; j < n; j++) {\n",
        "\t\t\tif (edge[i][j] == 0)\n",
        "\t\t\t\tcost[i][j] = infinity;\n",
        "\t\t\telse\n",
        "\t\t\t\tcost[i][j] = edge[i][j];\n",
        "\t\t\tspanning[i][j]=0;\n",
        "\n",
        "\t\t}\n",
        "\n",
        "\t//initialize visited[], distance[] and from[]\n",
        "\tprintf(\"\\nPrims: Vertex 0 is selected as for the start.\\n\");\n",
        "\tdistance[0] = 0;\n",
        "\tvisited[0]  = 1;\n",
        "\tfor (i = 1; i < n; i++) {\n",
        "\t\tdistance[i] = cost[0][i];\n",
        "\t\tfrom[i]     = 0;\n",
        "\t\tvisited[i]  =0;\n",
        "\t}\n",
        "\n",
        "\tmin_cost = 0; //cost of spanning tree\n",
        "\tno_of_edges = n-1; //no. of edges to be added\n",
        "\n",
        "    // Core loop: add en edge one by one ...\n",
        "\twhile (no_of_edges > 0) {\n",
        "\t\t//find the new vertex with the minimum distance from the visited vertices ... Greedy!\n",
        "\t\tmin_distance = infinity;\n",
        "\t\tfor (i = 1; i < n; i++)\n",
        "\t\t\tif ( visited[i] == 0 && distance[i] < min_distance) {\n",
        "\t\t\t\tv = i;\n",
        "\t\t\t\tmin_distance = distance[i];\n",
        "\t\t\t}\n",
        "\n",
        "\t\tu = from[v];\n",
        "\t\tprintf(\"Vertice %d is selected (distance %d from Vertex %d)\\n\", v, min_distance, u);\n",
        "\n",
        "\t\t//insert the edge in spanning tree\n",
        "\t\tspanning[u][v] = distance[v];\n",
        "\t\tspanning[v][u] = distance[v];\n",
        "\t\tno_of_edges--;\n",
        "\t\tvisited[v]=1;\n",
        "\n",
        "\t\t//update the distance[] array\n",
        "\t\tfor (i = 1; i < n; i++)\n",
        "\t\t\tif (visited[i] == 0 && cost[i][v] < distance[i]) {\n",
        "\t\t\t\tdistance[i] = cost[i][v];\n",
        "\t\t\t\tfrom[i] = v;\n",
        "\t\t\t}\n",
        "\n",
        "\t\tmin_cost = min_cost + cost[u][v];\n",
        "\t}\n",
        "\n",
        "\treturn min_cost;\n",
        "}\n",
        "\n",
        "// Main function\n",
        "int main() {\n",
        "\tint i,j,total_cost;\n",
        "\tprintf(\"Enter no. of vertices:\");\n",
        "\tscanf(\"%d\",&n);\n",
        "\n",
        "\tprintf(\"\\nEnter the adjacency matrix:\\n\");\n",
        "\n",
        "\tfor(i = 0; i < n; i++)\n",
        "\t\tfor(j = 0; j < n; j++)\n",
        "\t\t\tscanf(\"%d\", &edge[i][j]);\n",
        "\n",
        "\ttotal_cost = prims();\n",
        "\n",
        "\tprintf(\"\\ninput  matrix:\\n\");\n",
        "\tfor(i = 0; i < n; i++)\n",
        "\t{\n",
        "\t\tprintf(\"\\n\");\n",
        "\t\tfor(j = 0; j < n; j++)\n",
        "\t\t\tprintf(\"%d\\t\", edge[i][j]);\n",
        "\t}\n",
        "\n",
        "\tprintf(\"\\n\\nspanning tree matrix:\\n\");\n",
        "\tfor(i = 0; i < n; i++)\n",
        "\t{\n",
        "\t\tprintf(\"\\n\");\n",
        "\t\tfor(j = 0; j < n; j++)\n",
        "\t\t\tprintf(\"%d\\t\", spanning[i][j]);\n",
        "\t}\n",
        "\n",
        "\tprintf(\"\\n\\nTotal cost of spanning tree=%d\",total_cost);\n",
        "\treturn 0;\n",
        "}\n",
        "\n",
        "\n",
        "/****\n",
        "\n",
        "-- Example A --\n",
        "Enter no. of vertices:6\n",
        "\n",
        "Enter the adjacency matrix:\n",
        "0 2 0 7 0 0\n",
        "2 0 1 4 6 0\n",
        "0 1 0 0 0 5\n",
        "7 4 0 0 0 3\n",
        "0 6 0 0 0 8\n",
        "0 0 5 3 8 0\n",
        "\n",
        "spanning tree matrix:\n",
        "\n",
        "0 3 1 0 0 0\n",
        "3 0 0 0 3 0\n",
        "1 0 0 0 0 4\n",
        "0 0 0 0 0 2\n",
        "0 3 0 0 0 0\n",
        "0 0 4 2 0 0\n",
        "\n",
        "Total cost of spanning tree=13\n",
        "\n",
        "****/\n",
        "\n",
        "/****\n",
        "\n",
        "-- Example B --\n",
        "Enter no. of vertices:6\n",
        "\n",
        "Enter the adjacency matrix:\n",
        "0 3 1 6 0 0\n",
        "3 0 5 0 3 0\n",
        "1 5 0 5 6 4\n",
        "6 0 5 0 0 2\n",
        "0 3 6 0 0 6\n",
        "0 0 4 2 6 0\n",
        "\n",
        "spanning tree matrix:\n",
        "\n",
        "0 3 1 0 0 0\n",
        "3 0 0 0 3 0\n",
        "1 0 0 0 0 4\n",
        "0 0 0 0 0 2\n",
        "0 3 0 0 0 0\n",
        "0 0 4 2 0 0\n",
        "\n",
        "Total cost of spanning tree=13\n",
        "\n",
        "****/\n"
      ],
      "execution_count": null,
      "outputs": []
    },
    {
      "cell_type": "code",
      "metadata": {
        "id": "UcFL-3AR8XSu"
      },
      "source": [
        "!gcc -Wall -o MST-Prim MST-Prim.c"
      ],
      "execution_count": null,
      "outputs": []
    },
    {
      "cell_type": "markdown",
      "metadata": {
        "id": "CxBI4UbEcB9L"
      },
      "source": [
        "実行してみよう．最初に頂点数を，次に隣接行列を入力する．  \n",
        "隣接行列は複数行纏めて入力することができる．  "
      ]
    },
    {
      "cell_type": "code",
      "metadata": {
        "id": "O3zzVD4tcA3h"
      },
      "source": [
        "!./MST-Prim"
      ],
      "execution_count": null,
      "outputs": []
    },
    {
      "cell_type": "markdown",
      "metadata": {
        "id": "bStYIhaRc_Ng"
      },
      "source": [
        "時間計算量が頂点数に対して多項式時間であることを確認しておくこと．"
      ]
    },
    {
      "cell_type": "markdown",
      "metadata": {
        "id": "DY_MbwoPf_9h"
      },
      "source": [
        "# 節末課題\n",
        "\n",
        "1. 計算量についての考察  \n",
        "MST-Prim.c プログラムの時間計算量と空間計算量について考察せよ．その根拠を説明すること．  \n",
        "\n",
        "\n",
        "2. 精度保証の導出  \n",
        "「これらから，次式を得る．」とある部分を実際に導出せよ．  \n",
        "\n",
        "3. MST-Prim エラーチェック  \n",
        "MST-Prim プログラムでは入力データに対してエラーチェックがなされていない．想定外の入力を棄却する安全なプログラムを作成せよ．\n",
        "\n",
        "\n",
        "\n",
        "\n",
        "\n"
      ]
    },
    {
      "cell_type": "markdown",
      "metadata": {
        "id": "cZ-1SycnqxVa"
      },
      "source": [
        "# 出典\n",
        "\n",
        "筑波大学工学システム学類  \n",
        "データ構造とアルゴリズム  \n",
        "担当：亀田能成  \n",
        "2025/06/18 文言修正  \n",
        "2024/06/19 例示改訂  \n",
        "2022/06/15 ミス修正  \n",
        "2022/05/31 文言修正  \n",
        "2022/04/13 フォルダ構成を更新  \n",
        "2021/06/23 初版"
      ]
    }
  ]
}