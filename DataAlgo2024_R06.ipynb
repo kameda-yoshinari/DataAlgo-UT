{
  "nbformat": 4,
  "nbformat_minor": 0,
  "metadata": {
    "colab": {
      "provenance": [],
      "include_colab_link": true
    },
    "kernelspec": {
      "name": "python3",
      "display_name": "Python 3"
    }
  },
  "cells": [
    {
      "cell_type": "markdown",
      "metadata": {
        "id": "view-in-github",
        "colab_type": "text"
      },
      "source": [
        "<a href=\"https://colab.research.google.com/github/kameda-yoshinari/DataAlgo-UT/blob/main/DataAlgo2024_R06.ipynb\" target=\"_parent\"><img src=\"https://colab.research.google.com/assets/colab-badge.svg\" alt=\"Open In Colab\"/></a>"
      ]
    },
    {
      "cell_type": "markdown",
      "metadata": {
        "id": "-SqpuNOEWS-a"
      },
      "source": [
        "# データ構造とアルゴリズム 第6週課題 (2024/05/29 ver.A)\n",
        "\n",
        "---\n",
        "\n",
        "\n",
        "★下記３要素を**必ず直接書き換えてから**提出すること．\n",
        "\n",
        "* 学籍番号：（ここに記入；例 202099998）\n",
        "* 氏名：（ここに記入；例 筑波太郎）\n",
        "* Colabアカウント：（ここに記入；例 tsukuba.taro.xs@alumni.tsukuba.ac.jp）\n",
        "\n",
        "**学生同士で教えた・教わった・グループワークをした場合，必ず下記の当該行を直接書き換えて記述すること．**  \n",
        "申告があった場合は，論述などで内容が似ていたり，プログラムが似ていても減点はしない．（コピペレベルの同一文などは処罰対象）  \n",
        "**教えた側は加点対象となる．**\n",
        "\n",
        "**[教えた側]**  \n",
        "教えた相手：＜氏名＞　＜学籍番号＞  \n",
        "（何名いてもよい；教えた相手の内容が浅くなってないか確認すること）\n",
        "\n",
        "**[教わった側]**  \n",
        "教わった相手：＜氏名＞　＜学籍番号＞  \n",
        "（何名いてもよい；必ず教えた側に自分の名前を書いてもらうこと）\n",
        "\n",
        "**[グループワーク]**  \n",
        "一緒に行った相手：＜氏名＞　＜学籍番号＞  \n",
        "（何名いてもよいが，必ずお互いの名前を全員記すこと）\n",
        "\n"
      ]
    },
    {
      "cell_type": "markdown",
      "metadata": {
        "id": "TjOgrYW8lAmy"
      },
      "source": [
        "---\n",
        "# 必須課題6A Dijkstraの解法での最短経路の表示の仕組み\n",
        "\n",
        "DataAlgo_UT(008)_ShortestPath1N.ipynb で示した shortest_dijkstra プログラムにおいて，それぞれの頂点への最小経路値を実現する経路を表示する仕組みをプログラムに即して説明せよ．  \n",
        "このとき，構造体CostFromのメンバ from に格納されている値について言及すること．  \n",
        "適宜プログラムを参照すること．\n"
      ]
    },
    {
      "cell_type": "code",
      "metadata": {
        "id": "EsEY_kqwDdXc"
      },
      "source": [],
      "execution_count": null,
      "outputs": []
    },
    {
      "cell_type": "markdown",
      "metadata": {
        "id": "j_LNv7qr2Jcq"
      },
      "source": [
        "（議論はここに記述；必要があれば図も）"
      ]
    },
    {
      "cell_type": "markdown",
      "metadata": {
        "id": "8NUVKBVvmvtw"
      },
      "source": [
        "---\n",
        "# 必須課題6B Dijkstraプログラムの計算量\n",
        "\n",
        "\n",
        "DataAlgo_UT(008)_ShortestPath1N.ipynb で示した shortest_diskstra プログラムの時間計算量と空間計算量を，プログラムの構造を参照しつつ議論せよ．\n",
        "\n"
      ]
    },
    {
      "cell_type": "markdown",
      "metadata": {
        "id": "B9Z8A8xin-Ru"
      },
      "source": [
        "（議論はここに記述）"
      ]
    },
    {
      "cell_type": "markdown",
      "metadata": {
        "id": "hRiIuzTTANJ_"
      },
      "source": [
        "---\n",
        "# 必須課題6C Floydの解法での最短経路の表示の仕組み\n",
        "\n",
        "DataAlgo_UT(009)_ShortestPathNN.ipynb で示した shortest_floyd のCプログラムにおいて，全ての頂点対の最小経路を表示する部分には再帰呼出関数を用いている．  \n",
        "これについて，本プログラムが最小経路を表示していく仕組みを説明せよ．  \n",
        "特に，via[][]が格納している値について言及しながら説明すること．  \n",
        "適宜プログラムを参照すること．\n"
      ]
    },
    {
      "cell_type": "code",
      "source": [],
      "metadata": {
        "id": "qXH55uYoGDNf"
      },
      "execution_count": null,
      "outputs": []
    },
    {
      "cell_type": "markdown",
      "metadata": {
        "id": "q4ZmHSMKBGDd"
      },
      "source": [
        "（議論はここに記述；必要があれば図も）"
      ]
    },
    {
      "cell_type": "markdown",
      "metadata": {
        "id": "sh-BC5I0A0ye"
      },
      "source": [
        "---\n",
        "# 必須課題6D Floyd プログラムの計算量\n",
        "\n",
        "DataAlgo_UT(009)_ShortestPathNN.ipynb で示した shortest_floyd プログラムの時間計算量と空間計算量を，プログラムの構造を参照しつつ議論せよ．\n"
      ]
    },
    {
      "cell_type": "markdown",
      "metadata": {
        "id": "ZpaHbvVwBJha"
      },
      "source": [
        "（議論はここに記述）"
      ]
    },
    {
      "cell_type": "markdown",
      "metadata": {
        "id": "kkDbcMn8z_At"
      },
      "source": [
        "---\n",
        "# 必須課題6E Dijkstraのプログラムを再利用したN対N最短経路推定プログラム\n",
        "\n",
        "N対Nの最短経路問題を解くにあたって，DataAlgo_UT(008)_ShortestPath1N.ipynb で示した shortest_diskstra プログラムを改良して実現して見よ．  \n",
        "プログラム内で開始頂点を1からNまで変更しながら，dijkstraのアルゴリズムを実行するという方針である．  \n",
        "改良したプログラムについて，時間計算量と空間計算量を議論せよ．\n",
        "\n"
      ]
    },
    {
      "cell_type": "code",
      "metadata": {
        "id": "dSRJ1rYt1HUe"
      },
      "source": [
        "%%writefile Repor6E.c\n",
        "//(プログラムをここに)"
      ],
      "execution_count": null,
      "outputs": []
    },
    {
      "cell_type": "code",
      "metadata": {
        "id": "5UaRDftA1PLC"
      },
      "source": [
        "!echo \"コンパイルと実行コマンドをここに（提出時に出力をつけておくこと）\""
      ],
      "execution_count": null,
      "outputs": []
    },
    {
      "cell_type": "markdown",
      "metadata": {
        "id": "jN9E7gBF2BUJ"
      },
      "source": [
        "(議論はここに記述）"
      ]
    },
    {
      "cell_type": "markdown",
      "metadata": {
        "id": "NTFmAWpPnnaz"
      },
      "source": [
        "---\n",
        "---\n",
        "# 発展課題6X 十分大きな数NC\n",
        "\n",
        "DataAlgo_UT(008)_ShortestPath1N.ipynb で示した shortest_diskstra プログラムや DataAlgo_UT(009)_ShortestPathNN.ipynb で示した shortest_floyd プログラムにおいて，\n",
        "あるグラフが与えられた時，暫定経路値の一時的最大値と最大重み辺が分かれば，NCを決めることができる．これを正確に求めることは難しいが，アルゴリズムの趣旨を考えれば，これは正確な値である必要はない．そこで，グラフの隣接行列が与えられたとして，NCの近似値として役に立つ数字を 時間計算量 O(N^2) で求める簡単な方法を考えてみよ．\n"
      ]
    },
    {
      "cell_type": "markdown",
      "metadata": {
        "id": "ljT6EzOYnUZp"
      },
      "source": [
        "（議論はここに記述）"
      ]
    },
    {
      "cell_type": "markdown",
      "metadata": {
        "id": "c7rf54NjW5f2"
      },
      "source": [
        "---\n",
        "# 課題提出法\n",
        "\n",
        "筑波大学工学システム学類３年生向け．  \n",
        "FG24711 / FG34711．  \n",
        "\n",
        "必須課題は全て実施すること．\n",
        "発展課題はしなくともよいが，A+取得には発展課題を（全課題提出を通して）1つ以上実施していることが必要条件である．\n",
        "\n",
        "該当するmanabaに課題提出のエントリを設けるので，そこに本**Colab notebookを元に各自で書き換えたColab notebookを提出**すること．\n",
        "\n",
        "\n"
      ]
    },
    {
      "cell_type": "markdown",
      "metadata": {
        "id": "16I4bHDBXkmq"
      },
      "source": [
        "\n",
        "\n",
        "# 出典\n",
        "\n",
        "筑波大学工学システム学類  \n",
        "データ構造とアルゴリズム  \n",
        "担当：亀田能成  \n",
        "  \n"
      ]
    }
  ]
}