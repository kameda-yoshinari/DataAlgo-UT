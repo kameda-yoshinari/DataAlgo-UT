{
  "nbformat": 4,
  "nbformat_minor": 0,
  "metadata": {
    "colab": {
      "provenance": [],
      "include_colab_link": true
    },
    "kernelspec": {
      "name": "python3",
      "display_name": "Python 3"
    }
  },
  "cells": [
    {
      "cell_type": "markdown",
      "metadata": {
        "id": "view-in-github",
        "colab_type": "text"
      },
      "source": [
        "<a href=\"https://colab.research.google.com/github/kameda-yoshinari/DataAlgo-UT/blob/main/DataAlgo_UT(001)_first_step.ipynb\" target=\"_parent\"><img src=\"https://colab.research.google.com/assets/colab-badge.svg\" alt=\"Open In Colab\"/></a>"
      ]
    },
    {
      "cell_type": "markdown",
      "metadata": {
        "id": "HQt1l5shZVQ1"
      },
      "source": [
        "#001: First step to google colaboratory\n",
        "---"
      ]
    },
    {
      "cell_type": "markdown",
      "metadata": {
        "id": "i2vKNOZ1ecz8"
      },
      "source": [
        "# Google Colaboratory at github\n",
        "\n",
        "このページは、最初の練習をするためのとてもシンプルなページです。  \n",
        "始める前に、すでにgoogle colaboratoryのチュートリアルを終えていることを前提としています。  \n",
        "ただし，本授業を進めるうえでは、AIに関係する部分(Gemini関連など)は必要ありません。  \n",
        "(ちなみに2025年度になってAI関係のチュートリアルが増強されまくりました)  \n",
        "https://colab.research.google.com/notebooks/welcome.ipynb?hl=ja  \n",
        "\n",
        "一通り学習が終わったらここに戻って次に進んでください。  \n",
        "なお，この授業ではGemini(やcoPilotなど)を学習時に利用して構いません。  \n",
        "レポート提出時に、どのように利用したかを明記して下さい。  \n"
      ]
    },
    {
      "cell_type": "markdown",
      "metadata": {
        "id": "pNb8UTvw7tyK"
      },
      "source": [
        "---\n",
        "# Taking the course material from github\n",
        "\n",
        "教材はgithubサイトで公開していきます。  \n",
        "https://github.com  \n",
        "https://github.com/kameda-yoshinari/DataAlgo-UT/  \n",
        "各コースの教材は ipynb (i-python notebook) 形式で作成されており、github で見ることができますし、google colaboratory でも（もちろん）利用できます。  \n",
        "\n",
        "「Colabで開く」アイコンをクリックすると、github上のページをcolaboratoryに取り込むことができます。  "
      ]
    },
    {
      "cell_type": "markdown",
      "metadata": {
        "id": "_1GNjUd3m21U"
      },
      "source": [
        "---\n",
        "#**Course Info**\n",
        "\n",
        "https://github.com/kameda-yoshinari/DataAlgo-UT  \n",
        "筑波大学工学システム学類  \n",
        "データ構造とアルゴリズム  \n",
        "担当：亀田能成  \n",
        "2025/04/16.  \n"
      ]
    }
  ]
}