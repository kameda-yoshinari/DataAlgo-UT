{
  "nbformat": 4,
  "nbformat_minor": 0,
  "metadata": {
    "colab": {
      "provenance": [],
      "include_colab_link": true
    },
    "kernelspec": {
      "name": "python3",
      "display_name": "Python 3"
    }
  },
  "cells": [
    {
      "cell_type": "markdown",
      "metadata": {
        "id": "view-in-github",
        "colab_type": "text"
      },
      "source": [
        "<a href=\"https://colab.research.google.com/github/kameda-yoshinari/DataAlgo-UT/blob/main/DataAlgo2024_R09.ipynb\" target=\"_parent\"><img src=\"https://colab.research.google.com/assets/colab-badge.svg\" alt=\"Open In Colab\"/></a>"
      ]
    },
    {
      "cell_type": "markdown",
      "metadata": {
        "id": "-SqpuNOEWS-a"
      },
      "source": [
        "# データ構造とアルゴリズム 第9週課題 (2024/06/19 ver.A)\n",
        "\n",
        "---\n",
        "\n",
        "\n",
        "★下記３要素を**必ず直接書き換えてから**提出すること．\n",
        "\n",
        "* 学籍番号：（ここに記入；例 202099998）\n",
        "* 氏名：（ここに記入；例 筑波太郎）\n",
        "* Colabアカウント：（ここに記入；例 tsukuba.taro.xs@alumni.tsukuba.ac.jp）\n",
        "\n",
        "**学生同士で教えた・教わった・グループワークをした場合，必ず下記の当該行を直接書き換えて記述すること．**\n",
        "申告があった場合は，論述などで内容が似ていたり，プログラムが似ていても減点はしない．（コピペレベルの同一文などは処罰対象）\n",
        "**教えた側は加点対象となる．**\n",
        "\n",
        "**[教えた側]**\n",
        "教えた相手：＜氏名＞　＜学籍番号＞\n",
        "（何名いてもよい；教えた相手の内容が浅くなってないか確認すること）\n",
        "\n",
        "**[教わった側]**\n",
        "教わった相手：＜氏名＞　＜学籍番号＞\n",
        "（何名いてもよい；必ず教えた側に自分の名前を書いてもらうこと）\n",
        "\n",
        "**[グループワーク]**\n",
        "一緒に行った相手：＜氏名＞　＜学籍番号＞\n",
        "（何名いてもよいが，必ずお互いの名前を全員記すこと）"
      ]
    },
    {
      "cell_type": "markdown",
      "metadata": {
        "id": "8NUVKBVvmvtw"
      },
      "source": [
        "---\n",
        "# 必須課題9A ナップサック問題の計算量に関する考察\n",
        "\n",
        "DataAlgo_UT(014)_KnapSack_BB.ipynb の Knsapsack-bf_Jプログラム, Knapsack-bt_Jプログラム, およびKnapsack-bb_Jプログラムそれぞれについて，時間計算量と空間計算量について考察せよ．特に，時間計算量については，幾つかのプログラムにおいては，ビッグオー表現では計算量が微妙な結果になってしまう状況が考えられる．その場合に，授業での解説を踏まえて解の正当性を説明せよ．\n",
        "\n"
      ]
    },
    {
      "cell_type": "markdown",
      "metadata": {
        "id": "j_LNv7qr2Jcq"
      },
      "source": [
        "（議論はここに記述）"
      ]
    },
    {
      "cell_type": "markdown",
      "metadata": {
        "id": "aExQhnAcClQB"
      },
      "source": [
        "---\n",
        "# 必須課題9B ナップサック問題を解くプログラムの計算量の実測\n",
        "\n",
        "DataAlgo_UT(014)_KnapSack_BB.ipynb で示した Knsapsack-bf_Jプログラム, Knapsack-bt_Jプログラム, およびKnapsack-bb_Jプログラムのそれぞれについて，計算量を実際に測定せよ．pickobject()関数の呼び出し回数を数えるプログラムを作成し，その数で3プログラムの計算コストを比較すること．ナップサックの重み制限を変更して，その変化を表にまとめること．重み制限を変えて10回以上実験すること．（つまり下記の表で10行以上のデータが集まるようにすること)\n",
        "結果を表にまとめ，考察もすること．\n",
        "\n",
        "|制限|bf|bt|bb|\n",
        "|---|--|--|--|\n",
        "|100|???|???|???|\n",
        "|200|???|???|???|\n",
        "|...|???|???|???|\n",
        "\n",
        "計算量の測定方法については，解候補を数える方法と今回の方法とで結果が異なる．\n",
        "その違いの理由を説明し，二つの測定方法のの優劣について論じること．\n"
      ]
    },
    {
      "cell_type": "markdown",
      "metadata": {
        "id": "RplBC85KCrzP"
      },
      "source": [
        "（議論はここに記述）"
      ]
    },
    {
      "cell_type": "markdown",
      "metadata": {
        "id": "TjOgrYW8lAmy"
      },
      "source": [
        "---\n",
        "# 必須課題9C 問題の還元にかかる計算量\n",
        "0-1ナップサック問題(6.3.節参照)を最長経路問題に還元するのに必要な時間計算量と空間計算量を，導出過程を含めて示せ．0-1ナップサック問題の品物の数を正整数N，ナップサック重量制限を正整数WLとする．各品物の重量は正整数で表されるものとする．"
      ]
    },
    {
      "cell_type": "markdown",
      "metadata": {
        "id": "B9Z8A8xin-Ru"
      },
      "source": [
        "（議論はここに記述）"
      ]
    },
    {
      "cell_type": "markdown",
      "metadata": {
        "id": "B6j6tdS-btea"
      },
      "source": [
        "---\n",
        "---\n",
        "# 発展課題9X 最小全域木を求めるプリムのアルゴリズム\n",
        "本授業において，最小全域木が必要になる状況がどのようなものか，githubなども参照して説明せよ．\n",
        "次に，最小全域木を求めるPrimのアルゴリズムを解説し，最小経路問題の解法の一つであるダイクストラのアルゴリズムとの相似点について言及せよ．何かしらの出典を見て纏めてももちろんよいが，その出典をURL等で明確に示すこと．\n",
        "ChatGPT等に相談してもよいが，その場合でも，そのアルゴリズムの出典を明確に示すこと．ChatGPTは『出典を正確に示すこと』（ChatGPT自身が話すことのデータソースがどこか明確に把握すること）が設計目的に入っていない（というか学習による獲得の結果なのでそもそも明確に「これ」という出典はない‥）ので，ChatGPT自身に出典を尋ねても違っていることがある．そのため，自分の目と頭で出典と一致するか確認すること．\n"
      ]
    },
    {
      "cell_type": "markdown",
      "metadata": {
        "id": "m_OmABYtcQYH"
      },
      "source": [
        "（議論はここに記述）"
      ]
    },
    {
      "cell_type": "markdown",
      "metadata": {
        "id": "c7rf54NjW5f2"
      },
      "source": [
        "---\n",
        "---\n",
        "# 課題提出法\n",
        "\n",
        "筑波大学工学システム学類３年生向け．\n",
        "FG24711 / FG34711．\n",
        "\n",
        "必須課題は全て実施すること．\n",
        "発展課題はしなくともよいが，A+取得には発展課題を（全課題提出を通して）1つ以上実施していることが必要条件である．\n",
        "\n",
        "該当するmanabaに課題提出のエントリを設けるので，そこに本**Colab notebookを提出**すること．"
      ]
    },
    {
      "cell_type": "markdown",
      "metadata": {
        "id": "20Ihcqd8Bz5w"
      },
      "source": [
        "\n",
        "# 出典\n",
        "\n",
        "筑波大学工学システム学類\n",
        "データ構造とアルゴリズム\n",
        "担当：亀田能成\n",
        "\n",
        "\n"
      ]
    }
  ]
}