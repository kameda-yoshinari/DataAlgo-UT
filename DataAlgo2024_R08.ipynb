{
  "nbformat": 4,
  "nbformat_minor": 0,
  "metadata": {
    "colab": {
      "provenance": [],
      "include_colab_link": true
    },
    "kernelspec": {
      "name": "python3",
      "display_name": "Python 3"
    }
  },
  "cells": [
    {
      "cell_type": "markdown",
      "metadata": {
        "id": "view-in-github",
        "colab_type": "text"
      },
      "source": [
        "<a href=\"https://colab.research.google.com/github/kameda-yoshinari/DataAlgo-UT/blob/main/DataAlgo2024_R08.ipynb\" target=\"_parent\"><img src=\"https://colab.research.google.com/assets/colab-badge.svg\" alt=\"Open In Colab\"/></a>"
      ]
    },
    {
      "cell_type": "markdown",
      "metadata": {
        "id": "-SqpuNOEWS-a"
      },
      "source": [
        "# データ構造とアルゴリズム 第8週課題 (2024/06/12 ver.A)\n",
        "\n",
        "---\n",
        "\n",
        "\n",
        "★下記３要素を**必ず直接書き換えてから**提出すること．\n",
        "\n",
        "* 学籍番号：（ここに記入；例 202099998）\n",
        "* 氏名：（ここに記入；例 筑波太郎）\n",
        "* Colabアカウント：（ここに記入；例 tsukuba.taro.xs@alumni.tsukuba.ac.jp）\n",
        "\n",
        "**学生同士で教えた・教わった・グループワークをした場合，必ず下記の当該行を直接書き換えて記述すること．**  \n",
        "申告があった場合は，論述などで内容が似ていたり，プログラムが似ていても減点はしない．（コピペレベルの同一文などは処罰対象）  \n",
        "**教えた側は加点対象となる．**\n",
        "\n",
        "**[教えた側]**  \n",
        "教えた相手：＜氏名＞　＜学籍番号＞  \n",
        "（何名いてもよい；教えた相手の内容が浅くなってないか確認すること）\n",
        "\n",
        "**[教わった側]**  \n",
        "教わった相手：＜氏名＞　＜学籍番号＞  \n",
        "（何名いてもよい；必ず教えた側に自分の名前を書いてもらうこと）\n",
        "\n",
        "**[グループワーク]**  \n",
        "一緒に行った相手：＜氏名＞　＜学籍番号＞  \n",
        "（何名いてもよいが，必ずお互いの名前を全員記すこと）"
      ]
    },
    {
      "cell_type": "markdown",
      "metadata": {
        "id": "8NUVKBVvmvtw"
      },
      "source": [
        "---\n",
        "# 必須課題8A 騎士の巡回問題での全解探索法の計算量  \n",
        "\n",
        "knighttour-bluteforce_J プログラムの時間計算量と空間計算量を議論せよ．盤のマスの数をNとしてよい．\n",
        "\n"
      ]
    },
    {
      "cell_type": "markdown",
      "metadata": {
        "id": "j_LNv7qr2Jcq"
      },
      "source": [
        "（議論はここに記述）"
      ]
    },
    {
      "cell_type": "markdown",
      "metadata": {
        "id": "aExQhnAcClQB"
      },
      "source": [
        "---\n",
        "# 必須課題8B 騎士の巡回問題でのバックトラック法での解候補の必要条件の実装\n",
        "\n",
        "DataAlgo_UT(011)_KnightTour.ipynb で示した knighttour-backtrack_J プログラムにおいて，「チェスの8x8の盤の中で」「同じマスにを2度通ることなしに（63手かけて）」「ナイトの移動方法のみで」「塗りつぶす」ことを確認している実装部分をそれぞれ示せ．"
      ]
    },
    {
      "cell_type": "markdown",
      "metadata": {
        "id": "RplBC85KCrzP"
      },
      "source": [
        "（議論はここに記述）"
      ]
    },
    {
      "cell_type": "markdown",
      "metadata": {
        "id": "TjOgrYW8lAmy"
      },
      "source": [
        "---\n",
        "# 必須課題8C 騎士の巡回問題での実行速度の改善  \n",
        "\n",
        "DataAlgo_UT(011)_KnightTour.ipynb で示した knighttour-bluteforce_J プログラムと knighttour-backtrack_J プログラムでは実行速度が問題になる．そこで，gccのコンパイルオプションについて調べ，実際にそれが実行速度にどのような違いをもたらすかを調査せよ．調査は実際にプログラムを実行させて行うこと．実行時間が1秒以上かかるような事例で調査すること（計測は授業内で示した方法で行うこと．実行時間が短い場合は５回以上実行して平均をとること）．"
      ]
    },
    {
      "cell_type": "markdown",
      "metadata": {
        "id": "B9Z8A8xin-Ru"
      },
      "source": [
        "（議論はここに記述）"
      ]
    },
    {
      "cell_type": "markdown",
      "metadata": {
        "id": "KmFQYgYnQc2T"
      },
      "source": [
        "---\n",
        "# 必須課題8D N-Queens問題での斜め方向の衝突判定\n",
        "\n",
        "DataAlgo_UT(012)_EightQueens.ipynb で示した NQueens_Jプログラムにおいて，列xの行yに女王があるとき，右下がり方向に取り合いになる（衝突し得る）女王はすべて x+y が同じになり，しかもその値が 0 から　2N-2 の間に収まることを示せ．同じく，右上がり方向に取り合いになる（衝突し得る）女王はすべて x-y+N-1 が同じで，かつその値は 0 から 2N-2 までの間に収まることを示せ．なお，ここで右下がりとは，X軸正を右に，Y軸正を上に取った場合である．"
      ]
    },
    {
      "cell_type": "markdown",
      "metadata": {
        "id": "HcK0aWuTQxY4"
      },
      "source": [
        "(議論はここに記述）"
      ]
    },
    {
      "cell_type": "markdown",
      "metadata": {
        "id": "BvxnQA-wDGgO"
      },
      "source": [
        "---\n",
        "# 必須課題8E 数独問題の難易度と実行時間との関係\n",
        "ナンバープレースについて，出題サイト等に行って，人間向けの難易度の異なる問題を3つ以上用意し，それぞれで DataAlgo_UT(013)_NumberPlace.ipynb の NumberPlace_Jプログラムを用いて実行時間を計測して，問題の難易度と実行時間との関係を考察せよ．そのような関係になる理由についても考察すること．\n"
      ]
    },
    {
      "cell_type": "markdown",
      "metadata": {
        "id": "tAevJP2QDYi1"
      },
      "source": [
        "(議論はここに記述）"
      ]
    },
    {
      "cell_type": "markdown",
      "metadata": {
        "id": "hRiIuzTTANJ_"
      },
      "source": [
        "---\n",
        "---\n",
        "# 発展課題8X X-SUDOKU  \n",
        "2本の対角線においても，1-9の数字を1つずつ配置するという制約を増やした問題をX-SUDOKUという．例えば [こういうサイト](http://www.sudoku-space.com/x-sudoku/) などに出題がある．  \n",
        "DataAlgo_UT(013)_NumberPlace.ipynb の NumberPlace_Jプログラムを改造してX-SUDOKUを解くプログラムを作成せよ．"
      ]
    },
    {
      "cell_type": "code",
      "metadata": {
        "id": "CGz65XfNP1ga"
      },
      "source": [
        "%%writefile X-Sudoku-8X.c\n",
        "//(プログラムをここに．ベースはNumberPlace_J.cでよい）"
      ],
      "execution_count": null,
      "outputs": []
    },
    {
      "cell_type": "code",
      "metadata": {
        "id": "5UaRDftA1PLC"
      },
      "source": [
        "!echo \"コンパイルと実行コマンドをここに（提出時に出力をつけておくこと，例はX-sudoku-A.txtでよい）\""
      ],
      "execution_count": null,
      "outputs": []
    },
    {
      "cell_type": "markdown",
      "metadata": {
        "id": "4ZibmqTTOaTh"
      },
      "source": [
        "---\n",
        "# 発展課題8Y 騎士の巡回問題の盤サイズへの挑戦  \n",
        "騎士の巡回問題において，盤のサイズを3x3から徐々に大きくしていった時，解の数と実行時間との関係に鋤いて調査せよ．このとき，長方形についても調査してみよ．(3x3, 3x4, 3x5, 3x6, など)   \n",
        "なお，8x8の実行は，本授業で提示しているアルゴリズムでは無謀である．どうして無謀と思えるのか，考察を試みよ．"
      ]
    },
    {
      "cell_type": "markdown",
      "metadata": {
        "id": "c7rf54NjW5f2"
      },
      "source": [
        "---\n",
        "# 課題提出法\n",
        "\n",
        "筑波大学工学システム学類３年生向け．  \n",
        "FG24711 / FG34711．  \n",
        "\n",
        "必須課題は全て実施すること．\n",
        "発展課題はしなくともよいが，A+取得には発展課題を（全課題提出を通して）1つ以上実施していることが必要条件である．\n",
        "\n",
        "該当するmanabaに課題提出のエントリを設けるので，そこに本**Colab notebookを提出**すること．"
      ]
    },
    {
      "cell_type": "markdown",
      "metadata": {
        "id": "p8SXVhoVOD9C"
      },
      "source": [
        "# 出典\n",
        "\n",
        "筑波大学工学システム学類  \n",
        "データ構造とアルゴリズム  \n",
        "担当：亀田能成  \n"
      ]
    }
  ]
}