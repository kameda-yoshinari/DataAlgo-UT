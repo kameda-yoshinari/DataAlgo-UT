{
  "nbformat": 4,
  "nbformat_minor": 0,
  "metadata": {
    "colab": {
      "provenance": [],
      "include_colab_link": true
    },
    "kernelspec": {
      "name": "python3",
      "display_name": "Python 3"
    }
  },
  "cells": [
    {
      "cell_type": "markdown",
      "metadata": {
        "id": "view-in-github",
        "colab_type": "text"
      },
      "source": [
        "<a href=\"https://colab.research.google.com/github/kameda-yoshinari/DataAlgo-UT/blob/main/DataAlgo2025_R03.ipynb\" target=\"_parent\"><img src=\"https://colab.research.google.com/assets/colab-badge.svg\" alt=\"Open In Colab\"/></a>"
      ]
    },
    {
      "cell_type": "markdown",
      "metadata": {
        "id": "-SqpuNOEWS-a"
      },
      "source": [
        "# データ構造とアルゴリズム 第3週課題 (2025/04/30 ver.A)\n",
        "\n",
        "★下記３要素を**必ず直接書き換えてから**提出すること．\n",
        "\n",
        "* 学籍番号： 202599001\n",
        "* 氏名： 筑波 翼\n",
        "* Colabアカウント： tsukuba.tsubasa.dummy@gmail.com\n",
        "\n",
        "**学生同士で教えた・教わった・グループワークをした場合，必ず下記の当該行を直接書き換えて記述すること．**  \n",
        "申告があった場合は，論述などで内容が似ていたり，プログラムが似ていても減点はしない．（コピペレベルの同一文などは処罰対象）  \n",
        "**教えた側は加点対象となる．**\n",
        "\n",
        "**[教えた側]**  \n",
        "教えた相手：＜氏名＞　＜学籍番号＞  \n",
        "（何名いてもよい；教えた相手の内容が浅くなってないか確認すること）\n",
        "\n",
        "**[教わった側]**  \n",
        "教わった相手：＜氏名＞　＜学籍番号＞  \n",
        "（何名いてもよい；必ず教えた側に自分の名前を書いてもらうこと）\n",
        "\n",
        "**[グループワーク]**  \n",
        "一緒に行った相手：＜氏名＞　＜学籍番号＞  \n",
        "（何名いてもよいが，必ずお互いの名前を全員記すこと）\n"
      ]
    },
    {
      "cell_type": "markdown",
      "metadata": {
        "id": "GRWyrzY-jxwu"
      },
      "source": [
        "---\n",
        "# 必須課題3A \"Hello Foo\"\n",
        "\n",
        "コマンドライン引数（１単語）を引き取って，\"Hello Esys\"の\"ESYS\"部分に表示するようなCプログラムを作成・コンパイル・実行せよ．  \n",
        "そのために３つのコードセルを次のように使用すること．\n",
        "\n",
        "1. 一つ目のコードセルではソースコードの編集と保存\n",
        "2. 二つ目のコードセルではコンパイル\n",
        "3. 三つ目のコードセルでは実行\n",
        "\n",
        "いずれも実行結果の出力が付いた状態で提出すること．（2.はエラーがなければ出力無しでよい）\n",
        "\n"
      ]
    },
    {
      "cell_type": "code",
      "metadata": {
        "id": "vm6Yo9W2k-5U"
      },
      "source": [
        "#ソースコード"
      ],
      "execution_count": null,
      "outputs": []
    },
    {
      "cell_type": "code",
      "metadata": {
        "id": "yK0Ukzook_HP"
      },
      "source": [
        "#コンパイル"
      ],
      "execution_count": null,
      "outputs": []
    },
    {
      "cell_type": "code",
      "metadata": {
        "id": "pbNmPx7Dk_RV"
      },
      "source": [
        "#実行"
      ],
      "execution_count": null,
      "outputs": []
    },
    {
      "cell_type": "markdown",
      "metadata": {
        "id": "TjOgrYW8lAmy"
      },
      "source": [
        "---\n",
        "# 必須課題3B 幅優先探索アルゴリズムの説明\n",
        "\n",
        "DataAlgo_UT(004)_BFSで示している幅優先探索アルゴリズムを，日本語で過不足なくかつ簡潔に記述せよ（テキストセル1）．  \n",
        "また，その記述に沿って，グラフ3において**開始頂点を2として図解**してみせよ（テキストセル2）．\n",
        "\n",
        "* 本授業内容（講義資料参照）に即した説明であること．\n",
        "* （ChatGPT等に相談すると授業内容と異なることが多いので注意すること．これはこれ以降すべてに共通）\n",
        "* キューをどのように利用しているかを記述に含めること．\n",
        "* 講義資料中に示したキューの図を図解に含めること．\n",
        "* 図解において頂点選択に同等の選択肢がある場合は頂点番号の小さいものから選ぶこと．\n",
        "\n",
        "文章については，一つ目ののテキストセルに記述すること．  \n",
        "図解については，YouTube Shortの形（２週目の課題参照）で二つ目のテキストセルにURLを示すこと．（手書きで紙に書くこと．肉声で解説しながら書くこと．本人確認も兼ねてるので，ペンタブや合成音声などは全て認めません）  \n",
        "例 https://youtube.com/shorts/T2YnvHBectU  \n"
      ]
    },
    {
      "cell_type": "markdown",
      "metadata": {
        "id": "mRLPlzcHmhiQ"
      },
      "source": [
        "（テキストセル1：この文字列を消してここに記述）"
      ]
    },
    {
      "cell_type": "markdown",
      "metadata": {
        "id": "E_IyfH8BmhvY"
      },
      "source": [
        "（テキストセル2：この文字列を消してここにURLを記述）"
      ]
    },
    {
      "cell_type": "markdown",
      "metadata": {
        "id": "8NUVKBVvmvtw"
      },
      "source": [
        "---\n",
        "# 必須課題3C 幅優先探索アルゴリズムの計算量\n",
        "\n",
        "DataAlgo_UT(004)_BFSで示している幅優先探索アルゴリズムの空間計算量と時間計算量について議論せよ．  \n",
        "(授業内で言及していた内容をまとめるだけでよい）  \n",
        "（ChatGPT等に相談すると授業内での言及と異なる説明をしてくることが多いので鵜呑みにしないこと．これはこれ以降すべてに共通）  \n"
      ]
    },
    {
      "cell_type": "markdown",
      "metadata": {
        "id": "B9Z8A8xin-Ru"
      },
      "source": [
        "（議論はここに記述）"
      ]
    },
    {
      "cell_type": "markdown",
      "metadata": {
        "id": "NTFmAWpPnnaz"
      },
      "source": [
        "---\n",
        "# 発展課題3X queue使用量とその限界\n",
        "\n",
        "どのような無向で連結なグラフが指定されても，queueに必要な記憶領域が頂点数を超えないことを示せ．  \n",
        "また，どのような無向で連結なグラフが指定されると，queueの記憶使用量が（一時的に）最大となるか理由と共に示せ．  \n",
        "ここで最大とは，qheadとqtailが最大限離れる状況を指す．  \n",
        "つまり，どのようなグラフが来たら，待ち行列が最大限延びる（キューに溜る）か？という設問である．\n",
        "\n",
        "（余談だがではキューが最小になる，つまり全然待ち行列が延びないようなグラフは？という設問も当然ありえる．）\n"
      ]
    },
    {
      "cell_type": "markdown",
      "metadata": {
        "id": "ljT6EzOYnUZp"
      },
      "source": [
        "（議論はここに記述）"
      ]
    },
    {
      "cell_type": "markdown",
      "metadata": {
        "id": "c7rf54NjW5f2"
      },
      "source": [
        "---\n",
        "# 課題提出法\n",
        "\n",
        "筑波大学工学システム学類３年生向け．  \n",
        "FG24711 / FG34711．  \n",
        "\n",
        "必須課題は全て実施すること．  \n",
        "発展課題はしなくともよいが，A+取得には発展課題を（全課題提出を通して）1つ以上実施していることが必要条件である．\n",
        "\n",
        "該当するmanabaに課題提出のエントリを設けるので，そこに本**Colab notebookを提出**すること．  \n",
        "\n",
        "\n",
        "# 出典\n",
        "\n",
        "筑波大学工学システム学類  \n",
        "データ構造とアルゴリズム  \n",
        "担当：亀田能成  \n",
        "\n"
      ]
    }
  ]
}