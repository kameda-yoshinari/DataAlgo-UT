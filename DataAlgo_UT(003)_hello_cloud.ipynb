{
  "nbformat": 4,
  "nbformat_minor": 0,
  "metadata": {
    "colab": {
      "provenance": [],
      "include_colab_link": true
    },
    "kernelspec": {
      "name": "python3",
      "display_name": "Python 3"
    }
  },
  "cells": [
    {
      "cell_type": "markdown",
      "metadata": {
        "id": "view-in-github",
        "colab_type": "text"
      },
      "source": [
        "<a href=\"https://colab.research.google.com/github/kameda-yoshinari/DataAlgo-UT/blob/main/DataAlgo_UT(003)_hello_cloud.ipynb\" target=\"_parent\"><img src=\"https://colab.research.google.com/assets/colab-badge.svg\" alt=\"Open In Colab\"/></a>"
      ]
    },
    {
      "cell_type": "markdown",
      "metadata": {
        "id": "Ks1oJ0zhabPO"
      },
      "source": [
        "# 003: Hello Cloud\n",
        "\n",
        "---"
      ]
    },
    {
      "cell_type": "markdown",
      "metadata": {
        "id": "yRmydXneMgT8"
      },
      "source": [
        "# Jupyter notebookの仕組み\n",
        "\n",
        "colabのチュートリアルはすでに終了しているはずです。  \n",
        "このコースで実際にC言語のプログラムを使い始める前に、最後のチェックを行います。  \n",
        "下記のリンクでこれまで学習したことを再確認してください。  \n",
        "https://colab.research.google.com/notebooks/welcome.ipynb?hl=ja\n",
        "\n",
        "[Jupyter] (https://jupyter.org/) は、プログラミング言語 python などをインタラクティブに実行できる環境です。オープンソースです。 Jupyter notebookは、Jupyterの環境をWebアプリで利用できるようにするものです。これもオープンソースです。インタラクティブなWebページのような形をしています。Jupyter notebookは chrome ブラウザなどでも利用できるようになりました。   \n",
        "\n",
        "まず、利用者は、手元のPCのブラウザでJupyter notebookを表示します(稼働させます)。  \n",
        "\n",
        "次に，利用者は，今後実際にプログラム実行をしてくれるランタイムインスタンスに接続に行きます。  \n",
        "本授業では，\"Open in Colab\"ボタンをクリックすることがこの操作に相当します。  \n",
        "Open in Colabボタンをクリックすると，Jupyter notebookはまずGoogleのColab notebookサービスと通信し，ランタイムインスタンス(Linuxの搭載されたPC)を要求します。用意されたランタイムインスタンス上でJupyter環境が用意されます。用意出来次第、Jupyer notebookはこのJupyter環境と通信を開始し，あとは必要に応じて(Codeセル中の)プログラムを実施します。  \n",
        "(プログラムはスクリプトと呼ばれることもあります。本授業ではこの二つは同じ扱いです)\n",
        "\n",
        "本来は ランタイムインスタンスを用意することはお金のかかることです。  \n",
        "Google Colaboratoryサービスでは今のところ（本授業でするような軽い利用程度なら）無料で利用可能です。  \n",
        "(いつか有料になるのではないかとやや不安ですが2020年度で使い始めて以来今まで無料です)  \n",
        "(この授業ではCPUのみ使います。GPUは一切利用しません)\n"
      ]
    },
    {
      "cell_type": "markdown",
      "metadata": {
        "id": "RXgXM2Er6ynN"
      },
      "source": [
        "---\n",
        "# TextセルとCodeセル\n",
        "\n",
        "Jupyter notebookのドキュメントのフォーマットを「ipynb」（I-PYthon jupyter NoteBook）といいます。\n",
        "ipynbでは、2種類のセルを順番に配置していきます。\n",
        "HTMLファイルを書くようなものですが、もっと簡単です。  \n",
        "(昔は筑波大学１年生の情報関係の授業でHTMLファイルを書く練習があったのですが，今はもう無いのかしら)  \n",
        "\n",
        "* **テキストセル** は文書を書くための場所です。\n",
        "* **code cell** はプログラムを編集したり表示する場所です。\n",
        "\n",
        "どちらもエディタ機能を内蔵しており、直接編集することができます。 コードセルの特徴の一つは、コードをその場で実行できることです。正確には、コードは実行を要求した瞬間にJupyter環境に転送され、そこで実行され、標準出力がブラウザ側に返されます。それがJupyterノートブックのコードセルに添付された出力セルに表示されます。\n",
        "\n",
        "Jupyterノートブックを書く際には、最初から順番にコードセルを実行することが暗黙の了解となっていますが、コードセルがいくつもある場合には、どのコードセルを実行するかはユーザーの自由です。  \n",
        "\n",
        "コードセルを実行する必要がない場合（閲覧や編集だけなら）、バックエンドのJupyter環境（ランタイムインスタンス）を接続する必要はありません。\n",
        "\n"
      ]
    },
    {
      "cell_type": "markdown",
      "metadata": {
        "id": "TInXLPxK7B16"
      },
      "source": [
        "---\n",
        "# Google Colaboratoryの利用について  \n",
        "\n",
        "Google Colaboratoryとは、Googleが提供するJupiter環境と、GoogleのJupyer環境のみにつながることを前提に改良されたJupyterノートブック（The Colab notebookと呼ばれる）のことです。\n",
        "\n",
        "Jupyter環境としては、Googleアカウントがあれば、連続実行12時間という制限はあるものの、Googleが完全無料で用意してくれます。Googleが提供する実行環境はUbuntu Linuxなので、標準的なLinuxで行えるプログラミング開発システムの作業の多くを実行することができます。\n",
        "\n",
        "また、Jupyter環境の標準的なフォルダとして、Google Driveのクラウドストレージを利用できるのもGoogle colaboryの特徴です。\n",
        "\n",
        "Google colaboratoryは、主にpython言語での利用を想定しています。しかし、C言語でも使用することができるので、本講義ではgoogle colaboratoryを使用してC言語を学習します。\n",
        "\n",
        "Google Colaboratoryでランタイムインスタンスに接続（実際にJupyter環境に接続）してみましょう。jupyterノートブックの右上にある「接続」をクリックするだけです。(まれにgoogle側が混雑しているときに、接続に失敗することがあるので、そのときは10秒ほど待ってからもう一度試してみてください)\n"
      ]
    },
    {
      "cell_type": "markdown",
      "metadata": {
        "id": "nIuZxNIPS7cf"
      },
      "source": [
        "![003-colab-run](https://user-images.githubusercontent.com/45651568/116288139-2cb29480-a7cc-11eb-91b4-f19ebe3ee0c3.png)"
      ]
    },
    {
      "cell_type": "markdown",
      "metadata": {
        "id": "rdpCQn416-tz"
      },
      "source": [
        "接続が成功したら Google colaboratory が本来想定しているpythonでコードを書いて実行してみましょう．次のコードセルにpythonコードを書いてあるので実行してみましょう．"
      ]
    },
    {
      "cell_type": "code",
      "metadata": {
        "id": "EgP7OlI6DMrX"
      },
      "source": [
        "# 本来はこのようにpythonのコードを書く\n",
        "print(\"Hello, python on google colaboratory!\")"
      ],
      "execution_count": null,
      "outputs": []
    },
    {
      "cell_type": "markdown",
      "metadata": {
        "id": "E1tfWRJA7pL3"
      },
      "source": [
        "---\n",
        "# エディタの設定\n",
        "\n",
        "本講義の資料の見た目を揃えるために、Google ColaboratoryのEditorの環境設定を変更します。  \n",
        "上図の「共有」の右にある歯車のアイコンから設定できます。  \n",
        "(時々デフォルト仕様が変更になるので，場合によっては下記はすでに設定されているかもしれません）  \n",
        "\n",
        "* インデントの幅（スペース）を4にする\n",
        "* 行番号を表示する\n",
        "* インデントガイドを表示する"
      ]
    },
    {
      "cell_type": "markdown",
      "metadata": {
        "id": "gQRHnQLtc8nb"
      },
      "source": [
        "![003-Editor-config](https://user-images.githubusercontent.com/45651568/116289099-253fbb00-a7cd-11eb-9fba-6082bab82062.png)\n"
      ]
    },
    {
      "cell_type": "markdown",
      "metadata": {
        "id": "6y6zqysP7J2F"
      },
      "source": [
        "---\n",
        "# bashコマンド(コードセル内の!で始まる行)  \n",
        "\n",
        "コードセルは本来、pythonを直接記述（編集）するためのもの（ipython環境で実行）ですが、ipythonはそこからbashコマンドを実行できるように拡張されています。その場合は、行頭を!とし、2文字目以降にbashコマンドを記述します。\n",
        "\n",
        "コードセルの内容はpython（ipython）に渡されて実行されますが、ipythonは!で始まる行を見つけると、その行ごとにbashを用意して、bashにコマンドを実行させます。\n",
        "\n",
        "以下の例では、1行ごとにbashが呼び出されます。全部でbashは6回呼び出されます。\n",
        "\n",
        "\n",
        "\n"
      ]
    },
    {
      "cell_type": "code",
      "metadata": {
        "id": "rEX5rFmZ78gJ"
      },
      "source": [
        "!echo \"一例としてシステムの名前を表示\"\n",
        "!uname -a\n",
        "!echo \"世界中から使われるのでシステム時間はUTC表示\"\n",
        "!date\n",
        "!echo \"システム時間を日本時間表示\"\n",
        "!TZ='Asia/Tokyo'; export TZ; date"
      ],
      "execution_count": null,
      "outputs": []
    },
    {
      "cell_type": "markdown",
      "metadata": {
        "id": "1zrU68VNekDy"
      },
      "source": [
        "下記はシステム時計表示を UTC から JSTに変更するためのOSに対する操作です。"
      ]
    },
    {
      "cell_type": "code",
      "metadata": {
        "id": "eSDGLZOJe63p",
        "colab": {
          "base_uri": "https://localhost:8080/"
        },
        "outputId": "46b6b551-dde4-451a-bf8e-9371d8366624"
      },
      "source": [
        "!echo \"日本時間表示をデフォルト化\"\n",
        "!rm /etc/localtime\n",
        "!ln -s /usr/share/zoneinfo/Japan /etc/localtime\n",
        "!date"
      ],
      "execution_count": 1,
      "outputs": [
        {
          "output_type": "stream",
          "name": "stdout",
          "text": [
            "日本時間表示をデフォルト化\n",
            "Wed Apr 16 04:01:25 AM JST 2025\n"
          ]
        }
      ]
    },
    {
      "cell_type": "markdown",
      "metadata": {
        "id": "ULbw_QCL9TCh"
      },
      "source": [
        "上記の方法で、コードセル内でbashコマンドを実行することは可能ですが、各行に外部シェルが用意されているため、やや不便な場合があります。\n",
        "\n",
        "典型的な例はcdで、cdを実行しているbashは行末で片付けられてしまうため、次の行でbashコマンドを実行しても前のcdの結果が反映されないのです。\n",
        "\n",
        "cdを2行用意してフォルダを移動する場合では、作業を工夫する必要があります。  \n",
        "以下の例1は、失敗例です。  \n",
        "例2は、1行（\";\"でつながっている）に3つのbashコマンドを連続して書くことで成功しています。"
      ]
    },
    {
      "cell_type": "code",
      "metadata": {
        "id": "OMTalyuM9HPo"
      },
      "source": [
        "!echo \"例１：2行目，3行目，4行目は１つのシェルでの連続実行ではない\"\n",
        "!pwd\n",
        "!cd /var/log\n",
        "!pwd"
      ],
      "execution_count": null,
      "outputs": []
    },
    {
      "cell_type": "code",
      "metadata": {
        "id": "GW-c4NCB9r1N"
      },
      "source": [
        "!echo \"例２：bashコマンドを１行にまとめれば連続実行になる\"\n",
        "!pwd ; cd /var/log ; pwd\n",
        "!echo \"でも改行したら元通り\"\n",
        "!pwd"
      ],
      "execution_count": null,
      "outputs": []
    },
    {
      "cell_type": "markdown",
      "metadata": {
        "id": "cMEEUTm57SJU"
      },
      "source": [
        "---\n",
        "# line magic(%) と cell magic (%%)\n",
        "\n",
        "プログラムを実行する際の不便さを解消するために、ipythonはその拡張機能としてマジックコマンドを用意しています。  \n",
        "\n",
        "下記の方法で一覧が表示されます。\n",
        "\n",
        "* %lsmagic\n",
        "\n",
        "\n",
        "**Available line magics:**  \n",
        "> %alias  %alias_magic  %autocall  %automagic  %autosave  %bookmark  %cat  %cd  %clear  %colors  %config  %connect_info  %cp  %debug  %dhist  %dirs  %doctest_mode  %ed  %edit  %env  %gui  %hist  %history  %killbgscripts  %ldir  %less  %lf  %lk  %ll  %load  %load_ext  %loadpy  %logoff  %logon  %logstart  %logstate  %logstop  %ls  %lsmagic  %lx  %macro  %magic  %man  %matplotlib  %mkdir  %more  %mv  %notebook  %page  %pastebin  %pdb  %pdef  %pdoc  %pfile  %pinfo  %pinfo2  %pip  %popd  %pprint  %precision  %profile  %prun  %psearch  %psource  %pushd  %pwd  %pycat  %pylab  %qtconsole  %quickref  %recall  %rehashx  %reload_ext  %rep  %rerun  %reset  %reset_selective  %rm  %rmdir  %run  %save  %sc  %set_env  %shell  %store  %sx  %system  %tb  %tensorflow_version  %time  %timeit  %unalias  %unload_ext  %who  %who_ls  %whos  %xdel  %xmode\n",
        "\n",
        "**Available cell magics:**  \n",
        "> %%!  %%HTML  %%SVG  %%bash  %%bigquery  %%capture  %%debug  %%file  %%html  %%javascript  %%js  %%latex  %%perl  %%prun  %%pypy  %%python  %%python2  %%python3  %%ruby  %%script  %%sh  %%shell  %%svg  %%sx  %%system  %%time  %%timeit  %%writefile\n",
        "\n",
        "**line magic** とは、一行の形をした魔法のコマンドのことです。通常は、オリジナルのbashコマンドを模倣することを意図しています。\n",
        "\n",
        "**cell magic** とは、一つのコードセルを丸々占めるマジックコマンドのことです。この講義では、C言語のプログラムを記述する際に、writefileマジックコマンドが頻繁に使われます。残念ながら、Cプログラムのサポートに対応したセルマジックはありませんが、writefileコマンドは、C言語プログラムをC言語の文法に合わせて表現することができます。\n",
        "\n",
        "\n"
      ]
    },
    {
      "cell_type": "code",
      "metadata": {
        "id": "KzM39eKh7zHs"
      },
      "source": [
        "%lsmagic"
      ],
      "execution_count": null,
      "outputs": []
    },
    {
      "cell_type": "markdown",
      "metadata": {
        "id": "W3tMMsxmE9Lf"
      },
      "source": [
        "マジックコマンドを混ぜることで、スクリプトはあたかも1つのbashに渡されたかのように動作します。"
      ]
    },
    {
      "cell_type": "code",
      "metadata": {
        "id": "fyCUztMvE8Bx"
      },
      "source": [
        "!echo \"Note that line 3 is not a bash command but a magic command.\"\n",
        "!pwd\n",
        "%cd /usr/share\n",
        "!pwd"
      ],
      "execution_count": null,
      "outputs": []
    },
    {
      "cell_type": "markdown",
      "metadata": {
        "id": "1plvLHHQ7dP5"
      },
      "source": [
        "---\n",
        "# Googleドライブのマウント\n",
        "\n",
        "この授業では、Google Colaboratoryの実行環境に接続する際に、Google Driveをマウントします。\n",
        "\n",
        "接続時にはGoogleアカウントの認証が必要です。これは、新しいランタイム接続ごとに一度だけ行う必要があります。コードセルを実行し、指示に従って許可を出し、しばらく待ちます。最後に Mounted at /content/drive と表示されればOKです．  \n",
        "もし表示されない場合は，ランタイム接続から再度実行しなおすか，数分ほど時間を空けてみてください．\n",
        "\n",
        "\n"
      ]
    },
    {
      "cell_type": "code",
      "metadata": {
        "id": "KP2LSjbe-uQX"
      },
      "source": [
        "!echo \"Google Driveをマウントします\"\n",
        "from google.colab import drive\n",
        "drive.mount('/content/drive')"
      ],
      "execution_count": null,
      "outputs": []
    },
    {
      "cell_type": "markdown",
      "metadata": {
        "id": "GZYFIDvHihl6"
      },
      "source": [
        "するとランタイム環境において、Google drive のマイドライブが下記のパスでアクセスできるようになります。  \n",
        "ランタイム環境から書き込むことも可能です。\n",
        "\n",
        "> /content/Drive/My Drive"
      ]
    },
    {
      "cell_type": "markdown",
      "metadata": {
        "id": "7rtqsn2Qi3Yr"
      },
      "source": [
        "ランタイム環境側でマウント先に移動し、作業フォルダを用意して、そこに移動することができます。  \n",
        "ここでは、Google Driveのマイドライブに、ランタイム環境側から次のようにしてみましょう。  \n",
        "1. マウントしたフォルダに移動\n",
        "2. ./UT_DataAlgo フォルダを作成\n",
        "3. そのフォルダに移動\n",
        "4. ./DA_003 フォルダ(./UT_DataAlgo/DA_003)を作成\n",
        "5. そのフォルダに移動\n",
        "6. 内容を表示\n",
        "\n",
        "以下で、mkdir -p というコマンドは、当該フォルダがなかったら作成する（もうある場合は何もしない）働きをします。"
      ]
    },
    {
      "cell_type": "code",
      "metadata": {
        "id": "1sWJfo5SjkMR"
      },
      "source": [
        "%cd /content/drive/My\\ Drive/\n",
        "!mkdir -p UT_DataAlgo\n",
        "%cd UT_DataAlgo\n",
        "!mkdir -p DA_003\n",
        "%cd DA_003\n",
        "!echo --- We are here ---\n",
        "!pwd\n",
        "!ls -a"
      ],
      "execution_count": null,
      "outputs": []
    },
    {
      "cell_type": "markdown",
      "metadata": {
        "id": "dHNk8CCuTvIw"
      },
      "source": [
        "---\n",
        "# colabでの初めてのCプログラム\n",
        "\n",
        "\n",
        "では、伝統に則って、\"Hello World \"を表示するC言語プログラムを作成し、実行してみましょう。\n",
        "\n",
        "1. writefile cell magic で helloworld.c を作成（実行時にファイルが生成されます）。"
      ]
    },
    {
      "cell_type": "code",
      "metadata": {
        "id": "5fKIhbMqVMGV",
        "colab": {
          "base_uri": "https://localhost:8080/"
        },
        "outputId": "749a4f27-4776-4b3d-c44d-92a4c1c5fd97"
      },
      "source": [
        "%%writefile helloESYS.c\n",
        "// My first C pgoram on G-Colab at G-Drive\n",
        "#include <stdio.h>\n",
        "int main(int argc, char *argv[]){\n",
        "    printf(\"Hello, World!\\n\");\n",
        "    return 0;\n",
        "}"
      ],
      "execution_count": 2,
      "outputs": [
        {
          "output_type": "stream",
          "name": "stdout",
          "text": [
            "Writing helloESYS.c\n"
          ]
        }
      ]
    },
    {
      "cell_type": "markdown",
      "metadata": {
        "id": "BO-N9m9Hj_Hh"
      },
      "source": [
        "2. gccでhelloworld.cをコンパイル\n",
        "3. バイナリファイルをbashで実行"
      ]
    },
    {
      "cell_type": "code",
      "metadata": {
        "id": "DhlQ2E46Vidv",
        "colab": {
          "base_uri": "https://localhost:8080/"
        },
        "outputId": "cc2f4694-9079-4d79-e371-dc5ee5e38059"
      },
      "source": [
        "!gcc -Wall -o helloworld helloESYS.c\n",
        "!pwd\n",
        "!ls -la\n",
        "!echo \"Let's go!\"\n",
        "!./helloworld"
      ],
      "execution_count": 3,
      "outputs": [
        {
          "output_type": "stream",
          "name": "stdout",
          "text": [
            "/content\n",
            "total 36\n",
            "drwxr-xr-x 1 root root  4096 Apr 16 04:01 .\n",
            "drwxr-xr-x 1 root root  4096 Apr 16 03:59 ..\n",
            "drwxr-xr-x 4 root root  4096 Apr 11 22:37 .config\n",
            "-rw-r--r-- 1 root root   143 Apr 16 04:01 helloESYS.c\n",
            "-rwxr-xr-x 1 root root 15968 Apr 16 04:01 helloworld\n",
            "drwxr-xr-x 1 root root  4096 Apr 11 22:37 sample_data\n",
            "Let's go!\n",
            "Hello, World!\n"
          ]
        }
      ]
    },
    {
      "cell_type": "markdown",
      "metadata": {
        "id": "5di82GWd7mRd"
      },
      "source": [
        "---\n",
        "# 生成したファイルの保存\n",
        "\n",
        "「Colab notebook」コンソールは、各自のGoogleアカウントのGoogle Drive/My Drive配下の「Colab notebook」というフォルダに自動的に保存されます。\n",
        "\n",
        "通常、コードセルの実行結果として生成されたファイルは、ランタイムインスタンスを終了させた時点ですべて消えてしまいます。  \n",
        "（ランタイムインスタンスとの接続を切ることはランタイムインスタンスをシャットダウンすることと同義ではないので注意してください）\n",
        "（ランタイムインスタンスとの接続を切ることはランタイムインスタンスをシャットダウンすることと同義ではないので注意してください）\n",
        "\n",
        "しかし、Googleドライブ上に生成されたファイルは、ラインタイムインスタンスが消滅してもGoogleドライブ上に残ります。   \n",
        "実際にブラウザからGoogle Driveのページにアクセスし、自分の「マイドライブ」の下に UT_DataAlgo フォルダができていることを確認してください。その下にもファイルができていることも確認してください。\n",
        "\n",
        "\n"
      ]
    },
    {
      "cell_type": "markdown",
      "metadata": {
        "id": "9Vay1R627s1-"
      },
      "source": [
        "---\n",
        "# ノートブックファイルの提出\n",
        "\n",
        "ipynb形式でダウンロードすれば、今見て（編集して）いるページをノートブックファイル(jupyter notebook file)として保存できます。ただし、ファイルを開くにはJupyter notebookの環境が必要です。\n",
        "\n",
        "Jupyter notebookの一種であるGoogle Colaboratoryでノートブックファイルを開くためには、Google Colaboratoryを利用している状態で、ノートブックファイルをアップロードする必要があります。  \n",
        "\n",
        "課題提出時には、実行後の出力と一緒にipynb形式でノートブックファイルをダウンロードしてそれを提出するのが望ましいです。  \n",
        "念のためにpdf形式で印刷しておくことも可能です。ただし、出力部分が多い場合はpdfではその部分の確認ができない場合があります。  \n",
        "\n"
      ]
    },
    {
      "cell_type": "markdown",
      "metadata": {
        "id": "tNvRWtTYgtCA"
      },
      "source": [
        "---\n",
        "# ランタイム環境の終了\n",
        "\n",
        "利用が済んだら，「ランタイム接続解除して削除」しましょう。  \n"
      ]
    },
    {
      "cell_type": "markdown",
      "metadata": {
        "id": "xHbHo0WwnyLt"
      },
      "source": [
        "![003-runtime-end](https://user-images.githubusercontent.com/45651568/232874760-b57dcd65-65e0-485b-8d9f-73eef2c776d4.png)\n",
        "\n"
      ]
    },
    {
      "cell_type": "markdown",
      "source": [
        "ちなみに，ランタイムインスタンスを自分の手で終了させてない状態で，新たにランタイムインスタンスを要求した場合の動作は不定です。  \n",
        "（正確には、Googleの運用方針である日突然変わるのでなんとも言いにくい）  \n",
        "2022年度までは接続解除しても90分はランタイムは維持されていました。  \n",
        "2023年4月の時点ではランタイムとの接続解除するときに「削除」が同時に行われるようになったので、接続を切るだけという行為（そうしてランタイムを残す）が原則としてできなくなりました。\n",
        "2025年4月の時点では、2022年度の運用に戻ったようです。  \n",
        "（ここから先は不確定情報：インスタンスが残るように切断すると、同じノートブックからは再接続できます。正確に測ってないですが過去の演繹からすると90分生き残っている？一方で、違うノートブックでインスタンスを要求すると別のインスタンスを新規に割り当ててもらえるようです。ただしこれらの話はいずれもGPU無しのインスタンスを要求したときの解説です。GPU有の場合は未確認です）"
      ],
      "metadata": {
        "id": "zP3JjN09h88g"
      }
    },
    {
      "cell_type": "markdown",
      "metadata": {
        "id": "BVrCtfpcikQQ"
      },
      "source": [
        "#  課題\n",
        "\n",
        "1. helloworld.c の修正と実行   \n",
        "helloworld.cを適当に書き換え、コンパイルし、実行し、結果を確認してください。\n",
        "\n",
        "2. Google ドライブの統合   \n",
        "Google ドライブで生成されたファイルに、実行時接続環境側でアクセスできるようにしなさい。  \n",
        "（同期が若干遅れる可能性があります）。\n",
        "\n",
        "3. Google ドライブの二重連携   \n",
        "Windows PCを使用している場合、「googleからのバックアップと同期」でgoogleドライブをPCのHDD/SSDなどの領域に同期させ、Windows PC上のフォルダに落としたファイルがランタイム接続環境側でアクセスできることを確認してください。  \n",
        "同期には数秒程度の遅延が発生する場合があります。\n",
        "\n"
      ]
    },
    {
      "cell_type": "markdown",
      "metadata": {
        "id": "bF91qZjRwsDc"
      },
      "source": [
        "#**Course Info**\n",
        "\n",
        "https://github.com/kameda-yoshinari/DataAlgo-UT  \n",
        "筑波大学工学システム学類  \n",
        "データ構造とアルゴリズム  \n",
        "担当：亀田能成  \n",
        "2025/04/16 細かい文言訂正  \n",
        "2023/04/19 2023年の状況への整合  \n",
        "2022/04/27 細かい文言訂正  \n",
        "2022/04/12 フォルダ構成を更新  \n",
        "2021/07/02 Google Drive周りの説明を改訂  \n",
        "2021/04/28 初版  \n"
      ]
    }
  ]
}