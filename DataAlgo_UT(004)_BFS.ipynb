{
  "nbformat": 4,
  "nbformat_minor": 0,
  "metadata": {
    "colab": {
      "provenance": [],
      "include_colab_link": true
    },
    "kernelspec": {
      "name": "python3",
      "display_name": "Python 3"
    }
  },
  "cells": [
    {
      "cell_type": "markdown",
      "metadata": {
        "id": "view-in-github",
        "colab_type": "text"
      },
      "source": [
        "<a href=\"https://colab.research.google.com/github/kameda-yoshinari/DataAlgo-UT/blob/main/DataAlgo_UT(004)_BFS.ipynb\" target=\"_parent\"><img src=\"https://colab.research.google.com/assets/colab-badge.svg\" alt=\"Open In Colab\"/></a>"
      ]
    },
    {
      "cell_type": "markdown",
      "metadata": {
        "id": "yRmydXneMgT8"
      },
      "source": [
        "# 3.2. 幅優先探索\n",
        "\n",
        "ここでは幅優先探索(Breadth first search; BFS)について学ぶ．  \n",
        "幅優先探索によって，グラフに即した形で全頂点の列挙を行う．\n",
        "\n",
        "\n",
        "**いつもの約束**  \n",
        "１つのコードセルだけの実行は Ctrl + Enter．  \n",
        "エディタで「インデント幅（スペース）は4で表示」「行番号を表示」「インデントガイドを表示」．  \n",
        "内部では日本語はUTF-8で表現されている．  \n",
        "\n"
      ]
    },
    {
      "cell_type": "markdown",
      "metadata": {
        "id": "CdQdV_MJIlce"
      },
      "source": [
        "# 準備\n",
        "\n",
        "インスタンスに接続し起動する．  \n",
        "下記の手順でGoogle Driveをマウントする．  \n",
        "マウント先に移動し，作業フォルダとする．  \n",
        "これによって，インスタンスがリセットされてもGoogle Drive内にファイルが保存されるようにする．"
      ]
    },
    {
      "cell_type": "code",
      "metadata": {
        "id": "DMtqXRXJIPMR"
      },
      "source": [
        "!echo \"Google Driveをマウントします\"\n",
        "from google.colab import drive\n",
        "drive.mount('/content/drive')"
      ],
      "execution_count": null,
      "outputs": []
    },
    {
      "cell_type": "code",
      "metadata": {
        "id": "SABzmuELIaj2"
      },
      "source": [
        "!echo \"今回の作業用フォルダを作成しそこに移動します\"\n",
        "%cd /content/drive/My\\ Drive/UT_DataAlgo\n",
        "%mkdir -p DA_004\n",
        "%cd DA_004\n",
        "!ls\n",
        "!echo \"日本時間表示\"\n",
        "!rm /etc/localtime\n",
        "!ln -s /usr/share/zoneinfo/Japan /etc/localtime\n",
        "!date"
      ],
      "execution_count": null,
      "outputs": []
    },
    {
      "cell_type": "markdown",
      "metadata": {
        "id": "QTSCrxILiWsC"
      },
      "source": [
        "ここでは，グラフ3を利用する．  \n",
        "頂点数は8．無向グラフ．連結．\n"
      ]
    },
    {
      "cell_type": "markdown",
      "metadata": {
        "id": "NINxYWNgOSaw"
      },
      "source": [
        "![da2020-graph3](https://user-images.githubusercontent.com/45651568/84249701-1107b680-ab46-11ea-89b0-6a454ec80ec4.jpg)"
      ]
    },
    {
      "cell_type": "code",
      "metadata": {
        "id": "rz4_9z4rOQu4"
      },
      "source": [
        "%%writefile graph3.h\n",
        "// 8 nodes, undirected, no-weight.\n",
        "#define N 8\n",
        "int edge[N][N] = {\n",
        "//   0 1 2 3 4 5 6 7\n",
        "\t{0,1,0,0,1,0,0,0}, // 0\n",
        "\t{1,0,0,0,0,0,1,0}, // 1\n",
        "\t{0,0,0,1,0,0,1,0}, // 2\n",
        "\t{0,0,1,0,0,0,0,1}, // 3\n",
        "\t{1,0,0,0,0,1,0,0}, // 4\n",
        " \t{0,0,0,0,1,0,1,0}, // 5\n",
        "\t{0,1,1,0,0,1,0,1}, // 6\n",
        "\t{0,0,0,1,0,0,1,0}  // 7\n",
        "};"
      ],
      "execution_count": null,
      "outputs": []
    },
    {
      "cell_type": "markdown",
      "metadata": {
        "id": "SgrerkN-Ox0L"
      },
      "source": [
        "# 幅優先探索の概要\n",
        "\n",
        "Rogueのようなダンジョン型RPGにおいて，最初の部屋（開始頂点）から近い部屋から制圧していくの幅優先探索である．慎重な戦略とも言える．\n",
        "\n",
        "より正確には，開始頂点からの道が近い頂点から先に列挙していく探索が幅優先探索である．ここで，全ての辺は同じ長さを持つとする．（道において同一頂点は高々１回しか現れないことに注意．）\n",
        "\n",
        "幅優先探索のアルゴリズムの記述においては，キュー(First-In-First-Out)を利用する．大雑把に言えば，開始頂点から近い頂点から調査を行って列挙していく．このとき，その頂点に隣接している未列挙頂点は後回しにする（キューに繋ぐ）．ある頂点について調査が終わった時，次に調査に取り掛かるのはキューに繋いだ中で一番古いものである（First-In-First-Out）．これは，後から繋いだものほど開始頂点から遠い頂点ということになるからである．\n",
        "\n",
        "参考までに，グラフG3について頂点0からBFSを実施した場合，幅優先による頂点列挙の結果は次のようになる．  \n",
        "ただし，同じ優先度の頂点が複数あったときは，番号の小さい方の頂点を選択するものとする．\n",
        "\n",
        "BFS result: 0 1 4 6 5 2 7 3"
      ]
    },
    {
      "cell_type": "markdown",
      "metadata": {
        "id": "9YJrrf6EstJh"
      },
      "source": [
        "![image](https://user-images.githubusercontent.com/45651568/90238137-6753e700-de60-11ea-9eac-0cd2ea206a7b.png)\n",
        "Figure:\n",
        "BFS procedure (Graph G3, starting at 0)"
      ]
    },
    {
      "cell_type": "markdown",
      "metadata": {
        "id": "0_o0avWIHZqC"
      },
      "source": [
        "# 幅優先探索プログラム\n",
        "\n",
        "**目標**\n",
        "\n",
        "キュー(queue)を用いた幅優先探索によって，与えられたグラフの頂点を列挙する．\n",
        "\n",
        "**説明**\n",
        "\n",
        "開始頂点は指定されるものとする．  \n",
        "  \n",
        "キューは，スーパーのレジで人が並ぶのと同じものだと思えばよい．  \n",
        "キュー（行列）の先頭を head と呼ぶことにする．  \n",
        "キュー（行列）の末尾を tail と呼ぶことにする．  \n",
        "\n",
        "新しく頂点を追加するときは，それをキューの末尾に繋ぐ．この操作を enqueueと呼ぶ．  \n",
        "（人が行列の最後尾に並ぶのと同じことである．）  \n",
        "\n",
        "処理対象はキューの先頭にある頂点である．  \n",
        "（人が行列の先頭から進んでレジのところに移動するのと同じことである．）  \n",
        "対象頂点の処理が始まると（レジ打ちが始まると），キューからは削除される．\n",
        "キューから削除する操作を dequeueと呼ぶ．  \n",
        "\n",
        "処理中にまだキューに入っていない隣接頂点が見つかったら，見つかった頂点から順にそれをキューの末尾に繋ぐ．\n",
        "\n",
        "\n",
        "**コード**\n",
        "\n",
        "下記の通り．  \n",
        "グラフが無向で連結である限り，幅優先探索は必ず成功する．  \n",
        "そのため，bfs()はvoidとしている．\n",
        "\n",
        "**備考**\n",
        "\n",
        "スーパーマーケットでは，レジでの処理が進むにつれて，列に並んでいる人はレジに向かって歩いてくれる．このような場合、headの位置は固定されている（レジの前に）。しかし，C言語のプログラムでは，データは動いてくれない．そのため、代わりにheadの位置を覚えることで対応する．"
      ]
    },
    {
      "cell_type": "code",
      "metadata": {
        "id": "Sfxsc_02JNc1"
      },
      "source": [
        "%%writefile bfs_simple_J.c\n",
        "// Breadth First Search.\n",
        "// 2020/05 kameda[at]ccs.tsukuba.ac.jp\n",
        "#include <stdio.h> // printf()\n",
        "#include \"graph3.h\"\n",
        "\n",
        "// 幅優先探索本体\n",
        "void bfs(int StartingRoom){\n",
        "\tint listed[N]; // 0 未, 1 済\n",
        "\tint queue[N];\n",
        "\tint qhead = 0; // queue head\n",
        "\tint qtail = 0; // queue tail\n",
        "\n",
        "    int CurrentRoom;\n",
        "    int RoomToCheck;\n",
        "\n",
        "\tfor (RoomToCheck = 0; RoomToCheck < N; RoomToCheck++)\n",
        "\t\tlisted[RoomToCheck] = 0;\n",
        "\n",
        "\tprintf(\"幅優先探索を 頂点%d から開始します．\\n\", StartingRoom);\n",
        "    // StartingRoomをキューに追加する\n",
        "    queue[qtail] = StartingRoom;\n",
        "    qtail++;\n",
        "\n",
        "    // キューに追加したということは訪れる対象として計上（列挙）済みということ\n",
        "\tprintf(\"頂点 %d をこれ以降は列挙済として扱います．\\n\", StartingRoom);\n",
        "    listed[StartingRoom] = 1;\n",
        "\n",
        "    // キューに処理対象がある限り作業を継続\n",
        "\twhile (qhead < qtail) {\n",
        "\t\tprintf(\"現在のキュー： 長さ %d, 先頭の頂点は %d, 末尾の頂点は %d\\n\", qtail - qhead, queue[qhead], queue[qtail - 1]);\n",
        "    \t{int i; printf(\"現在のキュー： \"); for (i = qhead; i < qtail; i++) printf(\"%d \", queue[i]); printf(\"\\n\");}\n",
        "\n",
        "        // キュー先頭から１つ呼んで作業開始（キューからは削除）\n",
        "        printf(\"キュー先頭の頂点 %d をキューから外して処理を開始します．\\n\", queue[qhead]);\n",
        "\t\tCurrentRoom = queue[qhead];\n",
        "        qhead++;\n",
        "\n",
        "        // ※ここで何かしらの作業を行うのかも．\n",
        "\n",
        "        // 次にどの頂点を列挙していくか検討\n",
        "\t\tfor (RoomToCheck = 0; RoomToCheck < N; RoomToCheck++) {\n",
        "            if (edge[CurrentRoom][RoomToCheck] == 0) {\n",
        "\t\t\t\tprintf(\"  (頂点 %d にて) 頂点 %d は隣接していませんでした‥\\n\", CurrentRoom, RoomToCheck);\n",
        "            } else if (listed[RoomToCheck] != 0) {\n",
        "\t\t\t\tprintf(\"  (頂点 %d にて) 頂点 %d は隣接はしてますがすでに処理済でした‥\\n\", CurrentRoom, RoomToCheck);\n",
        "            } else {\n",
        "\t\t\t\tprintf(\"  (頂点 %d にて) 頂点 %d は隣接でかつキューに繋いだことがないので、キューの最後尾に追加します。\\n\", CurrentRoom, RoomToCheck);\n",
        "                // RoomToCheckをキューに追加する\n",
        "\t\t\t\tqueue[qtail] = RoomToCheck;\n",
        "                qtail++;\n",
        "\n",
        "                // キューに追加したということは訪れる処理対象として計上（列挙）済みということ\n",
        "                printf(\"  (頂点 %d にて) 頂点 %d をこれ以降は列挙済として扱います．\\n\", CurrentRoom, RoomToCheck);\n",
        "\t\t\t\tlisted[RoomToCheck] = 1;\n",
        "\t\t\t}\n",
        "\t\t}\n",
        "\t}\n",
        "\tprintf(\"何も残っていないので幅優先探索を終了します．\\n\");\n",
        "\n",
        "\tprintf(\"幅優先探索による頂点の列挙．\\n\");\n",
        "\tfor (CurrentRoom = 0; CurrentRoom < N; CurrentRoom++)\n",
        "\t\tprintf(\"%d \", queue[CurrentRoom]);\n",
        "    printf(\"\\n\");\n",
        "\n",
        "\treturn;\n",
        "}\n",
        "\n",
        "int main(int argc, char *argv[]){\n",
        "\tbfs(0); // 開始頂点番号を引数にしてbfs関数を呼び出す\n",
        "\treturn 0;\n",
        "}"
      ],
      "execution_count": null,
      "outputs": []
    },
    {
      "cell_type": "markdown",
      "metadata": {
        "id": "8y6NIDJEd6EF"
      },
      "source": [
        "コンパイルしてエラーが無いことを確認．"
      ]
    },
    {
      "cell_type": "code",
      "metadata": {
        "id": "1fDHcZ_kw6w8"
      },
      "source": [
        "!gcc -Wall -o bfs_simple_J bfs_simple_J.c"
      ],
      "execution_count": null,
      "outputs": []
    },
    {
      "cell_type": "markdown",
      "metadata": {
        "id": "s8waNgg-d_Ke"
      },
      "source": [
        "実行．"
      ]
    },
    {
      "cell_type": "code",
      "metadata": {
        "id": "22ZwJ5yzCWKl"
      },
      "source": [
        "!./bfs_simple_J"
      ],
      "execution_count": null,
      "outputs": []
    },
    {
      "cell_type": "markdown",
      "metadata": {
        "id": "tPNqfN0aFChg"
      },
      "source": [
        "# 開始頂点を指定するためのコマンドライン引数\n",
        "\n",
        "**目標**\n",
        "\n",
        "引数にて開始頂点を指定できるようにする．  \n",
        "\n",
        "**説明**\n",
        "\n",
        "引数を数値にするためにはatoi()関数を用いる．  \n",
        "（atoi()関数ではエラーハンドリングができないため，エラーハンドリングができるstrtol()関数のほうが頑健なプログラム作成には望ましい．）  \n",
        "\n",
        "**コード**\n",
        "\n",
        "次はatoi()関数を引数の解釈に用いる例である．   \n",
        "main()関数内で引数の確認を行っている．  \n",
        "\n",
        "**備考**\n",
        "\n",
        "bfs()関数部分には変更を加えていない．  \n",
        "\n"
      ]
    },
    {
      "cell_type": "code",
      "metadata": {
        "id": "tQ1hSFbGFKlQ"
      },
      "source": [
        "%%writefile bfs_xtraCommandLine_J.c\n",
        "// Breadth First Search.\n",
        "// 2020/05 kameda[at]ccs.tsukuba.ac.jp\n",
        "// -- Extra --\n",
        "//    Accept command line option\n",
        "#include <stdio.h> // printf()\n",
        "#include <stdlib.h> // atoi()\n",
        "#include \"graph3.h\"\n",
        "\n",
        "// 幅優先探索本体\n",
        "void bfs(int StartingRoom){\n",
        "\tint listed[N]; // 0 未, 1 済\n",
        "\tint queue[N];\n",
        "\tint qhead = 0; // queue head\n",
        "\tint qtail = 0; // queue tail\n",
        "\n",
        "    int CurrentRoom;\n",
        "    int RoomToCheck;\n",
        "\n",
        "\tfor (RoomToCheck = 0; RoomToCheck < N; RoomToCheck++)\n",
        "\t\tlisted[RoomToCheck] = 0;\n",
        "\n",
        "\tprintf(\"幅優先探索を 頂点%d から開始します．\\n\", StartingRoom);\n",
        "    // StartingRoomをキューに追加する\n",
        "    queue[qtail] = StartingRoom;\n",
        "    qtail++;\n",
        "\n",
        "    // キューに追加したということは訪れる対象として計上（列挙）済みということ\n",
        "\tprintf(\"頂点 %d をこれ以降は列挙済として扱います．\\n\", StartingRoom);\n",
        "    listed[StartingRoom] = 1;\n",
        "\n",
        "    // キューに処理対象がある限り作業を継続\n",
        "\twhile (qhead < qtail) {\n",
        "\t\tprintf(\"現在のキュー： 長さ %d, 先頭の頂点は %d, 末尾の頂点は %d\\n\", qtail - qhead, queue[qhead], queue[qtail - 1]);\n",
        "    \t{int i; printf(\"現在のキュー： \"); for (i = qhead; i < qtail; i++) printf(\"%d \", queue[i]); printf(\"\\n\");}\n",
        "\n",
        "        // キュー先頭から１つ呼んで作業開始（キューからは削除）\n",
        "        printf(\"キュー先頭の頂点 %d をキューから外して処理を開始します．\\n\", queue[qhead]);\n",
        "\t\tCurrentRoom = queue[qhead];\n",
        "        qhead++;\n",
        "\n",
        "        // ※ここで何かしらの作業を行うのかも．\n",
        "\n",
        "        // 次にどの頂点を列挙していくか検討\n",
        "\t\tfor (RoomToCheck = 0; RoomToCheck < N; RoomToCheck++) {\n",
        "            if (edge[CurrentRoom][RoomToCheck] == 0) {\n",
        "\t\t\t\tprintf(\"  (頂点 %d にて) 頂点 %d は隣接していませんでした‥\\n\", CurrentRoom, RoomToCheck);\n",
        "            } else if (listed[RoomToCheck] != 0) {\n",
        "\t\t\t\tprintf(\"  (頂点 %d にて) 頂点 %d は隣接はしてますがすでに処理済でした‥\\n\", CurrentRoom, RoomToCheck);\n",
        "            } else {\n",
        "\t\t\t\tprintf(\"  (頂点 %d にて) 頂点 %d は隣接でかつキューに繋いだことがないので、キューの最後尾に追加します。\\n\", CurrentRoom, RoomToCheck);\n",
        "                // RoomToCheckをキューに追加する\n",
        "\t\t\t\tqueue[qtail] = RoomToCheck;\n",
        "                qtail++;\n",
        "\n",
        "                // キューに追加したということは訪れる処理対象として計上（列挙）済みということ\n",
        "                printf(\"  (頂点 %d にて) 頂点 %d をこれ以降は列挙済として扱います．\\n\", CurrentRoom, RoomToCheck);\n",
        "\t\t\t\tlisted[RoomToCheck] = 1;\n",
        "\t\t\t}\n",
        "\t\t}\n",
        "\t}\n",
        "\tprintf(\"何も残っていないので幅優先探索を終了します．\\n\");\n",
        "\n",
        "\tprintf(\"幅優先探索による頂点の列挙．\\n\");\n",
        "\tfor (CurrentRoom = 0; CurrentRoom < N; CurrentRoom++)\n",
        "\t\tprintf(\"%d \", queue[CurrentRoom]);\n",
        "    printf(\"\\n\");\n",
        "\n",
        "\treturn;\n",
        "}\n",
        "\n",
        "// Main function\n",
        "int main(int argc, char *argv[]){\n",
        "    int startnode = 0;\n",
        "    if (argc == 1) {\n",
        "        printf(\"指定がなかったので頂点0を開始頂点にします．\");\n",
        "        startnode = 0;\n",
        "    } else if (argc == 2) {\n",
        "        startnode = atoi(argv[1]);\n",
        "        if (startnode < 0 || startnode >= N) {\n",
        "            printf(\"不正な頂点指定だったので終了します．\");\n",
        "            return -1;\n",
        "        }\n",
        "    }\n",
        "\n",
        "\tbfs(startnode); // 開始頂点番号を引数にしてbfs関数を呼び出す\n",
        "\treturn 0;\n",
        "}"
      ],
      "execution_count": null,
      "outputs": []
    },
    {
      "cell_type": "markdown",
      "metadata": {
        "id": "QD7n0zqyeDgm"
      },
      "source": [
        "コンパイルしてエラーが無いことを確認．"
      ]
    },
    {
      "cell_type": "code",
      "metadata": {
        "id": "W4ShaOLyKaAt"
      },
      "source": [
        "!gcc -Wall -o bfs_xtraCommandLine_J bfs_xtraCommandLine_J.c"
      ],
      "execution_count": null,
      "outputs": []
    },
    {
      "cell_type": "markdown",
      "metadata": {
        "id": "PpEZbIIseIB1"
      },
      "source": [
        "実行．開始頂点をいろいろと変更して，自分の頭の中のアルゴリズム理解と一致するか確認すること．"
      ]
    },
    {
      "cell_type": "code",
      "metadata": {
        "id": "eES9GPwVLg4z"
      },
      "source": [
        "!./bfs_xtraCommandLine_J 0"
      ],
      "execution_count": null,
      "outputs": []
    },
    {
      "cell_type": "markdown",
      "metadata": {
        "id": "lZXa6FVXIzoI"
      },
      "source": [
        "# 関数を利用したCプログラム\n",
        "\n",
        "**目標**\n",
        "\n",
        "キューへ繋ぐことと，キューから外すことを，それぞれユーザ定義関数化する．\n",
        "\n",
        "**説明**\n",
        "\n",
        "ユーザ定義関数は別ソースファイルに記述する．  \n",
        "これによって，将来ライブラリにすることができる．\n",
        "\n",
        "**コード**\n",
        "\n",
        "３つのファイルに分割する．\n",
        "* キュー操作のヘッダファイル\n",
        "* キュー操作を集めたソースファイル\n",
        "* 幅優先探索を行うプログラム\n",
        "\n",
        "**備考**\n",
        "\n",
        "分割コンパイルで実行ファイルを生成する．"
      ]
    },
    {
      "cell_type": "code",
      "metadata": {
        "id": "5jU5gpnlYoAy"
      },
      "source": [
        "%%writefile QueueLib_J.h\n",
        "// Queue management\n",
        "// 2020/05 kameda[at]ccs.tsukuba.ac.jp\n",
        "\n",
        "// キューの初期化\n",
        "int *initqueue(int );\n",
        "\n",
        "// キューへの追加\n",
        "int enqueue(int );\n",
        "\n",
        "// キューからの削除\n",
        "int dequeue(void);\n",
        "\n",
        "// キューの状態表示\n",
        "int showqueue(void);\n",
        "\n",
        "// キューの全表示\n",
        "int showallqueue(void);\n"
      ],
      "execution_count": null,
      "outputs": []
    },
    {
      "cell_type": "code",
      "metadata": {
        "id": "Iotxsvy8MktG"
      },
      "source": [
        "%%writefile QueueLib_J.c\n",
        "// Queue management\n",
        "// 2020/05 kameda[at]ccs.tsukuba.ac.jp\n",
        "#include <stdio.h> // printf()\n",
        "#include <stdlib.h> // calloc()\n",
        "#include \"QueueLib_J.h\" // プロトタイプ宣言の整合確認\n",
        "\n",
        "int *queue = NULL; // キューの本体（初期化してから使う）\n",
        "int qsize = 0; // キューのサイズ\n",
        "int qhead = 0; // キューの先頭\n",
        "int qtail = 0; // キューの末尾\n",
        "\n",
        "// キューの初期化\n",
        "int *initqueue(int n) {\n",
        "    queue = calloc(n, sizeof(*queue));\n",
        "    qsize = n;\n",
        "    if (queue == NULL) {\n",
        "        printf(\"【失敗】 %d要素分のキュー領域を確保できませんでした．\\n\", n);\n",
        "        qsize = 0;\n",
        "    }\n",
        "    return queue;\n",
        "}\n",
        "\n",
        "// キューへの追加\n",
        "int enqueue(int v) {\n",
        "    if (queue == NULL) {\n",
        "        printf(\"【失敗】 キューが用意できていません．\\n\");\n",
        "        return -1;\n",
        "    } else if (qtail >= qsize) {\n",
        "        printf(\"【失敗】 %d要素確保してあったキュー領域を使い果たしてしまいました．\\n\", qsize);\n",
        "        return -2;\n",
        "    }\n",
        "    queue[qtail] = v;\n",
        "    qtail++;\n",
        "    return 0;\n",
        "}\n",
        "\n",
        "// キューからの削除\n",
        "int dequeue(void) {\n",
        "    int v;\n",
        "    if (queue == NULL) {\n",
        "        printf(\"【失敗】 キューが用意できていません．\\n\");\n",
        "        return -1;\n",
        "    } else if (qhead >= qtail) {\n",
        "        printf(\"【報告】 キューに処理対象がありません．\\n\");\n",
        "        return -2;\n",
        "    }\n",
        "    v = queue[qhead];\n",
        "    qhead++;\n",
        "    return v;\n",
        "}\n",
        "\n",
        "// キューの状態表示\n",
        "int showqueue(void) {\n",
        "    int i;\n",
        "\n",
        "    if (queue == NULL) {\n",
        "        printf(\"【失敗】 キューが用意できていません．\\n\");\n",
        "        return -1;\n",
        "    }\n",
        "\n",
        "    printf(\"qsize = %d, qhead = %d, qtail = %d\\n\", qsize, qhead, qtail);\n",
        "    for (i = qhead; i < qtail; i++) {\n",
        "        printf(\"%d \", queue[i]);\n",
        "    }\n",
        "    printf(\"\\n\");\n",
        "\n",
        "    return qtail - qhead;\n",
        "}\n",
        "\n",
        "// キューの全表示\n",
        "int showallqueue(void) {\n",
        "    int i;\n",
        "\n",
        "    if (queue == NULL) {\n",
        "        printf(\"【失敗】 キューが用意できていません．\\n\");\n",
        "        return -1;\n",
        "    }\n",
        "\n",
        "    printf(\"qsize = %d, qhead = %d, qtail = %d\\n\", qsize, qhead, qtail);\n",
        "    for (i = 0; i < qsize; i++) {\n",
        "        printf(\"%d \", queue[i]);\n",
        "    }\n",
        "    printf(\"\\n\");\n",
        "\n",
        "    return qsize;\n",
        "}\n",
        "\n"
      ],
      "execution_count": null,
      "outputs": []
    },
    {
      "cell_type": "markdown",
      "metadata": {
        "id": "ih41_eQXePu8"
      },
      "source": [
        "分割したキュー関係のソースファイルのみコンパイル．  \n",
        "（ライブラリの作成に相当）"
      ]
    },
    {
      "cell_type": "code",
      "metadata": {
        "id": "OpW_zclrVXLi"
      },
      "source": [
        "!gcc -Wall -c QueueLib_J.c"
      ],
      "execution_count": null,
      "outputs": []
    },
    {
      "cell_type": "markdown",
      "metadata": {
        "id": "m9m4DOyLe5bz"
      },
      "source": [
        "キュー関係の関数は外部のを用いるので，それに合わせて書き直す．   \n",
        "\"QueueLib_J.h\"の内容のみ参照して書き直せればよい．   \n",
        "（この辺りの内容はプログラミング序論Dで学習済み）  \n",
        "\n",
        "  "
      ]
    },
    {
      "cell_type": "code",
      "metadata": {
        "id": "QrR5OCVkNG2o"
      },
      "source": [
        "%%writefile bfs_xtraFuncCalls_J.c\n",
        "// Breadth First Search.\n",
        "// 2020/05 kameda[at]ccs.tsukuba.ac.jp\n",
        "// -- Extra --\n",
        "//    Accept command line option\n",
        "//    Call functions for enqueue and dequeue\n",
        "#include <stdio.h> // printf()\n",
        "#include <stdlib.h> // atoi()\n",
        "#include \"QueueLib_J.h\"\n",
        "#include \"graph3.h\"\n",
        "\n",
        "// 幅優先探索本体\n",
        "void bfs(int StartingRoom){\n",
        "    int listed[N]; // 0 未, 1 済\n",
        "\n",
        "    int CurrentRoom;\n",
        "    int RoomToCheck;\n",
        "\n",
        "\tfor (RoomToCheck = 0; RoomToCheck < N; RoomToCheck++)\n",
        "\t\tlisted[RoomToCheck] = 0;\n",
        "\n",
        "    // キューの初期化\n",
        "    initqueue(N);\n",
        "\n",
        "\tprintf(\"幅優先探索を 頂点%d から開始します．\\n\", StartingRoom);\n",
        "    // StartingRoomをキューに追加する\n",
        "    enqueue(StartingRoom);\n",
        "\n",
        "    // キューに追加したということは訪れる対象として（列挙）計上済みということ\n",
        "    printf(\"頂点 %d をこれ以降は列挙済として扱います．\\n\", StartingRoom);\n",
        "    listed[StartingRoom] = 1;\n",
        "\n",
        "    // キューの状態表示\n",
        "    // while()文のところでキュー操作が行われるため，その直前状態を表示するため表示タイミングを移動\n",
        "    showqueue();\n",
        "\n",
        "    // キューに処理対象がある限り作業を継続\n",
        "\twhile ((CurrentRoom = dequeue()) >= 0) {\n",
        "        // キュー先頭から１つ呼んで作業開始（キューからは削除）\n",
        "\t\tprintf(\"キュー先頭の頂点 %d をキューから外して処理を開始します．\\n\", CurrentRoom);\n",
        "\n",
        "        // ※ここで何かしらの作業を行うのかも．\n",
        "\n",
        "        // 次にどの頂点を列挙していくか検討\n",
        "\t\tfor (RoomToCheck = 0; RoomToCheck < N; RoomToCheck++) {\n",
        "            if (edge[CurrentRoom][RoomToCheck] == 0) {\n",
        "\t\t\t\tprintf(\"  (頂点 %d にて) 頂点 %d は隣接していませんでした‥\\n\", CurrentRoom, RoomToCheck);\n",
        "            } else if (listed[RoomToCheck] != 0) {\n",
        "\t\t\t\tprintf(\"  (頂点 %d にて) 頂点 %d は隣接はしてますがすでに処理済でした‥\\n\", CurrentRoom, RoomToCheck);\n",
        "            } else {\n",
        "\t\t\t\tprintf(\"  (頂点 %d にて) 頂点 %d は隣接でかつキューに繋いだことがないので、キューの最後尾に追加します。\\n\", CurrentRoom, RoomToCheck);\n",
        "                // RoomToCheckをキューに追加する\n",
        "\t\t\t\tenqueue(RoomToCheck);\n",
        "\n",
        "                // キューに追加したということは訪れる処理対象として計上（列挙）済みということ\n",
        "                printf(\"  (頂点 %d にて) 頂点 %d をこれ以降は列挙済として扱います．\\n\", CurrentRoom, RoomToCheck);\n",
        "\t\t\t\tlisted[RoomToCheck] = 1;\n",
        "\t\t\t}\n",
        "\t\t}\n",
        "        // キューの状態表示\n",
        "        // while()文のところでキュー操作が行われるため，その直前状態を表示するため表示タイミングを移動\n",
        "        showqueue();\n",
        "\t}\n",
        "\tprintf(\"何も残っていないので幅優先探索を終了します．\\n\");\n",
        "\n",
        "\tprintf(\"幅優先探索による頂点の列挙．\\n\");\n",
        "    showallqueue();\n",
        "\n",
        "\treturn;\n",
        "}\n",
        "\n",
        "// Main function\n",
        "int main(int argc, char *argv[]){\n",
        "    int startnode = 0;\n",
        "    if (argc == 1) {\n",
        "        printf(\"指定がなかったので頂点0を開始頂点にします．\");\n",
        "        startnode = 0;\n",
        "    } else if (argc == 2) {\n",
        "        startnode = atoi(argv[1]);\n",
        "        if (startnode < 0 || startnode >= N) {\n",
        "            printf(\"不正な頂点指定だったので終了します．\");\n",
        "            return -1;\n",
        "        }\n",
        "    }\n",
        "\n",
        "\tbfs(startnode); // 開始頂点番号を引数にしてbfs関数を呼び出す\n",
        "\treturn 0;\n",
        "}"
      ],
      "execution_count": null,
      "outputs": []
    },
    {
      "cell_type": "markdown",
      "metadata": {
        "id": "RIzCCG_HefwJ"
      },
      "source": [
        "ユーザプログラムのコンパイル（のみ）．"
      ]
    },
    {
      "cell_type": "code",
      "metadata": {
        "id": "4FjvSOZuZhy4"
      },
      "source": [
        "!gcc -Wall -c bfs_xtraFuncCalls_J.c"
      ],
      "execution_count": null,
      "outputs": []
    },
    {
      "cell_type": "markdown",
      "metadata": {
        "id": "el5mxVABeoT4"
      },
      "source": [
        "リンカを実行して，実行ファイルを作成．"
      ]
    },
    {
      "cell_type": "code",
      "metadata": {
        "id": "mzRyl1IDZyrF"
      },
      "source": [
        "!gcc -o bfs_xtraFuncCalls_J bfs_xtraFuncCalls_J.o QueueLib_J.o"
      ],
      "execution_count": null,
      "outputs": []
    },
    {
      "cell_type": "markdown",
      "metadata": {
        "id": "KUi66tQ9ezAc"
      },
      "source": [
        "実行．開始頂点を0にするなら結果は前のプログラムと同一のはずである．開始頂点を変更すると当然実験結果は異なる．"
      ]
    },
    {
      "cell_type": "code",
      "metadata": {
        "id": "cnqUOVDEaAvA"
      },
      "source": [
        "!./bfs_xtraFuncCalls_J 0"
      ],
      "execution_count": null,
      "outputs": []
    },
    {
      "cell_type": "code",
      "metadata": {
        "id": "ZOBSAQVJxb9Z"
      },
      "source": [
        "!./bfs_xtraFuncCalls_J 1"
      ],
      "execution_count": null,
      "outputs": []
    },
    {
      "cell_type": "markdown",
      "metadata": {
        "id": "zWc0IUeckVCy"
      },
      "source": [
        "# 課題\n",
        "\n",
        "【注意】ChatGPT等を利用するのは構わないが，ChatGPTから提示される内容（説明や計算量の議論など）はほとんどの場合，本授業資料に即していない可能性が高いのよく注意すること．  \n",
        "\n",
        "1. アルゴリズムの記述  \n",
        "キューを用いた幅優先探索のアルゴリズムを日本語を用いて記述せよ．  \n",
        "本講義資料に即した説明であること．  \n",
        "キューの図も用いること．\n",
        "\n",
        "2. アルゴリズムの完全性  \n",
        "これまでの授業内容に即した連結な無向グラフの定義を述べよ．そのあとで，連結な無向グラフが与えられている限り，本節で示した幅優先探索アルゴリズムは必ず全頂点を列挙して終わることを示せ．これは本来は証明問題である．そういう文献等を探してきて読解しそれを説明するだけでも良い．\n",
        "\n",
        "3. 計算量  \n",
        "プログラム(bfs_xtraCommandLine_J.c)の時間計算量と空間計算量を議論せよ．\n",
        "\n",
        "4. queue使用量  \n",
        "どのような無向で連結なグラフが指定されても，queueに必要な記憶領域が頂点数を超えないことを示せ．\n",
        "\n",
        "5. 最長のqueue  \n",
        "どのような無向で連結なグラフが指定されると，一時的にqueueが最長となるか理由と共に示せ．ここでqueueの長さとは，qtail-qhead+1 を指す．\n",
        "\n",
        "6. 遠さの表示  \n",
        "結果の列挙表示において，各頂点が開始頂点からどれだけ遠いかを数字で示すようプログラム(bfs_xtraCommandLine_J.c)を書き換えよ．遠さは開始頂点からの辺数で示すものとする．  \n",
        "(例) BFS result: 0(0) 1(1) 4(1) 6(2) 5(2) 2(3) 7(3) 3(4)\n",
        "\n",
        "7. atoi()関数について  \n",
        "(a) atoi()関数に数値と解釈できない文字列を渡したら何が起きるか述べよ．\n",
        "(b) atoi()関数に数値と解釈できない文字列を渡したら何が起きるか確認せよ．\n",
        "\n",
        "8. strtol()関数について  \n",
        "(a) strtol()関数でエラートラップする仕組みを述べよ．\n",
        "(b) strtol()関数でエラートラップする簡単なプログラムを作成せよ．  \n",
        "（ヒント：stortol()関数ではerrnoを用いてエラー処理を実施する．）\n",
        "\n",
        "9. queue[]前詰め  \n",
        "queue[]から処理単位を削除した後，queue[]の内容を前詰めするようプログラム(bfs_xtraCommandLine_E.c)を書き換えよ．（言い換えれば queue[0] が常にキューの先頭であるようにすること．）\n",
        "\n",
        "10. グラフの指定  \n",
        "\"graph3.h\"をインクルードする代わりに，グラフの隣接行列を記述したテキストファイルを読み込み，それを利用することが考えられる．そうできるようプログラム(bfs_xtraCommandLine_J.c)を書き換えよ．\n",
        "\n",
        "\n",
        "\n",
        "\n",
        "\n"
      ]
    },
    {
      "cell_type": "markdown",
      "metadata": {
        "id": "jH-eUJGLANyI"
      },
      "source": [
        "#**Course Info**\n",
        "\n",
        "https://github.com/kameda-yoshinari/DataAlgo-UT  \n",
        "筑波大学工学システム学類  \n",
        "データ構造とアルゴリズム  \n",
        "担当：亀田能成  \n",
        "2025/04/30 2025年度版  \n",
        "2023/04/19 2023年度版(ChatGPTなど)  \n",
        "2022/04/27 細かい文言訂正．  \n",
        "2022/04/12 フォルダ構成を更新  \n",
        "2021/04/28 改訂初版.  \n"
      ]
    }
  ]
}