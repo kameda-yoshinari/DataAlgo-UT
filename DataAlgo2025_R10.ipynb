{
  "nbformat": 4,
  "nbformat_minor": 0,
  "metadata": {
    "colab": {
      "provenance": [],
      "include_colab_link": true
    },
    "kernelspec": {
      "name": "python3",
      "display_name": "Python 3"
    }
  },
  "cells": [
    {
      "cell_type": "markdown",
      "metadata": {
        "id": "view-in-github",
        "colab_type": "text"
      },
      "source": [
        "<a href=\"https://colab.research.google.com/github/kameda-yoshinari/DataAlgo-UT/blob/main/DataAlgo2025_R10.ipynb\" target=\"_parent\"><img src=\"https://colab.research.google.com/assets/colab-badge.svg\" alt=\"Open In Colab\"/></a>"
      ]
    },
    {
      "cell_type": "markdown",
      "metadata": {
        "id": "-SqpuNOEWS-a"
      },
      "source": [
        "# データ構造とアルゴリズム 遅延提出（第10週） (2025/06/25　ver.A)\n",
        "\n",
        "---\n",
        "\n",
        "\n",
        "★下記３要素を**必ず直接書き換えてから**提出すること．\n",
        "\n",
        "* 学籍番号： 202599001\n",
        "* 氏名： 筑波 翼\n",
        "* Colabアカウント： tsukuba.tsubasa.dummy@gmail.com\n",
        "\n",
        "**学生同士で教えた・教わった・グループワークをした場合，必ず下記の当該行を直接書き換えて記述すること．**\n",
        "申告があった場合は，論述などで内容が似ていたり，プログラムが似ていても減点はしない．（コピペレベルの同一文などは処罰対象）\n",
        "**教えた側は加点対象となる．**\n",
        "\n",
        "**[教えた側]**\n",
        "教えた相手：＜氏名＞　＜学籍番号＞\n",
        "（何名いてもよい；教えた相手の内容が浅くなってないか確認すること）\n",
        "\n",
        "**[教わった側]**\n",
        "教わった相手：＜氏名＞　＜学籍番号＞\n",
        "（何名いてもよい；必ず教えた側に自分の名前を書いてもらうこと）\n",
        "\n",
        "**[グループワーク]**\n",
        "一緒に行った相手：＜氏名＞　＜学籍番号＞\n",
        "（何名いてもよいが，必ずお互いの名前を全員記すこと）"
      ]
    },
    {
      "cell_type": "markdown",
      "metadata": {
        "id": "8NUVKBVvmvtw"
      },
      "source": [
        "---\n",
        "# 必須課題10A FPTASの概念説明\n",
        "\n",
        "本授業内容に即して，FPTASアルゴリズムが有する性質について述べよ．\n",
        "精度保証と計算量との関係については授業内での解説レベルで丁寧に説明すること．\n",
        "その後，0-1ナップサック問題におけるFPTAS近似アルゴリズムについて，精度と計算量がどのような関係にあるか具体的に述べよ（導出は必要ない）\n",
        "\n",
        "\n"
      ]
    },
    {
      "cell_type": "markdown",
      "metadata": {
        "id": "j_LNv7qr2Jcq"
      },
      "source": [
        "議論はここに"
      ]
    },
    {
      "cell_type": "markdown",
      "metadata": {
        "id": "YI2_FQ2TPCP0"
      },
      "source": [
        "---\n",
        "# 必須課題10B ミーリーマシンのファイルからの読み込み\n",
        "\n",
        "ミーリーマシンを定義するテキストファイルを用意し，それを読み込んで実行するCプログラムを作成せよ．\n",
        "入力文字・出力文字として考えるのは0-9の数字のみでよい．\n",
        "状態は0以上の整数で表すこと．\n",
        "受理状態については考慮しなくてよい．\n",
        "用意するテキストファイルの形式については各自で考えてよいが，解説をつけること．\n",
        "対象とするミーリーマシンは，授業内で用いていたものから利用してよい．\n",
        "（他のミーリーマシンでもよいが，その場合は，そのミーリーマシンがどういう状態遷移を表現しているものか説明を用意すること）\n",
        "\n",
        "\n",
        "\n"
      ]
    },
    {
      "cell_type": "markdown",
      "metadata": {
        "id": "sQlduWikPdus"
      },
      "source": [
        "解説等の文章はここに．"
      ]
    },
    {
      "cell_type": "code",
      "metadata": {
        "id": "n4p3VCMVPjuj"
      },
      "source": [
        "マシン定義用のテキストファイル．"
      ],
      "execution_count": null,
      "outputs": []
    },
    {
      "cell_type": "code",
      "metadata": {
        "id": "jbtwp43YPghw"
      },
      "source": [
        "プログラムコード．"
      ],
      "execution_count": null,
      "outputs": []
    },
    {
      "cell_type": "markdown",
      "source": [
        "---\n",
        "必須課題10C ミーリーマシンの実行の図解  \n",
        "\n",
        "必須課題10Bで用意したミーリーマシンが，入力文字列に対して正しく動いていることを図解で説明せよ．  \n",
        "図解で用いる用紙には，説明開始前に，予め当該ミーリーマシンを表す状態遷移図を描いておくこと（この部分は印刷でも手書きでもよい）．  \n",
        "動画の最初で，当該ミーリーマシンの想定される機能について説明すること．  \n",
        "その上で，入力文字列を用意し，その入力に伴う状態遷移を図の上で分かりやすく解説すること．  \n",
        "YouTube Shortの形（２週目の課題参照）でテキストセル(2)にURLを示すこと．（手書きで紙に書くこと．肉声で解説しながら書くこと．本人確認も兼ねてるので，ペンタブや合成音声などは全て認めません）  \n",
        "例 https://youtube.com/shorts/T2YnvHBectU  \n"
      ],
      "metadata": {
        "id": "g2PBgEt7-Y0V"
      }
    },
    {
      "cell_type": "markdown",
      "source": [
        "URLをここに記載．"
      ],
      "metadata": {
        "id": "Id70JfDMAfpH"
      }
    },
    {
      "cell_type": "markdown",
      "metadata": {
        "id": "inB20dz5Prmi"
      },
      "source": [
        "---\n",
        "# 発展課題10X 新しいミーリーマシン（2クロック遅延）\n",
        "\n",
        "2クロック遅延を実現するミーリーマシン表現を考え，FA-mealy.cのミーリーマシン定義部のみをそれに従って書き換えて実行し結果を確認せよ．またこのときの状態遷移図を示せ．"
      ]
    },
    {
      "cell_type": "markdown",
      "metadata": {
        "id": "KevZT_pQP925"
      },
      "source": [
        "説明等はここに．"
      ]
    },
    {
      "cell_type": "code",
      "metadata": {
        "id": "pD-awJnGP__i"
      },
      "source": [
        "プログラムコード．"
      ],
      "execution_count": null,
      "outputs": []
    },
    {
      "cell_type": "markdown",
      "metadata": {
        "id": "c7rf54NjW5f2"
      },
      "source": [
        "---\n",
        "---\n",
        "# 課題提出法\n",
        "\n",
        "筑波大学工学システム学類３年生向け．\n",
        "FG24711 / FG34711．\n",
        "\n",
        "必須課題は全て実施すること．\n",
        "発展課題はしなくともよいが，A+取得には発展課題を（全課題提出を通して）1つ以上実施していることが必要条件である．\n",
        "\n",
        "該当するmanabaに課題提出のエントリを設けるので，そこに本**Colab notebookを提出**すること．\n"
      ]
    },
    {
      "cell_type": "markdown",
      "metadata": {
        "id": "WL_8ZT6VQIYm"
      },
      "source": [
        "\n",
        "# 出典\n",
        "\n",
        "筑波大学工学システム学類  \n",
        "データ構造とアルゴリズム  \n",
        "担当：亀田能成  \n",
        "\n",
        "\n"
      ]
    }
  ]
}