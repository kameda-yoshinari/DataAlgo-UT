{
  "nbformat": 4,
  "nbformat_minor": 0,
  "metadata": {
    "colab": {
      "provenance": [],
      "include_colab_link": true
    },
    "kernelspec": {
      "name": "python3",
      "display_name": "Python 3"
    }
  },
  "cells": [
    {
      "cell_type": "markdown",
      "metadata": {
        "id": "view-in-github",
        "colab_type": "text"
      },
      "source": [
        "<a href=\"https://colab.research.google.com/github/kameda-yoshinari/DataAlgo-UT/blob/main/DataAlgo2025_R04.ipynb\" target=\"_parent\"><img src=\"https://colab.research.google.com/assets/colab-badge.svg\" alt=\"Open In Colab\"/></a>"
      ]
    },
    {
      "cell_type": "markdown",
      "metadata": {
        "id": "-SqpuNOEWS-a"
      },
      "source": [
        "# データ構造とアルゴリズム 第4週課題 (2025/05/14 ver.A)\n",
        "\n",
        "---\n",
        "\n",
        "\n",
        "\n",
        "★下記３要素を**必ず直接書き換えてから**提出すること．\n",
        "\n",
        "* 学籍番号： 202599001\n",
        "* 氏名： 筑波 翼\n",
        "* Colabアカウント： tsukuba.tsubasa.dummy@gmail.com\n",
        "\n",
        "**学生同士で教えた・教わった・グループワークをした場合，必ず下記の当該行を直接書き換えて記述すること．**  \n",
        "申告があった場合は，論述などで内容が似ていたり，プログラムが似ていても減点はしない．（コピペレベルの同一文などは処罰対象）  \n",
        "**教えた側は加点対象となる．**\n",
        "\n",
        "**[教えた側]**  \n",
        "教えた相手：＜氏名＞　＜学籍番号＞  \n",
        "（何名いてもよい；教えた相手の内容が浅くなってないか確認すること）\n",
        "\n",
        "**[教わった側]**  \n",
        "教わった相手：＜氏名＞　＜学籍番号＞  \n",
        "（何名いてもよい；必ず教えた側に自分の名前を書いてもらうこと）\n",
        "\n",
        "**[グループワーク]**  \n",
        "一緒に行った相手：＜氏名＞　＜学籍番号＞  \n",
        "（何名いてもよいが，必ずお互いの名前を全員記すこと）\n"
      ]
    },
    {
      "cell_type": "markdown",
      "metadata": {
        "id": "TjOgrYW8lAmy"
      },
      "source": [
        "---\n",
        "# 必須課題4A 深さ優先探索アルゴリズムの説明\n",
        "\n",
        "DataAlgo005(DFS)で示している再帰呼出関数を用いた深さ優先探索アルゴリズムを，日本語で過不足なくかつ簡潔に記述せよ（テキストセル1）．  \n",
        "また，その記述に沿って，グラフ3において**開始頂点を4として図解**してみせよ（テキストセル2）．\n",
        "\n",
        "* 本授業内容（講義資料参照）に即した説明であること．\n",
        "* （ChatGPT等に相談すると授業内容と異なることが多いので注意すること．これはこれ以降すべてに共通）\n",
        "* スタックをどのように利用しているかを記述に含めること．\n",
        "* 講義資料中に示したスタックの図を図解に含めること．（概念的に同じであればラフな図でもよい）\n",
        "* 図解において頂点選択に同等の選択肢がある場合は頂点番号の小さいものから選ぶこと．\n",
        "\n",
        "文章については，一つ目ののテキストセルに記述すること．  \n",
        "図解については，YouTube Shortの形（２週目の課題参照）で二つ目のテキストセルにURLを示すこと．（手書きで紙に書くこと．肉声で解説しながら書くこと．本人確認も兼ねてるので，ペンタブや合成音声などは全て認めません）  \n",
        "例 https://youtube.com/shorts/T2YnvHBectU  \n",
        "\n"
      ]
    },
    {
      "cell_type": "markdown",
      "metadata": {
        "id": "mRLPlzcHmhiQ"
      },
      "source": [
        "（テキストセル1：この文字列を消してここに記述）"
      ]
    },
    {
      "cell_type": "markdown",
      "metadata": {
        "id": "E_IyfH8BmhvY"
      },
      "source": [
        "（テキストセル2：この文字列を消してここにURLを記述）"
      ]
    },
    {
      "cell_type": "markdown",
      "metadata": {
        "id": "8NUVKBVvmvtw"
      },
      "source": [
        "---\n",
        "# 必須課題4B 深さ優先探索アルゴリズムの計算量\n",
        "\n",
        "\n",
        "DataAlgo_UT(005)_DFSで示している深さ優先探索アルゴリズムの空間計算量と時間計算量について議論せよ．  \n",
        "（授業内で言及していた内容をまとめるだけでよい）  \n",
        "（ChatGPT等に相談すると授業内での言及と異なる説明をしてくることが多いので鵜呑みにしないこと．これはこれ以降すべてに共通）  \n",
        "説明に必要なプログラム参照があるなら，以下のコードセルに必要部分を張り付けること．  \n",
        "文章による説明は以下のテキストセルを利用せよ．\n"
      ]
    },
    {
      "cell_type": "code",
      "metadata": {
        "id": "3j3I4WWQ2EU0"
      },
      "source": [
        "※説明に必要コードを貼りつけること"
      ],
      "execution_count": null,
      "outputs": []
    },
    {
      "cell_type": "markdown",
      "metadata": {
        "id": "B9Z8A8xin-Ru"
      },
      "source": [
        "（議論はここに記述）"
      ]
    },
    {
      "cell_type": "markdown",
      "metadata": {
        "id": "lhHo4RtY1c_z"
      },
      "source": [
        "---\n",
        "# 必須課題4C 深さを表示するプログラム\n",
        "\n",
        "\n",
        "深さ優先探索の結果の列挙において，それぞれの頂点の深さ（開始頂点からの辺数）を合わせて表示するプログラムを作成せよ．ベースには dfs_recursive-short_J を用いること（本授業で示したプログラムをベースにするのであればどれでもよい）．下記はグラフ3での開始頂点0での出力例である．趣旨が同じであれば表示はこの通りで有る必要はない．\n",
        "\n",
        "★★列挙： 0 (深さ 0)  \n",
        "★★列挙： 1 (深さ 1)  \n",
        "★★列挙： 6 (深さ 2)  \n",
        "★★列挙： 2 (深さ 3)  \n",
        "★★列挙： 3 (深さ 4)  \n",
        "★★列挙： 7 (深さ 5)  \n",
        "★★列挙： 5 (深さ 3)  \n",
        "★★列挙： 4 (深さ 4)  \n"
      ]
    },
    {
      "cell_type": "code",
      "metadata": {
        "id": "rcWjNAl-2Fe7"
      },
      "source": [
        "#ソースコード（用いるグラフファイル）"
      ],
      "execution_count": null,
      "outputs": []
    },
    {
      "cell_type": "code",
      "metadata": {
        "id": "88G_NNsW3Aud"
      },
      "source": [
        "#ソースコード（プログラム本体）"
      ],
      "execution_count": null,
      "outputs": []
    },
    {
      "cell_type": "code",
      "metadata": {
        "id": "RMj0i7y32ik0"
      },
      "source": [
        "#コンパイル方法"
      ],
      "execution_count": null,
      "outputs": []
    },
    {
      "cell_type": "code",
      "metadata": {
        "id": "as4G4fX22sRC"
      },
      "source": [
        "#実行（出力結果をつけたまま提出すること）"
      ],
      "execution_count": null,
      "outputs": []
    },
    {
      "cell_type": "markdown",
      "metadata": {
        "id": "NTFmAWpPnnaz"
      },
      "source": [
        "---\n",
        "# 発展課題4X スタック使用量とその限界\n",
        "\n",
        "\n",
        "\n",
        "どのような無向で連結なグラフが指定されても，プログラム dfs_recursive_J において，スタックに必要な領域が頂点数（の定数倍）を超えないことを示せ．  \n",
        "また，\n",
        "どのような無向で連結なグラフが指定されると，スタックの使用量が一時的に最大となるか理由と共に示せ．ここで一時的な最大とは，再帰呼出の積み重ねによってスタックの使用量が最大になる状況を指す．つまり，どのようなグラフが来たら，スタックが一時的とはいえ最大限高くなる（スタックに溜る）か？という設問である．\n",
        "\n",
        "\n"
      ]
    },
    {
      "cell_type": "markdown",
      "metadata": {
        "id": "ljT6EzOYnUZp"
      },
      "source": [
        "（議論はここに記述）"
      ]
    },
    {
      "cell_type": "markdown",
      "metadata": {
        "id": "QaF4i_OewcnU"
      },
      "source": [
        "---\n",
        "# 発展課題4Y 二つのプログラムのスタックの内容のずれ\n",
        "\n",
        "\n",
        "ここで示した２つのプログラム\n",
        "\n",
        "*    dfs_xtraCommandLine_J\n",
        "*   dfs_recursive_J\n",
        "\n",
        "において，注意深く観察すると，同じ開始頂点を与えたときに列挙結果は同じとなるものの，途中のスタックの中身は同じではない．どちらも深さ優先探索ではある．この違いが発生する原因を考察せよ．\n",
        "\n",
        "（本発展課題はやや難しい．本問に関しては，ChatGPTに上手に聞いて自分が理解できるだけの説明が得られたならむしろの会話のやりとりを出して貰ってもよい．その場合は，出し方を採点者が見やすくなるよう工夫すること）\n"
      ]
    },
    {
      "cell_type": "markdown",
      "metadata": {
        "id": "uUbvRSckx_1w"
      },
      "source": [
        "（議論はここに記述）"
      ]
    },
    {
      "cell_type": "markdown",
      "metadata": {
        "id": "c7rf54NjW5f2"
      },
      "source": [
        "---\n",
        "# 課題提出法\n",
        "\n",
        "筑波大学工学システム学類３年生向け．  \n",
        "FG24711 / FG34711．  \n",
        "\n",
        "必須課題は全て実施すること．  \n",
        "発展課題はしなくともよいが，A+取得には発展課題を（全課題提出を通して）1つ以上実施していることが必要条件である．\n",
        "\n",
        "# 出典\n",
        "\n",
        "筑波大学工学システム学類  \n",
        "データ構造とアルゴリズム  \n",
        "担当：亀田能成  \n",
        "\n"
      ]
    }
  ]
}