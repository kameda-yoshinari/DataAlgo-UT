{
  "cells": [
    {
      "cell_type": "markdown",
      "metadata": {
        "id": "view-in-github",
        "colab_type": "text"
      },
      "source": [
        "<a href=\"https://colab.research.google.com/github/kameda-yoshinari/DataAlgo-UT/blob/main/DataAlgo_UT(018)_FiniteAutomaton.ipynb\" target=\"_parent\"><img src=\"https://colab.research.google.com/assets/colab-badge.svg\" alt=\"Open In Colab\"/></a>"
      ]
    },
    {
      "cell_type": "markdown",
      "metadata": {
        "id": "yRmydXneMgT8"
      },
      "source": [
        "# 9. 有限オートマトン\n",
        "\n",
        "有限オートマトン(Finite Automaton FA)は，有限状態機械(Finite State Machine / FSA)とも呼ばれ，計算機で「振る舞い」を規定することができるアルゴリズムである．  \n",
        "有限オートマトンはグラフで表現できる．  \n",
        "グラフで表現できるものは隣接行列で表現できる．  \n",
        "つまり有限オートマトンはC言語上では配列を使って表現できる．  \n",
        "これはつまり，違うグラフ表現を配列で読み込ませることができるようにしておけば，プログラム自身を書き換えることなく，配列を取り換えるだけで全く違う振る舞いをさせることができるようになるということである．\n",
        "\n",
        "\n",
        "**いつもの約束**  \n",
        "１つのコードセルだけの実行は Ctrl + Enter．  \n",
        "エディタで「インデント幅（スペース）は4で表示」「行番号を表示」「インデントガイドを表示」．  \n",
        "内部では日本語はUTF-8で表現されている．\n"
      ]
    },
    {
      "cell_type": "markdown",
      "metadata": {
        "id": "CdQdV_MJIlce"
      },
      "source": [
        "# 準備\n",
        "\n",
        "インスタンスに接続し起動する．  \n",
        "下記の手順でGoogle Driveをマウントする．  \n",
        "マウント先に移動し，作業フォルダとする．  \n",
        "これによって，インスタンスがリセットされてもGoogle Drive内にファイルが保存されるようにする．"
      ]
    },
    {
      "cell_type": "code",
      "execution_count": null,
      "metadata": {
        "id": "DMtqXRXJIPMR"
      },
      "outputs": [],
      "source": [
        "!echo \"Google Driveをマウントします\"\n",
        "from google.colab import drive\n",
        "drive.mount('/content/drive')"
      ]
    },
    {
      "cell_type": "code",
      "execution_count": null,
      "metadata": {
        "id": "SABzmuELIaj2"
      },
      "outputs": [],
      "source": [
        "!echo \"今回の作業用フォルダを作成しそこに移動します\"\n",
        "%cd /content/drive/My\\ Drive/\n",
        "%mkdir -p UT_DataAlgo/DA_018\n",
        "%cd       UT_DataAlgo/DA_018\n",
        "!ls\n",
        "!echo \"日本時間表示\"\n",
        "!rm /etc/localtime\n",
        "!ln -s /usr/share/zoneinfo/Japan /etc/localtime\n",
        "!date"
      ]
    },
    {
      "cell_type": "markdown",
      "metadata": {
        "id": "4s3BWazcz1FB"
      },
      "source": [
        "# 有限オートマトンの定義\n",
        "\n",
        "**概要**\n",
        "\n",
        "有限オートマトンの振る舞いは，状態と遷移で表現される．\n",
        "\n",
        "一度には一つの状態のみ保持する．これを現在状態と呼ぶ．\n",
        "\n",
        "現在状態から，記号の入力を受けて，他の状態に移る．これを遷移と呼ぶ．\n",
        "\n",
        "もちろん内部で状態遷移しているだけでは意味がないので，この遷移に伴って何らかの出力を行う．\n",
        "\n",
        "つまり，現在状態として取りうる状態を列挙し，それぞれの状態間の遷移のための条件を示せば，有限オートマトンを定義できる．\n",
        "\n",
        "\n",
        "\n",
        "**構成要素**\n",
        "\n",
        "まずは基本的な構成要素について示す．\n",
        "\n",
        "- Sを有限の状態集合とする．\n",
        "- Σを有限の入力文字の集合とする．\n",
        "- Λを有限の出力文字の集合とする．\n",
        "- 開始状態q<sub>0</sub>とする．q<sub>0</sub>∈S．\n",
        "- Aを受理状態を示すQの部分集合とする．A⊆Q．\n",
        "- 遷移関数 T : S × Σ → S とする．\n",
        "\n",
        "出力関数の定義によって，FAはムーアマシン(Moore Machine)とミーリーマシン(Mealy Machine)に分けられる．\n",
        "\n",
        "- 出力関数 G : S → Λ (ムーアマシン)\n",
        "- 出力関数 G : S × Σ → Λ (ミーリーマシン)\n",
        "\n",
        "**状態遷移図**\n",
        "\n",
        "有限オートマトンの記述は状態遷移図（頂点と有向辺からなるグラフ）を書いてみるとわかりやすい．状態を頂点，遷移を有向辺で示す．\n",
        "\n",
        "ムーアマシンでは，出力文字は状態で定義されるので，頂点に付帯することになる．\n",
        "\n",
        "ミーリーマシンでは，出力文字は状態と入力記号で定義される（これは遷移関数と同じである）ので，結局，有向辺に付帯することになる．\n",
        "\n",
        "**考察**\n",
        "\n",
        "ムーアマシンは入力文字を受け取って遷移先の状態に落ち着いたところで文字を出力するので，文字の入力に対して文字の出力が遅れることになる．\n",
        "\n",
        "ミーリーマシンは入力文字を受け取って遷移をすると同時に文字を出力する（状態遷移図で辺を辿る際に文字を出力する）．\n",
        "\n",
        "ムーアマシンとミーリーマシンは同じだけの表現能力を有している．ムーアマシンで記述できる振る舞いはミーリーマシンで記述できるし，逆も可能である（厳密には出力のタイミングの問題があるので，機能として全く同一であるとは言えない）．実際に，片方のマシンを別のほうのマシンに書き換えることが可能である．\n",
        "\n",
        "\n",
        "\n",
        "\n",
        "\n",
        "\n",
        "\n"
      ]
    },
    {
      "cell_type": "markdown",
      "metadata": {
        "id": "dd-hVe7gXiCk"
      },
      "source": [
        "# ミーリーマシン\n",
        "\n",
        "有限オートマトンの学習としてはムーアマシンでもミーリーマシンでも同じことである．\n",
        "\n",
        "本授業では，入力と出力が連動する形の方が学習者が理解しやすいと考えて，ミーリーマシンを取り上げる．\n",
        "\n",
        "ここからは具体例を用いる．  \n",
        "\n",
        "**１クロック遅延表示**\n",
        "\n",
        "１クロック遅延表示では，ひとつ前の入力を出力として表示する．  \n",
        "簡単のためにΣ={0,1}とする．  \n",
        "最初の出力だけは，ひとつ前の入力が存在しないので，ここでは0を必ず出力するものとする．  \n",
        "例としては次のようになる．\n",
        "\n",
        "> 入力: 00110110...  \n",
        "> 出力: 00011011...\n",
        "\n",
        "\n",
        "受理状態は空集合である．\n",
        "\n",
        "**状態遷移図**\n",
        "\n",
        "ミーリーマシンでは，遷移関数と出力関数は，どちらも（現在）状態と入力文字で決定される．そこで下図で有向辺の横の数字が入力文字と出力文字を表す．有向辺にσ/λと表示されているとき，有向辺の元が現在状態，有向辺の先が遷移後の状態，σが受け取った入力文字，λがそのとき出力される文字を示す．\n",
        "\n",
        "![FA-mealy-1clockdelay](https://user-images.githubusercontent.com/45651568/123010473-a4322800-d3f9-11eb-8c19-df39297a05f6.png)\n",
        "\n",
        "実際に入力文字列を用意し，1クロック遅延で文字列が出力されることを確認すること．\n",
        "\n",
        "**状態遷移表**\n",
        "\n",
        "状態遷移図はグラフを表している．グラフで記述できるものは表(隣接行列)でも必ず記述できることを思い出そう．  \n",
        "上記のグラフはミーリーマシンを表していたので，ここでは同じミーリーマシンを表で表現することを考える．  \n",
        "遷移関数と出力関数の定義を表で示すと次の通りになる．  \n",
        "上の状態遷移図と同じことを表していることによく確認すること．  \n",
        "\n",
        "\n",
        "遷移関数\n",
        "\n",
        "| state | '0' | '1' |\n",
        "| ----- | --- | --- |\n",
        "| S<sub>初期</sub> | S<sub>0</sub> |  S<sub>1</sub> |\n",
        "| S<sub>0</sub>    | S<sub>0</sub> |  S<sub>1</sub> |\n",
        "| S<sub>1</sub>    | S<sub>0</sub> |  S<sub>1</sub> |\n",
        "\n",
        "出力関数\n",
        "\n",
        "| state | '0' | '1' |\n",
        "| ----- | --- | --- |\n",
        "| S<sub>初期</sub> | 0 |  0 |\n",
        "| S<sub>0</sub>    | 0 |  0 |\n",
        "| S<sub>1</sub>    | 1 |  1 |\n",
        "\n",
        "\n",
        "**閑話**\n",
        "\n",
        "実は人類の脳構造は時間をずらした記憶との連携に弱い．  \n",
        "１クロック遅延はその典型例である．  \n",
        "疑問に思うなら，指の基本形，というリクレーションゲームがあるので探して，周りの人に試してみるとよい．その人の優秀さと，答えにたどり着くまでにかかる時間は全く関係ないことがよくわかる．（つまり人類共通の難点であって学力とかでなんとかなるものではない）  \n",
        "小学生や子供にも受けるので，覚えておくといつか役に立つかも．  "
      ]
    },
    {
      "cell_type": "markdown",
      "metadata": {
        "id": "5QkNub1bXi1l"
      },
      "source": [
        "\n",
        "# ミーリーマシンを実行するCプログラム\n",
        "\n",
        "**実装**\n",
        "\n",
        "学習したミーリーマシンを配列内の表現で保存し，入力に従って遷移と出力をするCプログラムを作成する．\n",
        "\n",
        "**備考**\n",
        "\n",
        "L9 - L32 の部分がミーリーマシンを表現している．  \n",
        "ここさえ書き換えれば，どのようなミーリーマシンも同じプログラム(L34以降)で実行できることに注意する．\n"
      ]
    },
    {
      "cell_type": "code",
      "execution_count": null,
      "metadata": {
        "id": "X_5uO6h1-mw-"
      },
      "outputs": [],
      "source": [
        "%%writefile FA-mealy.c\n",
        "// Mealy Machine of Finite Automaton\n",
        "// 2021 kameda[at]ccs.tsukuba.ac.jp\n",
        "\n",
        "// Input letters  should be given by one of '0' - '9' at standard input\n",
        "\n",
        "#include <stdio.h>\n",
        "\n",
        "// -------------------------------\n",
        "// Example of 1-clock-delay output\n",
        "\n",
        "#define NUM_STATE        3 // number of states\n",
        "#define NUM_INPUTLETTERS 2 // number of input letters\n",
        "\n",
        "#define INITSTATE 0 // Initial state (in ttable)\n",
        "\n",
        "// transition table\n",
        "// next_state = ttable[current_state][input_letter]\n",
        "int ttable[NUM_STATE][NUM_INPUTLETTERS] = {\n",
        "  {1, 2}, // state No.0\n",
        "  {1, 2}, // state No.1\n",
        "  {1, 2}  // state No.2\n",
        "};\n",
        "\n",
        "// output table\n",
        "// output_symbol = otable[current_state][input_letter]\n",
        "int otable[NUM_STATE][NUM_INPUTLETTERS] = {\n",
        "  {0, 0}, // state No.0\n",
        "  {0, 0}, // state No.1\n",
        "  {1, 1}  // state No.2\n",
        "};\n",
        "// -------------------------------\n",
        "\n",
        "// Main body of Mealy machine\n",
        "// ss: start state\n",
        "int mealymachine(int ss){\n",
        "  int c; // character as input\n",
        "  int t; // input letter (expressd by integer)\n",
        "  int cs; // current state\n",
        "  int ns; // next state\n",
        "\n",
        "  printf(\"Input Output    : 1st  input => \"); // header\n",
        "\n",
        "  // set the starting state to cs (current state)\n",
        "  cs = ss;\n",
        "\n",
        "  while ((c = getc(stdin)) != EOF) {\n",
        "    // quick hack (instead of atoi())\n",
        "    t = c - '0';\n",
        "\n",
        "    // input symbol check\n",
        "    if (t >= 0 && t < NUM_INPUTLETTERS) {\n",
        "\n",
        "      // Transition\n",
        "      ns = ttable[cs][t];\n",
        "      printf (\"    %d      %d    : next input => \", t, otable[cs][t]);\n",
        "\n",
        "      // no acceptance node(s)\n",
        "\n",
        "      // move to next\n",
        "      cs = ns;\n",
        "    }\n",
        "  }\n",
        "\n",
        "  return 0;\n",
        "}\n",
        "\n",
        "// Main function\n",
        "int main(int argc, char *argv[]){\n",
        "\n",
        "  mealymachine(INITSTATE);\n",
        "  return 0;\n",
        "}\n"
      ]
    },
    {
      "cell_type": "markdown",
      "metadata": {
        "id": "R2CEPCWpAQDD"
      },
      "source": [
        "コンパイルして実行ファイルを生成する．"
      ]
    },
    {
      "cell_type": "code",
      "execution_count": null,
      "metadata": {
        "id": "UcFL-3AR8XSu"
      },
      "outputs": [],
      "source": [
        "!gcc -Wall -o FA-mealy FA-mealy.c"
      ]
    },
    {
      "cell_type": "markdown",
      "metadata": {
        "id": "CxBI4UbEcB9L"
      },
      "source": [
        "実行してみよう．  \n",
        "終了したいときは，コードセルの左上をクリックすれば強制停止できる．"
      ]
    },
    {
      "cell_type": "code",
      "execution_count": null,
      "metadata": {
        "colab": {
          "background_save": true
        },
        "id": "O3zzVD4tcA3h"
      },
      "outputs": [],
      "source": [
        "!./FA-mealy"
      ]
    },
    {
      "cell_type": "markdown",
      "metadata": {
        "id": "bStYIhaRc_Ng"
      },
      "source": [
        "このプログラムではミーリーマシンの表現を配列に直接記述している．  \n",
        "テキストファイルからミーリーマシンの表現部分を読み込めるようにすれば，再コンパイルをすることなく，様々なミーリーマシンを実行することが出来るようになる．"
      ]
    },
    {
      "cell_type": "markdown",
      "metadata": {
        "id": "DY_MbwoPf_9h"
      },
      "source": [
        "# 節末課題\n",
        "\n",
        "1. ミーリーマシンのファイルからの読み込み  \n",
        "ミーリーマシンを定義するテキストファイルを用意し，それを読み込んで実行するCプログラムを作成せよ．ただし，入力文字・出力として考えるのは0-9の数字のみでよい．また，状態は0以上の整数で表すこと．また，受理状態についても考慮しなくてよい．テキストファイルの形式については各自で考えてよいが，解説をつけること．  \n",
        "\n",
        "2. 2クロック遅延  \n",
        "2クロック遅延を実現するミーリーマシン表現を考え，このときの状態遷移図を示せ．FA-mealy.cのミーリーマシン定義部のみをそれに従って書き換えて実行し結果を確認せよ．ひとつ前の1.のプログラムを利用し，ミーリーマシンをテキストファイルで用意して実行してもよい．  \n",
        "\n",
        "3. ムーアマシンを実行するCプログラム  \n",
        "FA-mealy.cをもとにして，ムーアマシンを実行するプログラムを作成せよ．\n",
        "\n",
        "4. ムーアマシンによる1クロック遅延の実現  \n",
        "ムーアマシンによって1クロック遅延を実現せよ．状態遷移図を示し，プログラムでも動作確認すること．\n",
        "\n",
        "5. 二進カウンタの作成（ミーリーマシン）    \n",
        "電子回路でいう二進カウンタをミーリーマシン表現で作成せよ．出力は最下位桁だけでよい．状態遷移図を示せ．プログラムを実行して動作確認すること．\n",
        "\n",
        "6. 二進カウンタの作成（ムーアマシン）  \n",
        "電子回路でいう二進カウンタをムーアマシン表現で作成せよ．出力は最下位桁だけでよい．状態遷移図を示せ．プログラムを実行して動作確認すること．\n",
        "\n",
        "\n",
        "\n",
        "\n"
      ]
    },
    {
      "cell_type": "markdown",
      "metadata": {
        "id": "cZ-1SycnqxVa"
      },
      "source": [
        "# 出典\n",
        "\n",
        "筑波大学工学システム学類  \n",
        "データ構造とアルゴリズム  \n",
        "担当：亀田能成  \n",
        "2024/06/26 文言修正\n",
        "2022/06/22 文言修正  \n",
        "2022/06/15 文言修正  \n",
        "2022/06/14 文言修正  \n",
        "2022/05/31 文言修正  \n",
        "2022/04/13 フォルダ構成を更新  \n",
        "2021/06/23 初版"
      ]
    }
  ],
  "metadata": {
    "colab": {
      "provenance": [],
      "include_colab_link": true
    },
    "kernelspec": {
      "display_name": "Python 3",
      "name": "python3"
    }
  },
  "nbformat": 4,
  "nbformat_minor": 0
}