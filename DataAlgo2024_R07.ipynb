{
  "nbformat": 4,
  "nbformat_minor": 0,
  "metadata": {
    "colab": {
      "provenance": [],
      "include_colab_link": true
    },
    "kernelspec": {
      "name": "python3",
      "display_name": "Python 3"
    }
  },
  "cells": [
    {
      "cell_type": "markdown",
      "metadata": {
        "id": "view-in-github",
        "colab_type": "text"
      },
      "source": [
        "<a href=\"https://colab.research.google.com/github/kameda-yoshinari/DataAlgo-UT/blob/main/DataAlgo2024_R07.ipynb\" target=\"_parent\"><img src=\"https://colab.research.google.com/assets/colab-badge.svg\" alt=\"Open In Colab\"/></a>"
      ]
    },
    {
      "cell_type": "markdown",
      "metadata": {
        "id": "-SqpuNOEWS-a"
      },
      "source": [
        "# データ構造とアルゴリズム 第7週課題 (2024/06/05 ver.A)\n",
        "\n",
        "---\n",
        "\n",
        "\n",
        "★下記３要素を**必ず直接書き換えてから**提出すること．\n",
        "\n",
        "* 学籍番号：（ここに記入；例 202099998）\n",
        "* 氏名：（ここに記入；例 筑波太郎）\n",
        "* Colabアカウント：（ここに記入；例 tsukuba.taro.xs@alumni.tsukuba.ac.jp）\n",
        "\n",
        "**学生同士で教えた・教わった・グループワークをした場合，必ず下記の当該行を直接書き換えて記述すること．**  \n",
        "申告があった場合は，論述などで内容が似ていたり，プログラムが似ていても減点はしない．（コピペレベルの同一文などは処罰対象）  \n",
        "**教えた側は加点対象となる．**\n",
        "\n",
        "**[教えた側]**  \n",
        "教えた相手：＜氏名＞　＜学籍番号＞  \n",
        "（何名いてもよい；教えた相手の内容が浅くなってないか確認すること）\n",
        "\n",
        "**[教わった側]**  \n",
        "教わった相手：＜氏名＞　＜学籍番号＞  \n",
        "（何名いてもよい；必ず教えた側に自分の名前を書いてもらうこと）\n",
        "\n",
        "**[グループワーク]**  \n",
        "一緒に行った相手：＜氏名＞　＜学籍番号＞  \n",
        "（何名いてもよいが，必ずお互いの名前を全員記すこと）"
      ]
    },
    {
      "cell_type": "markdown",
      "metadata": {
        "id": "8NUVKBVvmvtw"
      },
      "source": [
        "---\n",
        "# 必須課題7A stable_marriages_Jプログラムの計算量\n",
        "\n",
        "DataAlgo_UT(010)_Matching.ipynb で示した stable-marriages_J プログラムの時間計算量と空間計算量を議論せよ．必要と思われるプログラムコードを適宜挿入して参照せよ．\n"
      ]
    },
    {
      "cell_type": "code",
      "source": [],
      "metadata": {
        "id": "dsYlfgYv8IwT"
      },
      "execution_count": null,
      "outputs": []
    },
    {
      "cell_type": "markdown",
      "metadata": {
        "id": "j_LNv7qr2Jcq"
      },
      "source": [
        "（議論はここに記述）"
      ]
    },
    {
      "cell_type": "markdown",
      "metadata": {
        "id": "TjOgrYW8lAmy"
      },
      "source": [
        "---\n",
        "# 必須課題7B 主専攻振り分けの安定結婚問題化\n",
        "\n",
        "2019年度まで行われていた工学システム学類生主専攻振り分けでは，工学システム学類生1年生全員が，1年生終了時に4主専攻の希望順を提出し，成績上位者から主専攻割り当てが決まることになっていた．  \n",
        "4主専攻の定員合計と，1年生の数が同数の場合，これが安定結婚問題と同じとみなせることを示せ．  \n",
        "形式的に安定結婚問題と同じに扱えるよう、主専攻振り分け問題を定義すればよい．特に，  \n",
        "\n",
        "1. 2種の頂点集合は何か\n",
        "2. 各頂点のその好み順がどう表記されているのか  \n",
        "\n",
        "については具体的に説明すること．  \n",
        "実際に主専攻振り分け問題が解決できるように，明確に説明を行うこと．  \n",
        "なお，学生の成績で同位はないものとする．  \n"
      ]
    },
    {
      "cell_type": "markdown",
      "metadata": {
        "id": "B9Z8A8xin-Ru"
      },
      "source": [
        "（議論はここに記述）"
      ]
    },
    {
      "cell_type": "markdown",
      "metadata": {
        "id": "KmFQYgYnQc2T"
      },
      "source": [
        "---\n",
        "# 必須課題7C stable_marriages_Jプログラムの表示の解説\n",
        "\n",
        "\n",
        "DataAlgo_UT(010)_Matching.ipynb で示した stable-marriages_J プログラム内のstabilitychecker()関数において，不満足ペアがないことを確認している．実行すると，\"Dissatisfied pair check\"の表示行のあと，下記のような行が出力される．これがどうして不満足ペアの確認になっているか，特に記号**A**から**P**に該当する数字や文字の意味を丁寧に説明せよ．（幾つかの記号は同じ内容であることに注意）．</b>  \n",
        "Male_**A** and Female\\_**B** : MPref\\_**C**\\_(**D**)=**E**  -**F**-  MPref\\_**G**\\_(**H**)=**I**  and  FPref\\_**J**\\_(**K**)=**L** -**M**- FPref\\_**N**\\_(**O**)=**P**    \n",
        "\n"
      ]
    },
    {
      "cell_type": "markdown",
      "metadata": {
        "id": "HcK0aWuTQxY4"
      },
      "source": [
        "(議論はここに記述）"
      ]
    },
    {
      "cell_type": "markdown",
      "metadata": {
        "id": "hRiIuzTTANJ_"
      },
      "source": [
        "---\n",
        "---\n",
        "# 発展課題7X 安定結婚とは何か  \n",
        "\n",
        "頂点同数２部グラフの完全マッチングは，「安定結婚」であっても「幸福な結婚」とは言えないかもしれない．おそらく諸君もモヤモヤしているであろう．では，前提が同じままで，「幸福な結婚」を独自に定義して見よ．その定義に従うと完全マッチングである解が常には見つけられないことも示せ．（もちろん可能なら完全マッチングである解が常に見つかるような「幸福な結婚」の独自定義を見つけ出してもよい）"
      ]
    },
    {
      "cell_type": "markdown",
      "metadata": {
        "id": "q4ZmHSMKBGDd"
      },
      "source": [
        "（議論はここに記述）"
      ]
    },
    {
      "cell_type": "markdown",
      "metadata": {
        "id": "sh-BC5I0A0ye"
      },
      "source": [
        "---\n",
        "# 発展課題7Y PreferenceFunctionによる実装  \n",
        "\n",
        "\n",
        "DataAlgo_UT(010)_Matching.ipynb で示した stable-marriages_J プログラムにおいて，smpo[][]やsfpo[][]配列を用いる代わりに，UCBの資料にある通り，忠実にPreferenceFunction(m,f)を実装することで，プログラムを書き換えてみよ．関数は男性用と女性用の２種類が必要なことに注意する．実行結果は当然同じになる．ソースコードの提出に当たっては，PreferenceFunctionの実装に相当する部分とその内容が一目で分かるようコメント等を工夫して施すこと．\n",
        "\n"
      ]
    },
    {
      "cell_type": "code",
      "metadata": {
        "id": "CGz65XfNP1ga"
      },
      "source": [
        "%%writefile Report-7Y.c\n",
        "//(プログラムをここに．ベースはstable-marriages_J.cでよい）"
      ],
      "execution_count": null,
      "outputs": []
    },
    {
      "cell_type": "code",
      "metadata": {
        "id": "5UaRDftA1PLC",
        "colab": {
          "base_uri": "https://localhost:8080/"
        },
        "outputId": "76532bc5-05af-407c-a936-c4b8fded5ff9"
      },
      "source": [
        "!echo \"コンパイルと実行コマンドをここに（提出時に出力をつけておくこと）\""
      ],
      "execution_count": null,
      "outputs": [
        {
          "output_type": "stream",
          "name": "stdout",
          "text": [
            "コンパイルと実行コマンドをここに（提出時に出力をつけておくこと）\n"
          ]
        }
      ]
    },
    {
      "cell_type": "markdown",
      "metadata": {
        "id": "c7rf54NjW5f2"
      },
      "source": [
        "---\n",
        "# 課題提出法\n",
        "\n",
        "筑波大学工学システム学類３年生向け．  \n",
        "FG24711 / FG34711．  \n",
        "\n",
        "必須課題は全て実施すること．\n",
        "発展課題はしなくともよいが，A+取得には発展課題を（全課題提出を通して）1つ以上実施していることが必要条件である．\n",
        "\n",
        "該当するmanabaに課題提出のエントリを設けるので，そこに本**Colab notebookを提出**すること．\n",
        "\n",
        "\n",
        "\n",
        "\n"
      ]
    },
    {
      "cell_type": "markdown",
      "metadata": {
        "id": "wqGH06GbFyUq"
      },
      "source": [
        "# 出典\n",
        "\n",
        "筑波大学工学システム学類  \n",
        "データ構造とアルゴリズム  \n",
        "担当：亀田能成  \n"
      ]
    }
  ]
}